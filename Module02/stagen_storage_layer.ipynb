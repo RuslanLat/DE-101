{
 "cells": [
  {
   "cell_type": "code",
   "execution_count": 6,
   "id": "5ef006a8",
   "metadata": {},
   "outputs": [],
   "source": [
    "# загрузка библиотек\n",
    "import pandas as pd\n",
    "import urllib.parse as up\n",
    "import psycopg2"
   ]
  },
  {
   "cell_type": "markdown",
   "id": "472fb6d7",
   "metadata": {},
   "source": [
    "## 1. Загрузка данных"
   ]
  },
  {
   "cell_type": "markdown",
   "id": "d8a0e323",
   "metadata": {},
   "source": [
    "### 3.1. Таблица заказы - 'orders'"
   ]
  },
  {
   "cell_type": "code",
   "execution_count": 7,
   "id": "51a33ec8",
   "metadata": {},
   "outputs": [
    {
     "data": {
      "text/html": [
       "<div>\n",
       "<style scoped>\n",
       "    .dataframe tbody tr th:only-of-type {\n",
       "        vertical-align: middle;\n",
       "    }\n",
       "\n",
       "    .dataframe tbody tr th {\n",
       "        vertical-align: top;\n",
       "    }\n",
       "\n",
       "    .dataframe thead th {\n",
       "        text-align: right;\n",
       "    }\n",
       "</style>\n",
       "<table border=\"1\" class=\"dataframe\">\n",
       "  <thead>\n",
       "    <tr style=\"text-align: right;\">\n",
       "      <th></th>\n",
       "      <th>Row ID</th>\n",
       "      <th>Order ID</th>\n",
       "      <th>Order Date</th>\n",
       "      <th>Ship Date</th>\n",
       "      <th>Ship Mode</th>\n",
       "      <th>Customer ID</th>\n",
       "      <th>Customer Name</th>\n",
       "      <th>Segment</th>\n",
       "      <th>Country</th>\n",
       "      <th>City</th>\n",
       "      <th>...</th>\n",
       "      <th>Postal Code</th>\n",
       "      <th>Region</th>\n",
       "      <th>Product ID</th>\n",
       "      <th>Category</th>\n",
       "      <th>Sub-Category</th>\n",
       "      <th>Product Name</th>\n",
       "      <th>Sales</th>\n",
       "      <th>Quantity</th>\n",
       "      <th>Discount</th>\n",
       "      <th>Profit</th>\n",
       "    </tr>\n",
       "  </thead>\n",
       "  <tbody>\n",
       "    <tr>\n",
       "      <th>0</th>\n",
       "      <td>1</td>\n",
       "      <td>CA-2018-152156</td>\n",
       "      <td>2018-11-08</td>\n",
       "      <td>2018-11-11</td>\n",
       "      <td>Second Class</td>\n",
       "      <td>CG-12520</td>\n",
       "      <td>Claire Gute</td>\n",
       "      <td>Consumer</td>\n",
       "      <td>United States</td>\n",
       "      <td>Henderson</td>\n",
       "      <td>...</td>\n",
       "      <td>42420.0</td>\n",
       "      <td>South</td>\n",
       "      <td>FUR-BO-10001798</td>\n",
       "      <td>Furniture</td>\n",
       "      <td>Bookcases</td>\n",
       "      <td>Bush Somerset Collection Bookcase</td>\n",
       "      <td>261.9600</td>\n",
       "      <td>2</td>\n",
       "      <td>0.00</td>\n",
       "      <td>41.9136</td>\n",
       "    </tr>\n",
       "    <tr>\n",
       "      <th>1</th>\n",
       "      <td>2</td>\n",
       "      <td>CA-2018-152156</td>\n",
       "      <td>2018-11-08</td>\n",
       "      <td>2018-11-11</td>\n",
       "      <td>Second Class</td>\n",
       "      <td>CG-12520</td>\n",
       "      <td>Claire Gute</td>\n",
       "      <td>Consumer</td>\n",
       "      <td>United States</td>\n",
       "      <td>Henderson</td>\n",
       "      <td>...</td>\n",
       "      <td>42420.0</td>\n",
       "      <td>South</td>\n",
       "      <td>FUR-CH-10000454</td>\n",
       "      <td>Furniture</td>\n",
       "      <td>Chairs</td>\n",
       "      <td>Hon Deluxe Fabric Upholstered Stacking Chairs,...</td>\n",
       "      <td>731.9400</td>\n",
       "      <td>3</td>\n",
       "      <td>0.00</td>\n",
       "      <td>219.5820</td>\n",
       "    </tr>\n",
       "    <tr>\n",
       "      <th>2</th>\n",
       "      <td>3</td>\n",
       "      <td>CA-2018-138688</td>\n",
       "      <td>2018-06-12</td>\n",
       "      <td>2018-06-16</td>\n",
       "      <td>Second Class</td>\n",
       "      <td>DV-13045</td>\n",
       "      <td>Darrin Van Huff</td>\n",
       "      <td>Corporate</td>\n",
       "      <td>United States</td>\n",
       "      <td>Los Angeles</td>\n",
       "      <td>...</td>\n",
       "      <td>90036.0</td>\n",
       "      <td>West</td>\n",
       "      <td>OFF-LA-10000240</td>\n",
       "      <td>Office Supplies</td>\n",
       "      <td>Labels</td>\n",
       "      <td>Self-Adhesive Address Labels for Typewriters b...</td>\n",
       "      <td>14.6200</td>\n",
       "      <td>2</td>\n",
       "      <td>0.00</td>\n",
       "      <td>6.8714</td>\n",
       "    </tr>\n",
       "    <tr>\n",
       "      <th>3</th>\n",
       "      <td>4</td>\n",
       "      <td>US-2017-108966</td>\n",
       "      <td>2017-10-11</td>\n",
       "      <td>2017-10-18</td>\n",
       "      <td>Standard Class</td>\n",
       "      <td>SO-20335</td>\n",
       "      <td>Sean O'Donnell</td>\n",
       "      <td>Consumer</td>\n",
       "      <td>United States</td>\n",
       "      <td>Fort Lauderdale</td>\n",
       "      <td>...</td>\n",
       "      <td>33311.0</td>\n",
       "      <td>South</td>\n",
       "      <td>FUR-TA-10000577</td>\n",
       "      <td>Furniture</td>\n",
       "      <td>Tables</td>\n",
       "      <td>Bretford CR4500 Series Slim Rectangular Table</td>\n",
       "      <td>957.5775</td>\n",
       "      <td>5</td>\n",
       "      <td>0.45</td>\n",
       "      <td>-383.0310</td>\n",
       "    </tr>\n",
       "    <tr>\n",
       "      <th>4</th>\n",
       "      <td>5</td>\n",
       "      <td>US-2017-108966</td>\n",
       "      <td>2017-10-11</td>\n",
       "      <td>2017-10-18</td>\n",
       "      <td>Standard Class</td>\n",
       "      <td>SO-20335</td>\n",
       "      <td>Sean O'Donnell</td>\n",
       "      <td>Consumer</td>\n",
       "      <td>United States</td>\n",
       "      <td>Fort Lauderdale</td>\n",
       "      <td>...</td>\n",
       "      <td>33311.0</td>\n",
       "      <td>South</td>\n",
       "      <td>OFF-ST-10000760</td>\n",
       "      <td>Office Supplies</td>\n",
       "      <td>Storage</td>\n",
       "      <td>Eldon Fold 'N Roll Cart System</td>\n",
       "      <td>22.3680</td>\n",
       "      <td>2</td>\n",
       "      <td>0.20</td>\n",
       "      <td>2.5164</td>\n",
       "    </tr>\n",
       "  </tbody>\n",
       "</table>\n",
       "<p>5 rows × 21 columns</p>\n",
       "</div>"
      ],
      "text/plain": [
       "   Row ID        Order ID Order Date  Ship Date       Ship Mode Customer ID  \\\n",
       "0       1  CA-2018-152156 2018-11-08 2018-11-11    Second Class    CG-12520   \n",
       "1       2  CA-2018-152156 2018-11-08 2018-11-11    Second Class    CG-12520   \n",
       "2       3  CA-2018-138688 2018-06-12 2018-06-16    Second Class    DV-13045   \n",
       "3       4  US-2017-108966 2017-10-11 2017-10-18  Standard Class    SO-20335   \n",
       "4       5  US-2017-108966 2017-10-11 2017-10-18  Standard Class    SO-20335   \n",
       "\n",
       "     Customer Name    Segment        Country             City  ...  \\\n",
       "0      Claire Gute   Consumer  United States        Henderson  ...   \n",
       "1      Claire Gute   Consumer  United States        Henderson  ...   \n",
       "2  Darrin Van Huff  Corporate  United States      Los Angeles  ...   \n",
       "3   Sean O'Donnell   Consumer  United States  Fort Lauderdale  ...   \n",
       "4   Sean O'Donnell   Consumer  United States  Fort Lauderdale  ...   \n",
       "\n",
       "  Postal Code  Region       Product ID         Category Sub-Category  \\\n",
       "0     42420.0   South  FUR-BO-10001798        Furniture    Bookcases   \n",
       "1     42420.0   South  FUR-CH-10000454        Furniture       Chairs   \n",
       "2     90036.0    West  OFF-LA-10000240  Office Supplies       Labels   \n",
       "3     33311.0   South  FUR-TA-10000577        Furniture       Tables   \n",
       "4     33311.0   South  OFF-ST-10000760  Office Supplies      Storage   \n",
       "\n",
       "                                        Product Name     Sales  Quantity  \\\n",
       "0                  Bush Somerset Collection Bookcase  261.9600         2   \n",
       "1  Hon Deluxe Fabric Upholstered Stacking Chairs,...  731.9400         3   \n",
       "2  Self-Adhesive Address Labels for Typewriters b...   14.6200         2   \n",
       "3      Bretford CR4500 Series Slim Rectangular Table  957.5775         5   \n",
       "4                     Eldon Fold 'N Roll Cart System   22.3680         2   \n",
       "\n",
       "   Discount    Profit  \n",
       "0      0.00   41.9136  \n",
       "1      0.00  219.5820  \n",
       "2      0.00    6.8714  \n",
       "3      0.45 -383.0310  \n",
       "4      0.20    2.5164  \n",
       "\n",
       "[5 rows x 21 columns]"
      ]
     },
     "execution_count": 7,
     "metadata": {},
     "output_type": "execute_result"
    }
   ],
   "source": [
    "# загрузка данных по продажам\n",
    "df_orders = pd.read_excel('data/Sample - Superstore.xls', sheet_name='Orders') #index_col='Row ID'\n",
    "df_orders.head()"
   ]
  },
  {
   "cell_type": "code",
   "execution_count": 8,
   "id": "30d31bbd",
   "metadata": {},
   "outputs": [
    {
     "name": "stdout",
     "output_type": "stream",
     "text": [
      "<class 'pandas.core.frame.DataFrame'>\n",
      "RangeIndex: 9994 entries, 0 to 9993\n",
      "Data columns (total 21 columns):\n",
      " #   Column         Non-Null Count  Dtype         \n",
      "---  ------         --------------  -----         \n",
      " 0   Row ID         9994 non-null   int64         \n",
      " 1   Order ID       9994 non-null   object        \n",
      " 2   Order Date     9994 non-null   datetime64[ns]\n",
      " 3   Ship Date      9994 non-null   datetime64[ns]\n",
      " 4   Ship Mode      9994 non-null   object        \n",
      " 5   Customer ID    9994 non-null   object        \n",
      " 6   Customer Name  9994 non-null   object        \n",
      " 7   Segment        9994 non-null   object        \n",
      " 8   Country        9994 non-null   object        \n",
      " 9   City           9994 non-null   object        \n",
      " 10  State          9994 non-null   object        \n",
      " 11  Postal Code    9983 non-null   float64       \n",
      " 12  Region         9994 non-null   object        \n",
      " 13  Product ID     9994 non-null   object        \n",
      " 14  Category       9994 non-null   object        \n",
      " 15  Sub-Category   9994 non-null   object        \n",
      " 16  Product Name   9994 non-null   object        \n",
      " 17  Sales          9994 non-null   float64       \n",
      " 18  Quantity       9994 non-null   int64         \n",
      " 19  Discount       9994 non-null   float64       \n",
      " 20  Profit         9994 non-null   float64       \n",
      "dtypes: datetime64[ns](2), float64(4), int64(2), object(13)\n",
      "memory usage: 1.6+ MB\n"
     ]
    }
   ],
   "source": [
    "# просмотр структуры данных по продажам\n",
    "df_orders.info()"
   ]
  },
  {
   "cell_type": "code",
   "execution_count": 9,
   "id": "b20ebc0d",
   "metadata": {},
   "outputs": [
    {
     "data": {
      "text/plain": [
       "Row ID            0\n",
       "Order ID          0\n",
       "Order Date        0\n",
       "Ship Date         0\n",
       "Ship Mode         0\n",
       "Customer ID       0\n",
       "Customer Name     0\n",
       "Segment           0\n",
       "Country           0\n",
       "City              0\n",
       "State             0\n",
       "Postal Code      11\n",
       "Region            0\n",
       "Product ID        0\n",
       "Category          0\n",
       "Sub-Category      0\n",
       "Product Name      0\n",
       "Sales             0\n",
       "Quantity          0\n",
       "Discount          0\n",
       "Profit            0\n",
       "dtype: int64"
      ]
     },
     "execution_count": 9,
     "metadata": {},
     "output_type": "execute_result"
    }
   ],
   "source": [
    "# проверка на наличие пропусков\n",
    "df_orders.isna().sum()"
   ]
  },
  {
   "cell_type": "markdown",
   "id": "fa96eaeb",
   "metadata": {},
   "source": [
    "Имеется **11** пропусков в данных почтового индекса, атрибут - **'Postal Code'**"
   ]
  },
  {
   "cell_type": "code",
   "execution_count": 10,
   "id": "785555d2",
   "metadata": {},
   "outputs": [
    {
     "data": {
      "text/html": [
       "<div>\n",
       "<style scoped>\n",
       "    .dataframe tbody tr th:only-of-type {\n",
       "        vertical-align: middle;\n",
       "    }\n",
       "\n",
       "    .dataframe tbody tr th {\n",
       "        vertical-align: top;\n",
       "    }\n",
       "\n",
       "    .dataframe thead th {\n",
       "        text-align: right;\n",
       "    }\n",
       "</style>\n",
       "<table border=\"1\" class=\"dataframe\">\n",
       "  <thead>\n",
       "    <tr style=\"text-align: right;\">\n",
       "      <th></th>\n",
       "      <th>Country</th>\n",
       "      <th>City</th>\n",
       "      <th>State</th>\n",
       "      <th>Postal Code</th>\n",
       "    </tr>\n",
       "  </thead>\n",
       "  <tbody>\n",
       "    <tr>\n",
       "      <th>2234</th>\n",
       "      <td>United States</td>\n",
       "      <td>Burlington</td>\n",
       "      <td>Vermont</td>\n",
       "      <td>NaN</td>\n",
       "    </tr>\n",
       "    <tr>\n",
       "      <th>5274</th>\n",
       "      <td>United States</td>\n",
       "      <td>Burlington</td>\n",
       "      <td>Vermont</td>\n",
       "      <td>NaN</td>\n",
       "    </tr>\n",
       "    <tr>\n",
       "      <th>8798</th>\n",
       "      <td>United States</td>\n",
       "      <td>Burlington</td>\n",
       "      <td>Vermont</td>\n",
       "      <td>NaN</td>\n",
       "    </tr>\n",
       "    <tr>\n",
       "      <th>9146</th>\n",
       "      <td>United States</td>\n",
       "      <td>Burlington</td>\n",
       "      <td>Vermont</td>\n",
       "      <td>NaN</td>\n",
       "    </tr>\n",
       "    <tr>\n",
       "      <th>9147</th>\n",
       "      <td>United States</td>\n",
       "      <td>Burlington</td>\n",
       "      <td>Vermont</td>\n",
       "      <td>NaN</td>\n",
       "    </tr>\n",
       "    <tr>\n",
       "      <th>9148</th>\n",
       "      <td>United States</td>\n",
       "      <td>Burlington</td>\n",
       "      <td>Vermont</td>\n",
       "      <td>NaN</td>\n",
       "    </tr>\n",
       "    <tr>\n",
       "      <th>9386</th>\n",
       "      <td>United States</td>\n",
       "      <td>Burlington</td>\n",
       "      <td>Vermont</td>\n",
       "      <td>NaN</td>\n",
       "    </tr>\n",
       "    <tr>\n",
       "      <th>9387</th>\n",
       "      <td>United States</td>\n",
       "      <td>Burlington</td>\n",
       "      <td>Vermont</td>\n",
       "      <td>NaN</td>\n",
       "    </tr>\n",
       "    <tr>\n",
       "      <th>9388</th>\n",
       "      <td>United States</td>\n",
       "      <td>Burlington</td>\n",
       "      <td>Vermont</td>\n",
       "      <td>NaN</td>\n",
       "    </tr>\n",
       "    <tr>\n",
       "      <th>9389</th>\n",
       "      <td>United States</td>\n",
       "      <td>Burlington</td>\n",
       "      <td>Vermont</td>\n",
       "      <td>NaN</td>\n",
       "    </tr>\n",
       "    <tr>\n",
       "      <th>9741</th>\n",
       "      <td>United States</td>\n",
       "      <td>Burlington</td>\n",
       "      <td>Vermont</td>\n",
       "      <td>NaN</td>\n",
       "    </tr>\n",
       "  </tbody>\n",
       "</table>\n",
       "</div>"
      ],
      "text/plain": [
       "            Country        City    State  Postal Code\n",
       "2234  United States  Burlington  Vermont          NaN\n",
       "5274  United States  Burlington  Vermont          NaN\n",
       "8798  United States  Burlington  Vermont          NaN\n",
       "9146  United States  Burlington  Vermont          NaN\n",
       "9147  United States  Burlington  Vermont          NaN\n",
       "9148  United States  Burlington  Vermont          NaN\n",
       "9386  United States  Burlington  Vermont          NaN\n",
       "9387  United States  Burlington  Vermont          NaN\n",
       "9388  United States  Burlington  Vermont          NaN\n",
       "9389  United States  Burlington  Vermont          NaN\n",
       "9741  United States  Burlington  Vermont          NaN"
      ]
     },
     "execution_count": 10,
     "metadata": {},
     "output_type": "execute_result"
    }
   ],
   "source": [
    "# вывод строк с пропущенными значениями почтового индекса\n",
    "df_orders[df_orders['Postal Code'].isna()][['Country', 'City', 'State', 'Postal Code']]"
   ]
  },
  {
   "cell_type": "markdown",
   "id": "17b22c52",
   "metadata": {},
   "source": [
    "Значение почтового индекса отсутствует в городе **Burlington** штат **Vermont**"
   ]
  },
  {
   "cell_type": "code",
   "execution_count": 11,
   "id": "ed50b447",
   "metadata": {},
   "outputs": [
    {
     "data": {
      "text/html": [
       "<div>\n",
       "<style scoped>\n",
       "    .dataframe tbody tr th:only-of-type {\n",
       "        vertical-align: middle;\n",
       "    }\n",
       "\n",
       "    .dataframe tbody tr th {\n",
       "        vertical-align: top;\n",
       "    }\n",
       "\n",
       "    .dataframe thead th {\n",
       "        text-align: right;\n",
       "    }\n",
       "</style>\n",
       "<table border=\"1\" class=\"dataframe\">\n",
       "  <thead>\n",
       "    <tr style=\"text-align: right;\">\n",
       "      <th></th>\n",
       "      <th>Country</th>\n",
       "      <th>City</th>\n",
       "      <th>State</th>\n",
       "      <th>Postal Code</th>\n",
       "    </tr>\n",
       "  </thead>\n",
       "  <tbody>\n",
       "    <tr>\n",
       "      <th>2234</th>\n",
       "      <td>United States</td>\n",
       "      <td>Burlington</td>\n",
       "      <td>Vermont</td>\n",
       "      <td>NaN</td>\n",
       "    </tr>\n",
       "    <tr>\n",
       "      <th>5274</th>\n",
       "      <td>United States</td>\n",
       "      <td>Burlington</td>\n",
       "      <td>Vermont</td>\n",
       "      <td>NaN</td>\n",
       "    </tr>\n",
       "    <tr>\n",
       "      <th>8798</th>\n",
       "      <td>United States</td>\n",
       "      <td>Burlington</td>\n",
       "      <td>Vermont</td>\n",
       "      <td>NaN</td>\n",
       "    </tr>\n",
       "    <tr>\n",
       "      <th>9146</th>\n",
       "      <td>United States</td>\n",
       "      <td>Burlington</td>\n",
       "      <td>Vermont</td>\n",
       "      <td>NaN</td>\n",
       "    </tr>\n",
       "    <tr>\n",
       "      <th>9147</th>\n",
       "      <td>United States</td>\n",
       "      <td>Burlington</td>\n",
       "      <td>Vermont</td>\n",
       "      <td>NaN</td>\n",
       "    </tr>\n",
       "    <tr>\n",
       "      <th>9148</th>\n",
       "      <td>United States</td>\n",
       "      <td>Burlington</td>\n",
       "      <td>Vermont</td>\n",
       "      <td>NaN</td>\n",
       "    </tr>\n",
       "    <tr>\n",
       "      <th>9386</th>\n",
       "      <td>United States</td>\n",
       "      <td>Burlington</td>\n",
       "      <td>Vermont</td>\n",
       "      <td>NaN</td>\n",
       "    </tr>\n",
       "    <tr>\n",
       "      <th>9387</th>\n",
       "      <td>United States</td>\n",
       "      <td>Burlington</td>\n",
       "      <td>Vermont</td>\n",
       "      <td>NaN</td>\n",
       "    </tr>\n",
       "    <tr>\n",
       "      <th>9388</th>\n",
       "      <td>United States</td>\n",
       "      <td>Burlington</td>\n",
       "      <td>Vermont</td>\n",
       "      <td>NaN</td>\n",
       "    </tr>\n",
       "    <tr>\n",
       "      <th>9389</th>\n",
       "      <td>United States</td>\n",
       "      <td>Burlington</td>\n",
       "      <td>Vermont</td>\n",
       "      <td>NaN</td>\n",
       "    </tr>\n",
       "    <tr>\n",
       "      <th>9741</th>\n",
       "      <td>United States</td>\n",
       "      <td>Burlington</td>\n",
       "      <td>Vermont</td>\n",
       "      <td>NaN</td>\n",
       "    </tr>\n",
       "  </tbody>\n",
       "</table>\n",
       "</div>"
      ],
      "text/plain": [
       "            Country        City    State  Postal Code\n",
       "2234  United States  Burlington  Vermont          NaN\n",
       "5274  United States  Burlington  Vermont          NaN\n",
       "8798  United States  Burlington  Vermont          NaN\n",
       "9146  United States  Burlington  Vermont          NaN\n",
       "9147  United States  Burlington  Vermont          NaN\n",
       "9148  United States  Burlington  Vermont          NaN\n",
       "9386  United States  Burlington  Vermont          NaN\n",
       "9387  United States  Burlington  Vermont          NaN\n",
       "9388  United States  Burlington  Vermont          NaN\n",
       "9389  United States  Burlington  Vermont          NaN\n",
       "9741  United States  Burlington  Vermont          NaN"
      ]
     },
     "execution_count": 11,
     "metadata": {},
     "output_type": "execute_result"
    }
   ],
   "source": [
    "# проверка наличия значений почтового индекса в остальных данных для города Burlington штат Vermont\n",
    "df_orders.query('(City == \"Burlington\") & (State == \"Vermont\")')[['Country', 'City', 'State', 'Postal Code']]"
   ]
  },
  {
   "cell_type": "markdown",
   "id": "ce1b05b7",
   "metadata": {},
   "source": [
    "Значения почтового индекса для города Burlington штат Vermont **не найдены**"
   ]
  },
  {
   "cell_type": "markdown",
   "id": "07befd49",
   "metadata": {},
   "source": [
    "Согласно данным сайта [ZIP Code Query](https://vt.postcodebase.com/city/BURLINGTON) почтовый индекс города ***Burlington*** штат ***Vermont*** **5401**"
   ]
  },
  {
   "cell_type": "code",
   "execution_count": 12,
   "id": "aa10c9b7",
   "metadata": {},
   "outputs": [],
   "source": [
    "# заполнение пропусков в данных почтового индекса\n",
    "df_orders['Postal Code'] = df_orders['Postal Code'].fillna(5401)"
   ]
  },
  {
   "cell_type": "code",
   "execution_count": 13,
   "id": "cea2860d",
   "metadata": {},
   "outputs": [
    {
     "data": {
      "text/plain": [
       "Row ID           0\n",
       "Order ID         0\n",
       "Order Date       0\n",
       "Ship Date        0\n",
       "Ship Mode        0\n",
       "Customer ID      0\n",
       "Customer Name    0\n",
       "Segment          0\n",
       "Country          0\n",
       "City             0\n",
       "State            0\n",
       "Postal Code      0\n",
       "Region           0\n",
       "Product ID       0\n",
       "Category         0\n",
       "Sub-Category     0\n",
       "Product Name     0\n",
       "Sales            0\n",
       "Quantity         0\n",
       "Discount         0\n",
       "Profit           0\n",
       "dtype: int64"
      ]
     },
     "execution_count": 13,
     "metadata": {},
     "output_type": "execute_result"
    }
   ],
   "source": [
    "# проверка на наличие пропусков\n",
    "df_orders.isna().sum()"
   ]
  },
  {
   "cell_type": "markdown",
   "id": "8e190366",
   "metadata": {},
   "source": [
    "Пропусков в данных **нет**"
   ]
  },
  {
   "cell_type": "code",
   "execution_count": 15,
   "id": "5f411289",
   "metadata": {},
   "outputs": [
    {
     "data": {
      "text/plain": [
       "0"
      ]
     },
     "execution_count": 15,
     "metadata": {},
     "output_type": "execute_result"
    }
   ],
   "source": [
    "# проверка на наличие дубликатов\n",
    "df_orders.duplicated().sum()"
   ]
  },
  {
   "cell_type": "code",
   "execution_count": 16,
   "id": "f4424d2f",
   "metadata": {},
   "outputs": [
    {
     "data": {
      "text/plain": [
       "1"
      ]
     },
     "execution_count": 16,
     "metadata": {},
     "output_type": "execute_result"
    }
   ],
   "source": [
    "# проверка на наличие дубликатов\n",
    "df_orders.iloc[:,1:].duplicated().sum()"
   ]
  },
  {
   "cell_type": "markdown",
   "id": "31d2b9b4",
   "metadata": {},
   "source": [
    "В данных по продажам присутствует **1 (один)** дубликат"
   ]
  },
  {
   "cell_type": "code",
   "execution_count": 17,
   "id": "1b091764",
   "metadata": {},
   "outputs": [
    {
     "data": {
      "text/html": [
       "<div>\n",
       "<style scoped>\n",
       "    .dataframe tbody tr th:only-of-type {\n",
       "        vertical-align: middle;\n",
       "    }\n",
       "\n",
       "    .dataframe tbody tr th {\n",
       "        vertical-align: top;\n",
       "    }\n",
       "\n",
       "    .dataframe thead th {\n",
       "        text-align: right;\n",
       "    }\n",
       "</style>\n",
       "<table border=\"1\" class=\"dataframe\">\n",
       "  <thead>\n",
       "    <tr style=\"text-align: right;\">\n",
       "      <th></th>\n",
       "      <th>Row ID</th>\n",
       "      <th>Order ID</th>\n",
       "      <th>Order Date</th>\n",
       "      <th>Ship Date</th>\n",
       "      <th>Ship Mode</th>\n",
       "      <th>Customer ID</th>\n",
       "      <th>Customer Name</th>\n",
       "      <th>Segment</th>\n",
       "      <th>Country</th>\n",
       "      <th>City</th>\n",
       "      <th>...</th>\n",
       "      <th>Postal Code</th>\n",
       "      <th>Region</th>\n",
       "      <th>Product ID</th>\n",
       "      <th>Category</th>\n",
       "      <th>Sub-Category</th>\n",
       "      <th>Product Name</th>\n",
       "      <th>Sales</th>\n",
       "      <th>Quantity</th>\n",
       "      <th>Discount</th>\n",
       "      <th>Profit</th>\n",
       "    </tr>\n",
       "  </thead>\n",
       "  <tbody>\n",
       "    <tr>\n",
       "      <th>3405</th>\n",
       "      <td>3406</td>\n",
       "      <td>US-2016-150119</td>\n",
       "      <td>2016-04-23</td>\n",
       "      <td>2016-04-27</td>\n",
       "      <td>Standard Class</td>\n",
       "      <td>LB-16795</td>\n",
       "      <td>Laurel Beltran</td>\n",
       "      <td>Home Office</td>\n",
       "      <td>United States</td>\n",
       "      <td>Columbus</td>\n",
       "      <td>...</td>\n",
       "      <td>43229.0</td>\n",
       "      <td>East</td>\n",
       "      <td>FUR-CH-10002965</td>\n",
       "      <td>Furniture</td>\n",
       "      <td>Chairs</td>\n",
       "      <td>Global Leather Highback Executive Chair with P...</td>\n",
       "      <td>281.372</td>\n",
       "      <td>2</td>\n",
       "      <td>0.3</td>\n",
       "      <td>-12.0588</td>\n",
       "    </tr>\n",
       "    <tr>\n",
       "      <th>3406</th>\n",
       "      <td>3407</td>\n",
       "      <td>US-2016-150119</td>\n",
       "      <td>2016-04-23</td>\n",
       "      <td>2016-04-27</td>\n",
       "      <td>Standard Class</td>\n",
       "      <td>LB-16795</td>\n",
       "      <td>Laurel Beltran</td>\n",
       "      <td>Home Office</td>\n",
       "      <td>United States</td>\n",
       "      <td>Columbus</td>\n",
       "      <td>...</td>\n",
       "      <td>43229.0</td>\n",
       "      <td>East</td>\n",
       "      <td>FUR-CH-10002965</td>\n",
       "      <td>Furniture</td>\n",
       "      <td>Chairs</td>\n",
       "      <td>Global Leather Highback Executive Chair with P...</td>\n",
       "      <td>281.372</td>\n",
       "      <td>2</td>\n",
       "      <td>0.3</td>\n",
       "      <td>-12.0588</td>\n",
       "    </tr>\n",
       "  </tbody>\n",
       "</table>\n",
       "<p>2 rows × 21 columns</p>\n",
       "</div>"
      ],
      "text/plain": [
       "      Row ID        Order ID Order Date  Ship Date       Ship Mode  \\\n",
       "3405    3406  US-2016-150119 2016-04-23 2016-04-27  Standard Class   \n",
       "3406    3407  US-2016-150119 2016-04-23 2016-04-27  Standard Class   \n",
       "\n",
       "     Customer ID   Customer Name      Segment        Country      City  ...  \\\n",
       "3405    LB-16795  Laurel Beltran  Home Office  United States  Columbus  ...   \n",
       "3406    LB-16795  Laurel Beltran  Home Office  United States  Columbus  ...   \n",
       "\n",
       "     Postal Code  Region       Product ID   Category Sub-Category  \\\n",
       "3405     43229.0    East  FUR-CH-10002965  Furniture       Chairs   \n",
       "3406     43229.0    East  FUR-CH-10002965  Furniture       Chairs   \n",
       "\n",
       "                                           Product Name    Sales  Quantity  \\\n",
       "3405  Global Leather Highback Executive Chair with P...  281.372         2   \n",
       "3406  Global Leather Highback Executive Chair with P...  281.372         2   \n",
       "\n",
       "      Discount   Profit  \n",
       "3405       0.3 -12.0588  \n",
       "3406       0.3 -12.0588  \n",
       "\n",
       "[2 rows x 21 columns]"
      ]
     },
     "execution_count": 17,
     "metadata": {},
     "output_type": "execute_result"
    }
   ],
   "source": [
    "# вывод дубликатов\n",
    "df_orders[df_orders.iloc[:,1:].duplicated(keep=False)]"
   ]
  },
  {
   "cell_type": "code",
   "execution_count": 18,
   "id": "6e4219fb",
   "metadata": {},
   "outputs": [
    {
     "data": {
      "text/plain": [
       "(9994, 21)"
      ]
     },
     "execution_count": 18,
     "metadata": {},
     "output_type": "execute_result"
    }
   ],
   "source": [
    "# размерность данных \n",
    "df_orders.shape"
   ]
  },
  {
   "cell_type": "code",
   "execution_count": 19,
   "id": "14314678",
   "metadata": {},
   "outputs": [
    {
     "data": {
      "text/html": [
       "<div>\n",
       "<style scoped>\n",
       "    .dataframe tbody tr th:only-of-type {\n",
       "        vertical-align: middle;\n",
       "    }\n",
       "\n",
       "    .dataframe tbody tr th {\n",
       "        vertical-align: top;\n",
       "    }\n",
       "\n",
       "    .dataframe thead th {\n",
       "        text-align: right;\n",
       "    }\n",
       "</style>\n",
       "<table border=\"1\" class=\"dataframe\">\n",
       "  <thead>\n",
       "    <tr style=\"text-align: right;\">\n",
       "      <th></th>\n",
       "      <th>Row ID</th>\n",
       "      <th>Order ID</th>\n",
       "      <th>Order Date</th>\n",
       "      <th>Ship Date</th>\n",
       "      <th>Ship Mode</th>\n",
       "      <th>Customer ID</th>\n",
       "      <th>Customer Name</th>\n",
       "      <th>Segment</th>\n",
       "      <th>Country</th>\n",
       "      <th>City</th>\n",
       "      <th>...</th>\n",
       "      <th>Postal Code</th>\n",
       "      <th>Region</th>\n",
       "      <th>Product ID</th>\n",
       "      <th>Category</th>\n",
       "      <th>Sub-Category</th>\n",
       "      <th>Product Name</th>\n",
       "      <th>Sales</th>\n",
       "      <th>Quantity</th>\n",
       "      <th>Discount</th>\n",
       "      <th>Profit</th>\n",
       "    </tr>\n",
       "  </thead>\n",
       "  <tbody>\n",
       "    <tr>\n",
       "      <th>0</th>\n",
       "      <td>1</td>\n",
       "      <td>CA-2018-152156</td>\n",
       "      <td>2018-11-08</td>\n",
       "      <td>2018-11-11</td>\n",
       "      <td>Second Class</td>\n",
       "      <td>CG-12520</td>\n",
       "      <td>Claire Gute</td>\n",
       "      <td>Consumer</td>\n",
       "      <td>United States</td>\n",
       "      <td>Henderson</td>\n",
       "      <td>...</td>\n",
       "      <td>42420.0</td>\n",
       "      <td>South</td>\n",
       "      <td>FUR-BO-10001798</td>\n",
       "      <td>Furniture</td>\n",
       "      <td>Bookcases</td>\n",
       "      <td>Bush Somerset Collection Bookcase</td>\n",
       "      <td>261.9600</td>\n",
       "      <td>2</td>\n",
       "      <td>0.00</td>\n",
       "      <td>41.9136</td>\n",
       "    </tr>\n",
       "    <tr>\n",
       "      <th>1</th>\n",
       "      <td>2</td>\n",
       "      <td>CA-2018-152156</td>\n",
       "      <td>2018-11-08</td>\n",
       "      <td>2018-11-11</td>\n",
       "      <td>Second Class</td>\n",
       "      <td>CG-12520</td>\n",
       "      <td>Claire Gute</td>\n",
       "      <td>Consumer</td>\n",
       "      <td>United States</td>\n",
       "      <td>Henderson</td>\n",
       "      <td>...</td>\n",
       "      <td>42420.0</td>\n",
       "      <td>South</td>\n",
       "      <td>FUR-CH-10000454</td>\n",
       "      <td>Furniture</td>\n",
       "      <td>Chairs</td>\n",
       "      <td>Hon Deluxe Fabric Upholstered Stacking Chairs,...</td>\n",
       "      <td>731.9400</td>\n",
       "      <td>3</td>\n",
       "      <td>0.00</td>\n",
       "      <td>219.5820</td>\n",
       "    </tr>\n",
       "    <tr>\n",
       "      <th>2</th>\n",
       "      <td>3</td>\n",
       "      <td>CA-2018-138688</td>\n",
       "      <td>2018-06-12</td>\n",
       "      <td>2018-06-16</td>\n",
       "      <td>Second Class</td>\n",
       "      <td>DV-13045</td>\n",
       "      <td>Darrin Van Huff</td>\n",
       "      <td>Corporate</td>\n",
       "      <td>United States</td>\n",
       "      <td>Los Angeles</td>\n",
       "      <td>...</td>\n",
       "      <td>90036.0</td>\n",
       "      <td>West</td>\n",
       "      <td>OFF-LA-10000240</td>\n",
       "      <td>Office Supplies</td>\n",
       "      <td>Labels</td>\n",
       "      <td>Self-Adhesive Address Labels for Typewriters b...</td>\n",
       "      <td>14.6200</td>\n",
       "      <td>2</td>\n",
       "      <td>0.00</td>\n",
       "      <td>6.8714</td>\n",
       "    </tr>\n",
       "    <tr>\n",
       "      <th>3</th>\n",
       "      <td>4</td>\n",
       "      <td>US-2017-108966</td>\n",
       "      <td>2017-10-11</td>\n",
       "      <td>2017-10-18</td>\n",
       "      <td>Standard Class</td>\n",
       "      <td>SO-20335</td>\n",
       "      <td>Sean O'Donnell</td>\n",
       "      <td>Consumer</td>\n",
       "      <td>United States</td>\n",
       "      <td>Fort Lauderdale</td>\n",
       "      <td>...</td>\n",
       "      <td>33311.0</td>\n",
       "      <td>South</td>\n",
       "      <td>FUR-TA-10000577</td>\n",
       "      <td>Furniture</td>\n",
       "      <td>Tables</td>\n",
       "      <td>Bretford CR4500 Series Slim Rectangular Table</td>\n",
       "      <td>957.5775</td>\n",
       "      <td>5</td>\n",
       "      <td>0.45</td>\n",
       "      <td>-383.0310</td>\n",
       "    </tr>\n",
       "    <tr>\n",
       "      <th>4</th>\n",
       "      <td>5</td>\n",
       "      <td>US-2017-108966</td>\n",
       "      <td>2017-10-11</td>\n",
       "      <td>2017-10-18</td>\n",
       "      <td>Standard Class</td>\n",
       "      <td>SO-20335</td>\n",
       "      <td>Sean O'Donnell</td>\n",
       "      <td>Consumer</td>\n",
       "      <td>United States</td>\n",
       "      <td>Fort Lauderdale</td>\n",
       "      <td>...</td>\n",
       "      <td>33311.0</td>\n",
       "      <td>South</td>\n",
       "      <td>OFF-ST-10000760</td>\n",
       "      <td>Office Supplies</td>\n",
       "      <td>Storage</td>\n",
       "      <td>Eldon Fold 'N Roll Cart System</td>\n",
       "      <td>22.3680</td>\n",
       "      <td>2</td>\n",
       "      <td>0.20</td>\n",
       "      <td>2.5164</td>\n",
       "    </tr>\n",
       "  </tbody>\n",
       "</table>\n",
       "<p>5 rows × 21 columns</p>\n",
       "</div>"
      ],
      "text/plain": [
       "   Row ID        Order ID Order Date  Ship Date       Ship Mode Customer ID  \\\n",
       "0       1  CA-2018-152156 2018-11-08 2018-11-11    Second Class    CG-12520   \n",
       "1       2  CA-2018-152156 2018-11-08 2018-11-11    Second Class    CG-12520   \n",
       "2       3  CA-2018-138688 2018-06-12 2018-06-16    Second Class    DV-13045   \n",
       "3       4  US-2017-108966 2017-10-11 2017-10-18  Standard Class    SO-20335   \n",
       "4       5  US-2017-108966 2017-10-11 2017-10-18  Standard Class    SO-20335   \n",
       "\n",
       "     Customer Name    Segment        Country             City  ...  \\\n",
       "0      Claire Gute   Consumer  United States        Henderson  ...   \n",
       "1      Claire Gute   Consumer  United States        Henderson  ...   \n",
       "2  Darrin Van Huff  Corporate  United States      Los Angeles  ...   \n",
       "3   Sean O'Donnell   Consumer  United States  Fort Lauderdale  ...   \n",
       "4   Sean O'Donnell   Consumer  United States  Fort Lauderdale  ...   \n",
       "\n",
       "  Postal Code  Region       Product ID         Category Sub-Category  \\\n",
       "0     42420.0   South  FUR-BO-10001798        Furniture    Bookcases   \n",
       "1     42420.0   South  FUR-CH-10000454        Furniture       Chairs   \n",
       "2     90036.0    West  OFF-LA-10000240  Office Supplies       Labels   \n",
       "3     33311.0   South  FUR-TA-10000577        Furniture       Tables   \n",
       "4     33311.0   South  OFF-ST-10000760  Office Supplies      Storage   \n",
       "\n",
       "                                        Product Name     Sales  Quantity  \\\n",
       "0                  Bush Somerset Collection Bookcase  261.9600         2   \n",
       "1  Hon Deluxe Fabric Upholstered Stacking Chairs,...  731.9400         3   \n",
       "2  Self-Adhesive Address Labels for Typewriters b...   14.6200         2   \n",
       "3      Bretford CR4500 Series Slim Rectangular Table  957.5775         5   \n",
       "4                     Eldon Fold 'N Roll Cart System   22.3680         2   \n",
       "\n",
       "   Discount    Profit  \n",
       "0      0.00   41.9136  \n",
       "1      0.00  219.5820  \n",
       "2      0.00    6.8714  \n",
       "3      0.45 -383.0310  \n",
       "4      0.20    2.5164  \n",
       "\n",
       "[5 rows x 21 columns]"
      ]
     },
     "execution_count": 19,
     "metadata": {},
     "output_type": "execute_result"
    }
   ],
   "source": [
    "# удаление дубликатов\n",
    "df_orders = df_orders.drop(index=3405).reset_index(drop=True)\n",
    "df_orders.head()"
   ]
  },
  {
   "cell_type": "code",
   "execution_count": 20,
   "id": "9597500d",
   "metadata": {},
   "outputs": [
    {
     "data": {
      "text/plain": [
       "(9993, 21)"
      ]
     },
     "execution_count": 20,
     "metadata": {},
     "output_type": "execute_result"
    }
   ],
   "source": [
    "# размерность данных \n",
    "df_orders.shape"
   ]
  },
  {
   "cell_type": "markdown",
   "id": "78e197df",
   "metadata": {},
   "source": [
    "Дубликаты **удалены**"
   ]
  },
  {
   "cell_type": "markdown",
   "id": "07dfc2e5",
   "metadata": {},
   "source": [
    "### 3.2. Таблица заказы - 'people'"
   ]
  },
  {
   "cell_type": "code",
   "execution_count": 22,
   "id": "01cee89b",
   "metadata": {},
   "outputs": [
    {
     "data": {
      "text/html": [
       "<div>\n",
       "<style scoped>\n",
       "    .dataframe tbody tr th:only-of-type {\n",
       "        vertical-align: middle;\n",
       "    }\n",
       "\n",
       "    .dataframe tbody tr th {\n",
       "        vertical-align: top;\n",
       "    }\n",
       "\n",
       "    .dataframe thead th {\n",
       "        text-align: right;\n",
       "    }\n",
       "</style>\n",
       "<table border=\"1\" class=\"dataframe\">\n",
       "  <thead>\n",
       "    <tr style=\"text-align: right;\">\n",
       "      <th></th>\n",
       "      <th>Person</th>\n",
       "      <th>Region</th>\n",
       "    </tr>\n",
       "  </thead>\n",
       "  <tbody>\n",
       "    <tr>\n",
       "      <th>0</th>\n",
       "      <td>Anna Andreadi</td>\n",
       "      <td>West</td>\n",
       "    </tr>\n",
       "    <tr>\n",
       "      <th>1</th>\n",
       "      <td>Chuck Magee</td>\n",
       "      <td>East</td>\n",
       "    </tr>\n",
       "    <tr>\n",
       "      <th>2</th>\n",
       "      <td>Kelly Williams</td>\n",
       "      <td>Central</td>\n",
       "    </tr>\n",
       "    <tr>\n",
       "      <th>3</th>\n",
       "      <td>Cassandra Brandow</td>\n",
       "      <td>South</td>\n",
       "    </tr>\n",
       "  </tbody>\n",
       "</table>\n",
       "</div>"
      ],
      "text/plain": [
       "              Person   Region\n",
       "0      Anna Andreadi     West\n",
       "1        Chuck Magee     East\n",
       "2     Kelly Williams  Central\n",
       "3  Cassandra Brandow    South"
      ]
     },
     "execution_count": 22,
     "metadata": {},
     "output_type": "execute_result"
    }
   ],
   "source": [
    "# загрузка данных по менеджерам\n",
    "df_people = pd.read_excel('data/Sample - Superstore.xls', sheet_name='People')\n",
    "df_people.head()"
   ]
  },
  {
   "cell_type": "markdown",
   "id": "a9062f3e",
   "metadata": {},
   "source": [
    "### 3.3. Таблица заказы - 'returns'"
   ]
  },
  {
   "cell_type": "code",
   "execution_count": 23,
   "id": "1bb9d833",
   "metadata": {},
   "outputs": [
    {
     "data": {
      "text/html": [
       "<div>\n",
       "<style scoped>\n",
       "    .dataframe tbody tr th:only-of-type {\n",
       "        vertical-align: middle;\n",
       "    }\n",
       "\n",
       "    .dataframe tbody tr th {\n",
       "        vertical-align: top;\n",
       "    }\n",
       "\n",
       "    .dataframe thead th {\n",
       "        text-align: right;\n",
       "    }\n",
       "</style>\n",
       "<table border=\"1\" class=\"dataframe\">\n",
       "  <thead>\n",
       "    <tr style=\"text-align: right;\">\n",
       "      <th></th>\n",
       "      <th>Returned</th>\n",
       "      <th>Order ID</th>\n",
       "    </tr>\n",
       "  </thead>\n",
       "  <tbody>\n",
       "    <tr>\n",
       "      <th>0</th>\n",
       "      <td>Yes</td>\n",
       "      <td>CA-2016-100762</td>\n",
       "    </tr>\n",
       "    <tr>\n",
       "      <th>1</th>\n",
       "      <td>Yes</td>\n",
       "      <td>CA-2016-100762</td>\n",
       "    </tr>\n",
       "    <tr>\n",
       "      <th>2</th>\n",
       "      <td>Yes</td>\n",
       "      <td>CA-2016-100762</td>\n",
       "    </tr>\n",
       "    <tr>\n",
       "      <th>3</th>\n",
       "      <td>Yes</td>\n",
       "      <td>CA-2016-100762</td>\n",
       "    </tr>\n",
       "    <tr>\n",
       "      <th>4</th>\n",
       "      <td>Yes</td>\n",
       "      <td>CA-2016-100867</td>\n",
       "    </tr>\n",
       "  </tbody>\n",
       "</table>\n",
       "</div>"
      ],
      "text/plain": [
       "  Returned        Order ID\n",
       "0      Yes  CA-2016-100762\n",
       "1      Yes  CA-2016-100762\n",
       "2      Yes  CA-2016-100762\n",
       "3      Yes  CA-2016-100762\n",
       "4      Yes  CA-2016-100867"
      ]
     },
     "execution_count": 23,
     "metadata": {},
     "output_type": "execute_result"
    }
   ],
   "source": [
    "# загрузка данных по возвратам\n",
    "df_returns = pd.read_excel('data/Sample - Superstore.xls', sheet_name='Returns')\n",
    "df_returns.head()"
   ]
  },
  {
   "cell_type": "code",
   "execution_count": 24,
   "id": "76b8c252",
   "metadata": {},
   "outputs": [
    {
     "data": {
      "text/plain": [
       "Returned    0\n",
       "Order ID    0\n",
       "dtype: int64"
      ]
     },
     "execution_count": 24,
     "metadata": {},
     "output_type": "execute_result"
    }
   ],
   "source": [
    "# проверка на наличие пропусков\n",
    "df_returns.isna().sum()"
   ]
  },
  {
   "cell_type": "code",
   "execution_count": 25,
   "id": "8447290f",
   "metadata": {},
   "outputs": [
    {
     "data": {
      "text/plain": [
       "504"
      ]
     },
     "execution_count": 25,
     "metadata": {},
     "output_type": "execute_result"
    }
   ],
   "source": [
    "# проверка на наличие дубликатов\n",
    "df_returns.duplicated().sum()"
   ]
  },
  {
   "cell_type": "markdown",
   "id": "ed611e69",
   "metadata": {},
   "source": [
    "В данных по возвратам **504** повтора"
   ]
  },
  {
   "cell_type": "code",
   "execution_count": 26,
   "id": "3142aedf",
   "metadata": {},
   "outputs": [
    {
     "data": {
      "text/plain": [
       "(800, 2)"
      ]
     },
     "execution_count": 26,
     "metadata": {},
     "output_type": "execute_result"
    }
   ],
   "source": [
    "# размерность данных\n",
    "df_returns.shape"
   ]
  },
  {
   "cell_type": "code",
   "execution_count": 27,
   "id": "d10168da",
   "metadata": {},
   "outputs": [
    {
     "data": {
      "text/html": [
       "<div>\n",
       "<style scoped>\n",
       "    .dataframe tbody tr th:only-of-type {\n",
       "        vertical-align: middle;\n",
       "    }\n",
       "\n",
       "    .dataframe tbody tr th {\n",
       "        vertical-align: top;\n",
       "    }\n",
       "\n",
       "    .dataframe thead th {\n",
       "        text-align: right;\n",
       "    }\n",
       "</style>\n",
       "<table border=\"1\" class=\"dataframe\">\n",
       "  <thead>\n",
       "    <tr style=\"text-align: right;\">\n",
       "      <th></th>\n",
       "      <th>Returned</th>\n",
       "      <th>Order ID</th>\n",
       "    </tr>\n",
       "  </thead>\n",
       "  <tbody>\n",
       "    <tr>\n",
       "      <th>0</th>\n",
       "      <td>Yes</td>\n",
       "      <td>CA-2016-100762</td>\n",
       "    </tr>\n",
       "    <tr>\n",
       "      <th>1</th>\n",
       "      <td>Yes</td>\n",
       "      <td>CA-2016-100867</td>\n",
       "    </tr>\n",
       "    <tr>\n",
       "      <th>2</th>\n",
       "      <td>Yes</td>\n",
       "      <td>CA-2016-102652</td>\n",
       "    </tr>\n",
       "    <tr>\n",
       "      <th>3</th>\n",
       "      <td>Yes</td>\n",
       "      <td>CA-2016-103373</td>\n",
       "    </tr>\n",
       "    <tr>\n",
       "      <th>4</th>\n",
       "      <td>Yes</td>\n",
       "      <td>CA-2016-103744</td>\n",
       "    </tr>\n",
       "  </tbody>\n",
       "</table>\n",
       "</div>"
      ],
      "text/plain": [
       "  Returned        Order ID\n",
       "0      Yes  CA-2016-100762\n",
       "1      Yes  CA-2016-100867\n",
       "2      Yes  CA-2016-102652\n",
       "3      Yes  CA-2016-103373\n",
       "4      Yes  CA-2016-103744"
      ]
     },
     "execution_count": 27,
     "metadata": {},
     "output_type": "execute_result"
    }
   ],
   "source": [
    "# удаление дубликатов\n",
    "df_returns = df_returns.drop_duplicates().reset_index(drop=True)\n",
    "df_returns.head()"
   ]
  },
  {
   "cell_type": "code",
   "execution_count": 28,
   "id": "614b46ba",
   "metadata": {},
   "outputs": [
    {
     "data": {
      "text/plain": [
       "(296, 2)"
      ]
     },
     "execution_count": 28,
     "metadata": {},
     "output_type": "execute_result"
    }
   ],
   "source": [
    "# размерность данных\n",
    "df_returns.shape"
   ]
  },
  {
   "cell_type": "markdown",
   "id": "2667fc11",
   "metadata": {},
   "source": [
    "## 2. Подключение к базе данных"
   ]
  },
  {
   "cell_type": "code",
   "execution_count": 29,
   "id": "1e196f1d",
   "metadata": {},
   "outputs": [],
   "source": [
    "# загрузка конфигурации доступа к базе данных в облаке\n",
    "with open('DATABASE_URL.txt', 'r') as f:\n",
    "    DATABASE_URL = f.read()"
   ]
  },
  {
   "cell_type": "code",
   "execution_count": 30,
   "id": "1c247fd2",
   "metadata": {},
   "outputs": [],
   "source": [
    "# разбивка на компоненты\n",
    "url = up.urlparse(DATABASE_URL)"
   ]
  },
  {
   "cell_type": "code",
   "execution_count": 31,
   "id": "f7e02a62",
   "metadata": {},
   "outputs": [],
   "source": [
    "# создание подключения к базе данны\n",
    "connect = psycopg2.connect(database=url.path[1:],\n",
    "                           user=url.username,\n",
    "                           password=url.password,\n",
    "                           host=url.hostname,\n",
    "                           port=url.port)"
   ]
  },
  {
   "cell_type": "code",
   "execution_count": 32,
   "id": "bf4a9749",
   "metadata": {},
   "outputs": [],
   "source": [
    "# создание объекта курсора подключения к базе данных\n",
    "cursor = connect.cursor()"
   ]
  },
  {
   "cell_type": "markdown",
   "id": "5608af55",
   "metadata": {},
   "source": [
    "## 3. Создание схемы Stagen - Storage Layer"
   ]
  },
  {
   "cell_type": "markdown",
   "id": "af4d0041",
   "metadata": {},
   "source": [
    "![solution_architecture](../Module01/images/solution_architecture.jpg)"
   ]
  },
  {
   "cell_type": "code",
   "execution_count": 33,
   "id": "dd490827",
   "metadata": {},
   "outputs": [],
   "source": [
    "# удаление схемы 'Stagen' если она существует \n",
    "#cursor.execute(\"DROP SCHEMA stg CASCADE;\")\n",
    "#connect.commit() "
   ]
  },
  {
   "cell_type": "code",
   "execution_count": 34,
   "id": "3feff49d",
   "metadata": {
    "scrolled": true
   },
   "outputs": [],
   "source": [
    "# создание схемы 'Stagen' - Storage Layer\n",
    "cursor.execute(\"CREATE SCHEMA stg;\")\n",
    "connect.commit()  "
   ]
  },
  {
   "cell_type": "markdown",
   "id": "b736f732",
   "metadata": {},
   "source": [
    "### 3.1 Создание таблицы заказы - 'Orders'"
   ]
  },
  {
   "cell_type": "code",
   "execution_count": 35,
   "id": "7b53d0bf",
   "metadata": {},
   "outputs": [],
   "source": [
    "# удаление таблицы 'orders' если она существует \n",
    "cursor.execute(\"DROP TABLE IF EXISTS stg.orders;\")\n",
    "connect.commit()  "
   ]
  },
  {
   "cell_type": "code",
   "execution_count": 36,
   "id": "373100af",
   "metadata": {},
   "outputs": [],
   "source": [
    "# создание таблицы заказы - 'orders'\n",
    "cursor.execute(\"CREATE TABLE stg.orders( \\\n",
    "               Row_ID INTEGER PRIMARY KEY GENERATED BY DEFAULT AS IDENTITY, \\\n",
    "               Order_ID VARCHAR(14) NOT NULL, \\\n",
    "               Order_Date DATE NOT NULL, \\\n",
    "               Ship_Date DATE NOT NULL, \\\n",
    "               Ship_Mode VARCHAR(14) NOT NULL, \\\n",
    "               Customer_ID VARCHAR(8) NOT NULL, \\\n",
    "               Customer_Name VARCHAR(22) NOT NULL, \\\n",
    "               Segment VARCHAR(11) NOT NULL, \\\n",
    "               Country VARCHAR(13) NOT NULL, \\\n",
    "               City VARCHAR(17) NOT NULL, \\\n",
    "               State VARCHAR(20) NOT NULL,\\\n",
    "               Postal_Code INTEGER, \\\n",
    "               Region VARCHAR(7) NOT NULL, \\\n",
    "               Product_ID VARCHAR(15) NOT NULL, \\\n",
    "               Category VARCHAR(15) NOT NULL, \\\n",
    "               SubCategory VARCHAR(11) NOT NULL, \\\n",
    "               Product_Name VARCHAR(127) NOT NULL, \\\n",
    "               Sales NUMERIC(9,4) NOT NULL, \\\n",
    "               Quantity INTEGER NOT NULL, \\\n",
    "               Discount NUMERIC(4,2) NOT NULL, \\\n",
    "               Profit NUMERIC(21,16) NOT NULL);\")\n",
    "connect.commit()  "
   ]
  },
  {
   "cell_type": "markdown",
   "id": "f5359f10",
   "metadata": {},
   "source": [
    "### 3.2 Создание таблицы менеджеры - 'People'"
   ]
  },
  {
   "cell_type": "code",
   "execution_count": 37,
   "id": "90bcb107",
   "metadata": {},
   "outputs": [],
   "source": [
    "# удаление таблицы 'people' если она существует\n",
    "cursor.execute(\"DROP TABLE IF EXISTS stg.people;\")\n",
    "connect.commit() "
   ]
  },
  {
   "cell_type": "code",
   "execution_count": 38,
   "id": "0068ca2f",
   "metadata": {},
   "outputs": [],
   "source": [
    "# создание таблицы менеджеры - 'people' \n",
    "cursor.execute(\"CREATE TABLE stg.people( \\\n",
    "                Person VARCHAR(17) NOT NULL PRIMARY KEY, \\\n",
    "                Region VARCHAR(7) NOT NULL);\")\n",
    "connect.commit()"
   ]
  },
  {
   "cell_type": "markdown",
   "id": "0ccce16d",
   "metadata": {},
   "source": [
    "### 3.3 Создание таблицы возвраты -  'Returns'"
   ]
  },
  {
   "cell_type": "code",
   "execution_count": 39,
   "id": "050bb89f",
   "metadata": {},
   "outputs": [],
   "source": [
    "# удаление таблицы 'returns' если она существует\n",
    "cursor.execute(\"DROP TABLE IF EXISTS stg.returns;\")\n",
    "connect.commit() "
   ]
  },
  {
   "cell_type": "code",
   "execution_count": 40,
   "id": "2ecd31ff",
   "metadata": {},
   "outputs": [],
   "source": [
    "# создание таблицы возвраты - 'returns' \n",
    "cursor.execute(\"CREATE TABLE stg.returns( \\\n",
    "                Returned VARCHAR(3) NOT NULL, \\\n",
    "                Order_ID VARCHAR(14) NOT NULL PRIMARY KEY);\")\n",
    "connect.commit()"
   ]
  },
  {
   "cell_type": "code",
   "execution_count": 41,
   "id": "82b73801",
   "metadata": {},
   "outputs": [
    {
     "data": {
      "text/plain": [
       "[('orders',), ('people',), ('returns',)]"
      ]
     },
     "execution_count": 41,
     "metadata": {},
     "output_type": "execute_result"
    }
   ],
   "source": [
    "# вывод наименований таблиц схемы 'Stagen'\n",
    "cursor.execute(\"SELECT table_name FROM information_schema.tables \\\n",
    "             WHERE table_schema = 'stg';\")\n",
    "cursor.fetchall()"
   ]
  },
  {
   "cell_type": "markdown",
   "id": "5957ad86",
   "metadata": {},
   "source": [
    "## 4. Запись данных"
   ]
  },
  {
   "cell_type": "markdown",
   "id": "65ec6504",
   "metadata": {},
   "source": [
    "### 4.1. Таблица заказы - 'Orders'"
   ]
  },
  {
   "cell_type": "code",
   "execution_count": 45,
   "id": "7e0e6391",
   "metadata": {},
   "outputs": [
    {
     "name": "stdout",
     "output_type": "stream",
     "text": [
      "['row_id', 'order_id', 'order_date', 'ship_date', 'ship_mode', 'customer_id', 'customer_name', 'segment', 'country', 'city', 'state', 'postal_code', 'region', 'product_id', 'category', 'subcategory', 'product_name', 'sales', 'quantity', 'discount', 'profit']\n"
     ]
    }
   ],
   "source": [
    "# значение атрибутов в таблице 'orders'\n",
    "cursor.execute(\"SELECT column_name \\\n",
    "             FROM information_schema.columns \\\n",
    "             WHERE table_name = 'orders' AND table_schema = 'stg';\")\n",
    "columnsname = [_[0] for _ in cursor.fetchall()]\n",
    "print(columnsname)"
   ]
  },
  {
   "cell_type": "code",
   "execution_count": 43,
   "id": "e2b1fb5f",
   "metadata": {},
   "outputs": [
    {
     "data": {
      "text/plain": [
       "Index(['Row ID', 'Order ID', 'Order Date', 'Ship Date', 'Ship Mode',\n",
       "       'Customer ID', 'Customer Name', 'Segment', 'Country', 'City', 'State',\n",
       "       'Postal Code', 'Region', 'Product ID', 'Category', 'Sub-Category',\n",
       "       'Product Name', 'Sales', 'Quantity', 'Discount', 'Profit'],\n",
       "      dtype='object')"
      ]
     },
     "execution_count": 43,
     "metadata": {},
     "output_type": "execute_result"
    }
   ],
   "source": [
    "# значение атрибутов в исходном файле 'Superstore.csv'\n",
    "df_orders.columns"
   ]
  },
  {
   "cell_type": "code",
   "execution_count": 51,
   "id": "edd265af",
   "metadata": {},
   "outputs": [
    {
     "data": {
      "text/plain": [
       "array([['CA-2018-152156', Timestamp('2018-11-08 00:00:00'),\n",
       "        Timestamp('2018-11-11 00:00:00'), 'Second Class', 'CG-12520',\n",
       "        'Claire Gute', 'Consumer', 'United States', 'Henderson',\n",
       "        'Kentucky', 42420.0, 'South', 'FUR-BO-10001798', 'Furniture',\n",
       "        'Bookcases', 'Bush Somerset Collection Bookcase', 261.96, 2, 0.0,\n",
       "        41.9136],\n",
       "       ['CA-2018-152156', Timestamp('2018-11-08 00:00:00'),\n",
       "        Timestamp('2018-11-11 00:00:00'), 'Second Class', 'CG-12520',\n",
       "        'Claire Gute', 'Consumer', 'United States', 'Henderson',\n",
       "        'Kentucky', 42420.0, 'South', 'FUR-CH-10000454', 'Furniture',\n",
       "        'Chairs',\n",
       "        'Hon Deluxe Fabric Upholstered Stacking Chairs, Rounded Back',\n",
       "        731.9399999999999, 3, 0.0, 219.58199999999997],\n",
       "       ['CA-2018-138688', Timestamp('2018-06-12 00:00:00'),\n",
       "        Timestamp('2018-06-16 00:00:00'), 'Second Class', 'DV-13045',\n",
       "        'Darrin Van Huff', 'Corporate', 'United States', 'Los Angeles',\n",
       "        'California', 90036.0, 'West', 'OFF-LA-10000240',\n",
       "        'Office Supplies', 'Labels',\n",
       "        'Self-Adhesive Address Labels for Typewriters by Universal',\n",
       "        14.62, 2, 0.0, 6.8713999999999995],\n",
       "       ['US-2017-108966', Timestamp('2017-10-11 00:00:00'),\n",
       "        Timestamp('2017-10-18 00:00:00'), 'Standard Class', 'SO-20335',\n",
       "        \"Sean O'Donnell\", 'Consumer', 'United States', 'Fort Lauderdale',\n",
       "        'Florida', 33311.0, 'South', 'FUR-TA-10000577', 'Furniture',\n",
       "        'Tables', 'Bretford CR4500 Series Slim Rectangular Table',\n",
       "        957.5775, 5, 0.45, -383.03100000000006],\n",
       "       ['US-2017-108966', Timestamp('2017-10-11 00:00:00'),\n",
       "        Timestamp('2017-10-18 00:00:00'), 'Standard Class', 'SO-20335',\n",
       "        \"Sean O'Donnell\", 'Consumer', 'United States', 'Fort Lauderdale',\n",
       "        'Florida', 33311.0, 'South', 'OFF-ST-10000760',\n",
       "        'Office Supplies', 'Storage', \"Eldon Fold 'N Roll Cart System\",\n",
       "        22.368000000000002, 2, 0.2, 2.516399999999999]], dtype=object)"
      ]
     },
     "execution_count": 51,
     "metadata": {},
     "output_type": "execute_result"
    }
   ],
   "source": [
    "# данные для записи в таблицу 'orders'\n",
    "orders = df_orders.iloc[:,1:].values\n",
    "orders[:5]"
   ]
  },
  {
   "cell_type": "code",
   "execution_count": 47,
   "id": "ab595101",
   "metadata": {},
   "outputs": [],
   "source": [
    "# задание формата данных даты\n",
    "cursor.execute(\"SET datestyle to 'ISO, MDY';\")\n",
    "connect.commit()"
   ]
  },
  {
   "cell_type": "code",
   "execution_count": 52,
   "id": "22e01e97",
   "metadata": {},
   "outputs": [],
   "source": [
    "# запись данных в таблицу заказы - 'orders'\n",
    "cursor.executemany(\"INSERT INTO stg.orders( \\\n",
    "                    Order_ID, Order_Date, Ship_Date, Ship_Mode, \\\n",
    "                    Customer_ID, Customer_Name, Segment, \\\n",
    "                    Country, City, State, Postal_Code, Region, \\\n",
    "                    Product_ID, Category, SubCategory, Product_Name, Sales, Quantity, Discount, Profit) \\\n",
    "                    VALUES (%s, %s, %s, %s, %s, %s, %s, %s, %s, %s, \\\n",
    "                            %s, %s, %s, %s, %s, %s, %s, %s, %s, %s);\", orders)\n",
    "connect.commit() "
   ]
  },
  {
   "cell_type": "code",
   "execution_count": 53,
   "id": "1c10bb3c",
   "metadata": {},
   "outputs": [
    {
     "data": {
      "text/html": [
       "<div>\n",
       "<style scoped>\n",
       "    .dataframe tbody tr th:only-of-type {\n",
       "        vertical-align: middle;\n",
       "    }\n",
       "\n",
       "    .dataframe tbody tr th {\n",
       "        vertical-align: top;\n",
       "    }\n",
       "\n",
       "    .dataframe thead th {\n",
       "        text-align: right;\n",
       "    }\n",
       "</style>\n",
       "<table border=\"1\" class=\"dataframe\">\n",
       "  <thead>\n",
       "    <tr style=\"text-align: right;\">\n",
       "      <th></th>\n",
       "      <th>row_id</th>\n",
       "      <th>order_id</th>\n",
       "      <th>order_date</th>\n",
       "      <th>ship_date</th>\n",
       "      <th>ship_mode</th>\n",
       "      <th>customer_id</th>\n",
       "      <th>customer_name</th>\n",
       "      <th>segment</th>\n",
       "      <th>country</th>\n",
       "      <th>city</th>\n",
       "      <th>...</th>\n",
       "      <th>postal_code</th>\n",
       "      <th>region</th>\n",
       "      <th>product_id</th>\n",
       "      <th>category</th>\n",
       "      <th>subcategory</th>\n",
       "      <th>product_name</th>\n",
       "      <th>sales</th>\n",
       "      <th>quantity</th>\n",
       "      <th>discount</th>\n",
       "      <th>profit</th>\n",
       "    </tr>\n",
       "  </thead>\n",
       "  <tbody>\n",
       "    <tr>\n",
       "      <th>0</th>\n",
       "      <td>1</td>\n",
       "      <td>CA-2018-152156</td>\n",
       "      <td>2018-11-08</td>\n",
       "      <td>2018-11-11</td>\n",
       "      <td>Second Class</td>\n",
       "      <td>CG-12520</td>\n",
       "      <td>Claire Gute</td>\n",
       "      <td>Consumer</td>\n",
       "      <td>United States</td>\n",
       "      <td>Henderson</td>\n",
       "      <td>...</td>\n",
       "      <td>42420</td>\n",
       "      <td>South</td>\n",
       "      <td>FUR-BO-10001798</td>\n",
       "      <td>Furniture</td>\n",
       "      <td>Bookcases</td>\n",
       "      <td>Bush Somerset Collection Bookcase</td>\n",
       "      <td>261.9600</td>\n",
       "      <td>2</td>\n",
       "      <td>0.00</td>\n",
       "      <td>41.9136000000000000</td>\n",
       "    </tr>\n",
       "    <tr>\n",
       "      <th>1</th>\n",
       "      <td>2</td>\n",
       "      <td>CA-2018-152156</td>\n",
       "      <td>2018-11-08</td>\n",
       "      <td>2018-11-11</td>\n",
       "      <td>Second Class</td>\n",
       "      <td>CG-12520</td>\n",
       "      <td>Claire Gute</td>\n",
       "      <td>Consumer</td>\n",
       "      <td>United States</td>\n",
       "      <td>Henderson</td>\n",
       "      <td>...</td>\n",
       "      <td>42420</td>\n",
       "      <td>South</td>\n",
       "      <td>FUR-CH-10000454</td>\n",
       "      <td>Furniture</td>\n",
       "      <td>Chairs</td>\n",
       "      <td>Hon Deluxe Fabric Upholstered Stacking Chairs,...</td>\n",
       "      <td>731.9400</td>\n",
       "      <td>3</td>\n",
       "      <td>0.00</td>\n",
       "      <td>219.5819999999999700</td>\n",
       "    </tr>\n",
       "    <tr>\n",
       "      <th>2</th>\n",
       "      <td>3</td>\n",
       "      <td>CA-2018-138688</td>\n",
       "      <td>2018-06-12</td>\n",
       "      <td>2018-06-16</td>\n",
       "      <td>Second Class</td>\n",
       "      <td>DV-13045</td>\n",
       "      <td>Darrin Van Huff</td>\n",
       "      <td>Corporate</td>\n",
       "      <td>United States</td>\n",
       "      <td>Los Angeles</td>\n",
       "      <td>...</td>\n",
       "      <td>90036</td>\n",
       "      <td>West</td>\n",
       "      <td>OFF-LA-10000240</td>\n",
       "      <td>Office Supplies</td>\n",
       "      <td>Labels</td>\n",
       "      <td>Self-Adhesive Address Labels for Typewriters b...</td>\n",
       "      <td>14.6200</td>\n",
       "      <td>2</td>\n",
       "      <td>0.00</td>\n",
       "      <td>6.8713999999999995</td>\n",
       "    </tr>\n",
       "    <tr>\n",
       "      <th>3</th>\n",
       "      <td>4</td>\n",
       "      <td>US-2017-108966</td>\n",
       "      <td>2017-10-11</td>\n",
       "      <td>2017-10-18</td>\n",
       "      <td>Standard Class</td>\n",
       "      <td>SO-20335</td>\n",
       "      <td>Sean O'Donnell</td>\n",
       "      <td>Consumer</td>\n",
       "      <td>United States</td>\n",
       "      <td>Fort Lauderdale</td>\n",
       "      <td>...</td>\n",
       "      <td>33311</td>\n",
       "      <td>South</td>\n",
       "      <td>FUR-TA-10000577</td>\n",
       "      <td>Furniture</td>\n",
       "      <td>Tables</td>\n",
       "      <td>Bretford CR4500 Series Slim Rectangular Table</td>\n",
       "      <td>957.5775</td>\n",
       "      <td>5</td>\n",
       "      <td>0.45</td>\n",
       "      <td>-383.0310000000000600</td>\n",
       "    </tr>\n",
       "    <tr>\n",
       "      <th>4</th>\n",
       "      <td>5</td>\n",
       "      <td>US-2017-108966</td>\n",
       "      <td>2017-10-11</td>\n",
       "      <td>2017-10-18</td>\n",
       "      <td>Standard Class</td>\n",
       "      <td>SO-20335</td>\n",
       "      <td>Sean O'Donnell</td>\n",
       "      <td>Consumer</td>\n",
       "      <td>United States</td>\n",
       "      <td>Fort Lauderdale</td>\n",
       "      <td>...</td>\n",
       "      <td>33311</td>\n",
       "      <td>South</td>\n",
       "      <td>OFF-ST-10000760</td>\n",
       "      <td>Office Supplies</td>\n",
       "      <td>Storage</td>\n",
       "      <td>Eldon Fold 'N Roll Cart System</td>\n",
       "      <td>22.3680</td>\n",
       "      <td>2</td>\n",
       "      <td>0.20</td>\n",
       "      <td>2.5163999999999990</td>\n",
       "    </tr>\n",
       "  </tbody>\n",
       "</table>\n",
       "<p>5 rows × 21 columns</p>\n",
       "</div>"
      ],
      "text/plain": [
       "   row_id        order_id  order_date   ship_date       ship_mode customer_id  \\\n",
       "0       1  CA-2018-152156  2018-11-08  2018-11-11    Second Class    CG-12520   \n",
       "1       2  CA-2018-152156  2018-11-08  2018-11-11    Second Class    CG-12520   \n",
       "2       3  CA-2018-138688  2018-06-12  2018-06-16    Second Class    DV-13045   \n",
       "3       4  US-2017-108966  2017-10-11  2017-10-18  Standard Class    SO-20335   \n",
       "4       5  US-2017-108966  2017-10-11  2017-10-18  Standard Class    SO-20335   \n",
       "\n",
       "     customer_name    segment        country             city  ...  \\\n",
       "0      Claire Gute   Consumer  United States        Henderson  ...   \n",
       "1      Claire Gute   Consumer  United States        Henderson  ...   \n",
       "2  Darrin Van Huff  Corporate  United States      Los Angeles  ...   \n",
       "3   Sean O'Donnell   Consumer  United States  Fort Lauderdale  ...   \n",
       "4   Sean O'Donnell   Consumer  United States  Fort Lauderdale  ...   \n",
       "\n",
       "  postal_code  region       product_id         category subcategory  \\\n",
       "0       42420   South  FUR-BO-10001798        Furniture   Bookcases   \n",
       "1       42420   South  FUR-CH-10000454        Furniture      Chairs   \n",
       "2       90036    West  OFF-LA-10000240  Office Supplies      Labels   \n",
       "3       33311   South  FUR-TA-10000577        Furniture      Tables   \n",
       "4       33311   South  OFF-ST-10000760  Office Supplies     Storage   \n",
       "\n",
       "                                        product_name     sales quantity  \\\n",
       "0                  Bush Somerset Collection Bookcase  261.9600        2   \n",
       "1  Hon Deluxe Fabric Upholstered Stacking Chairs,...  731.9400        3   \n",
       "2  Self-Adhesive Address Labels for Typewriters b...   14.6200        2   \n",
       "3      Bretford CR4500 Series Slim Rectangular Table  957.5775        5   \n",
       "4                     Eldon Fold 'N Roll Cart System   22.3680        2   \n",
       "\n",
       "   discount                 profit  \n",
       "0      0.00    41.9136000000000000  \n",
       "1      0.00   219.5819999999999700  \n",
       "2      0.00     6.8713999999999995  \n",
       "3      0.45  -383.0310000000000600  \n",
       "4      0.20     2.5163999999999990  \n",
       "\n",
       "[5 rows x 21 columns]"
      ]
     },
     "execution_count": 53,
     "metadata": {},
     "output_type": "execute_result"
    }
   ],
   "source": [
    "# проверка записи данных в таблицу 'orders'\n",
    "cursor.execute(\"SELECT * FROM stg.orders LIMIT 5;\")\n",
    "rows = cursor.fetchall()\n",
    "cursor.execute(\"SELECT column_name, ordinal_position \\\n",
    "                FROM information_schema.columns \\\n",
    "                WHERE table_name = 'orders' AND table_schema = 'stg' \\\n",
    "                ORDER BY ordinal_position;\")\n",
    "columnsname = [_[0] for _ in cursor.fetchall()]\n",
    "df = pd.DataFrame(rows, columns=columnsname)\n",
    "df"
   ]
  },
  {
   "cell_type": "code",
   "execution_count": 54,
   "id": "1dded361",
   "metadata": {},
   "outputs": [
    {
     "name": "stdout",
     "output_type": "stream",
     "text": [
      "[(9993,)] (9993, 21)\n"
     ]
    }
   ],
   "source": [
    "# проверка записи данных в таблицу 'orders'\n",
    "cursor.execute(\"SELECT count(*) FROM stg.orders;\")\n",
    "print(cursor.fetchall(), df_orders.shape)"
   ]
  },
  {
   "cell_type": "markdown",
   "id": "65277b34",
   "metadata": {},
   "source": [
    "Данные в таблицу **'orders'** записаны **успешно**"
   ]
  },
  {
   "cell_type": "markdown",
   "id": "acf2d428",
   "metadata": {},
   "source": [
    "### 3.2. Таблица заказы - 'People'"
   ]
  },
  {
   "cell_type": "code",
   "execution_count": 55,
   "id": "a1d460c6",
   "metadata": {},
   "outputs": [
    {
     "name": "stdout",
     "output_type": "stream",
     "text": [
      "['person', 'region']\n"
     ]
    }
   ],
   "source": [
    "# значение атрибутов в таблице 'people'\n",
    "cursor.execute(\"SELECT column_name \\\n",
    "             FROM information_schema.columns \\\n",
    "             WHERE table_name = 'people' AND table_schema = 'stg';\")\n",
    "columnsname = [_[0] for _ in cursor.fetchall()]\n",
    "print(columnsname)"
   ]
  },
  {
   "cell_type": "code",
   "execution_count": 56,
   "id": "4e4ec4da",
   "metadata": {},
   "outputs": [
    {
     "data": {
      "text/plain": [
       "Index(['Person', 'Region'], dtype='object')"
      ]
     },
     "execution_count": 56,
     "metadata": {},
     "output_type": "execute_result"
    }
   ],
   "source": [
    "# значение атрибутов в исходном файле 'Superstore.csv'\n",
    "df_people.columns"
   ]
  },
  {
   "cell_type": "code",
   "execution_count": 58,
   "id": "677b414b",
   "metadata": {},
   "outputs": [
    {
     "data": {
      "text/plain": [
       "array([['Anna Andreadi', 'West'],\n",
       "       ['Chuck Magee', 'East'],\n",
       "       ['Kelly Williams', 'Central'],\n",
       "       ['Cassandra Brandow', 'South']], dtype=object)"
      ]
     },
     "execution_count": 58,
     "metadata": {},
     "output_type": "execute_result"
    }
   ],
   "source": [
    "# данные для записи в таблицу 'people'\n",
    "people = df_people.values\n",
    "people"
   ]
  },
  {
   "cell_type": "code",
   "execution_count": 59,
   "id": "353863ee",
   "metadata": {},
   "outputs": [],
   "source": [
    "# запись данных в таблицу заказы - 'people' \n",
    "cursor.executemany(\"INSERT INTO stg.people( \\\n",
    "                    Person, Region) \\\n",
    "                    VALUES (%s, %s);\", people)\n",
    "connect.commit() "
   ]
  },
  {
   "cell_type": "code",
   "execution_count": 60,
   "id": "13ff34e8",
   "metadata": {},
   "outputs": [
    {
     "data": {
      "text/html": [
       "<div>\n",
       "<style scoped>\n",
       "    .dataframe tbody tr th:only-of-type {\n",
       "        vertical-align: middle;\n",
       "    }\n",
       "\n",
       "    .dataframe tbody tr th {\n",
       "        vertical-align: top;\n",
       "    }\n",
       "\n",
       "    .dataframe thead th {\n",
       "        text-align: right;\n",
       "    }\n",
       "</style>\n",
       "<table border=\"1\" class=\"dataframe\">\n",
       "  <thead>\n",
       "    <tr style=\"text-align: right;\">\n",
       "      <th></th>\n",
       "      <th>person</th>\n",
       "      <th>region</th>\n",
       "    </tr>\n",
       "  </thead>\n",
       "  <tbody>\n",
       "    <tr>\n",
       "      <th>0</th>\n",
       "      <td>Anna Andreadi</td>\n",
       "      <td>West</td>\n",
       "    </tr>\n",
       "    <tr>\n",
       "      <th>1</th>\n",
       "      <td>Chuck Magee</td>\n",
       "      <td>East</td>\n",
       "    </tr>\n",
       "    <tr>\n",
       "      <th>2</th>\n",
       "      <td>Kelly Williams</td>\n",
       "      <td>Central</td>\n",
       "    </tr>\n",
       "    <tr>\n",
       "      <th>3</th>\n",
       "      <td>Cassandra Brandow</td>\n",
       "      <td>South</td>\n",
       "    </tr>\n",
       "  </tbody>\n",
       "</table>\n",
       "</div>"
      ],
      "text/plain": [
       "              person   region\n",
       "0      Anna Andreadi     West\n",
       "1        Chuck Magee     East\n",
       "2     Kelly Williams  Central\n",
       "3  Cassandra Brandow    South"
      ]
     },
     "execution_count": 60,
     "metadata": {},
     "output_type": "execute_result"
    }
   ],
   "source": [
    "# проверка записи данных в таблицу 'people'\n",
    "cursor.execute(\"SELECT * FROM stg.people LIMIT 10;\")\n",
    "rows = cursor.fetchall()\n",
    "cursor.execute(\"SELECT column_name, ordinal_position \\\n",
    "                FROM information_schema.columns \\\n",
    "                WHERE table_name = 'people' AND table_schema = 'stg' \\\n",
    "                ORDER BY ordinal_position;\")\n",
    "columnsname = [_[0] for _ in cursor.fetchall()]\n",
    "df = pd.DataFrame(rows, columns=columnsname)\n",
    "df"
   ]
  },
  {
   "cell_type": "markdown",
   "id": "6f2fa80f",
   "metadata": {},
   "source": [
    "Данные в таблицу **'people'** записаны **успешно**"
   ]
  },
  {
   "cell_type": "markdown",
   "id": "9c209143",
   "metadata": {},
   "source": [
    "### 3.3. Таблица заказы - 'Returns'"
   ]
  },
  {
   "cell_type": "code",
   "execution_count": 61,
   "id": "3929acfa",
   "metadata": {},
   "outputs": [
    {
     "name": "stdout",
     "output_type": "stream",
     "text": [
      "['returned', 'order_id']\n"
     ]
    }
   ],
   "source": [
    "# значение атрибутов в таблице 'returns'\n",
    "cursor.execute(\"SELECT column_name \\\n",
    "             FROM information_schema.columns \\\n",
    "             WHERE table_name = 'returns' AND table_schema = 'stg';\")\n",
    "columnsname = [_[0] for _ in cursor.fetchall()]\n",
    "print(columnsname)"
   ]
  },
  {
   "cell_type": "code",
   "execution_count": 62,
   "id": "fc8be10a",
   "metadata": {},
   "outputs": [
    {
     "data": {
      "text/plain": [
       "Index(['Returned', 'Order ID'], dtype='object')"
      ]
     },
     "execution_count": 62,
     "metadata": {},
     "output_type": "execute_result"
    }
   ],
   "source": [
    "# значение атрибутов в исходном файле 'Superstore.csv'\n",
    "df_returns.columns"
   ]
  },
  {
   "cell_type": "code",
   "execution_count": 63,
   "id": "75f70075",
   "metadata": {},
   "outputs": [
    {
     "data": {
      "text/plain": [
       "array([['Yes', 'CA-2016-100762'],\n",
       "       ['Yes', 'CA-2016-100867'],\n",
       "       ['Yes', 'CA-2016-102652'],\n",
       "       ['Yes', 'CA-2016-103373'],\n",
       "       ['Yes', 'CA-2016-103744'],\n",
       "       ['Yes', 'CA-2016-103940'],\n",
       "       ['Yes', 'CA-2016-104829'],\n",
       "       ['Yes', 'CA-2016-105270'],\n",
       "       ['Yes', 'CA-2016-108609'],\n",
       "       ['Yes', 'CA-2016-108861']], dtype=object)"
      ]
     },
     "execution_count": 63,
     "metadata": {},
     "output_type": "execute_result"
    }
   ],
   "source": [
    "# данные для записи в таблицу 'returns'\n",
    "returns = df_returns.values\n",
    "returns[:10]"
   ]
  },
  {
   "cell_type": "code",
   "execution_count": 64,
   "id": "2c8cb14b",
   "metadata": {},
   "outputs": [],
   "source": [
    "# запись данных в таблицу заказы - 'returns' \n",
    "cursor.executemany(\"INSERT INTO stg.returns( \\\n",
    "                    Returned, Order_ID) \\\n",
    "                    VALUES (%s, %s);\", returns)\n",
    "connect.commit() "
   ]
  },
  {
   "cell_type": "code",
   "execution_count": 65,
   "id": "79c074f3",
   "metadata": {},
   "outputs": [
    {
     "data": {
      "text/html": [
       "<div>\n",
       "<style scoped>\n",
       "    .dataframe tbody tr th:only-of-type {\n",
       "        vertical-align: middle;\n",
       "    }\n",
       "\n",
       "    .dataframe tbody tr th {\n",
       "        vertical-align: top;\n",
       "    }\n",
       "\n",
       "    .dataframe thead th {\n",
       "        text-align: right;\n",
       "    }\n",
       "</style>\n",
       "<table border=\"1\" class=\"dataframe\">\n",
       "  <thead>\n",
       "    <tr style=\"text-align: right;\">\n",
       "      <th></th>\n",
       "      <th>returned</th>\n",
       "      <th>order_id</th>\n",
       "    </tr>\n",
       "  </thead>\n",
       "  <tbody>\n",
       "    <tr>\n",
       "      <th>0</th>\n",
       "      <td>Yes</td>\n",
       "      <td>CA-2016-100762</td>\n",
       "    </tr>\n",
       "    <tr>\n",
       "      <th>1</th>\n",
       "      <td>Yes</td>\n",
       "      <td>CA-2016-100867</td>\n",
       "    </tr>\n",
       "    <tr>\n",
       "      <th>2</th>\n",
       "      <td>Yes</td>\n",
       "      <td>CA-2016-102652</td>\n",
       "    </tr>\n",
       "    <tr>\n",
       "      <th>3</th>\n",
       "      <td>Yes</td>\n",
       "      <td>CA-2016-103373</td>\n",
       "    </tr>\n",
       "    <tr>\n",
       "      <th>4</th>\n",
       "      <td>Yes</td>\n",
       "      <td>CA-2016-103744</td>\n",
       "    </tr>\n",
       "    <tr>\n",
       "      <th>5</th>\n",
       "      <td>Yes</td>\n",
       "      <td>CA-2016-103940</td>\n",
       "    </tr>\n",
       "    <tr>\n",
       "      <th>6</th>\n",
       "      <td>Yes</td>\n",
       "      <td>CA-2016-104829</td>\n",
       "    </tr>\n",
       "    <tr>\n",
       "      <th>7</th>\n",
       "      <td>Yes</td>\n",
       "      <td>CA-2016-105270</td>\n",
       "    </tr>\n",
       "    <tr>\n",
       "      <th>8</th>\n",
       "      <td>Yes</td>\n",
       "      <td>CA-2016-108609</td>\n",
       "    </tr>\n",
       "    <tr>\n",
       "      <th>9</th>\n",
       "      <td>Yes</td>\n",
       "      <td>CA-2016-108861</td>\n",
       "    </tr>\n",
       "  </tbody>\n",
       "</table>\n",
       "</div>"
      ],
      "text/plain": [
       "  returned        order_id\n",
       "0      Yes  CA-2016-100762\n",
       "1      Yes  CA-2016-100867\n",
       "2      Yes  CA-2016-102652\n",
       "3      Yes  CA-2016-103373\n",
       "4      Yes  CA-2016-103744\n",
       "5      Yes  CA-2016-103940\n",
       "6      Yes  CA-2016-104829\n",
       "7      Yes  CA-2016-105270\n",
       "8      Yes  CA-2016-108609\n",
       "9      Yes  CA-2016-108861"
      ]
     },
     "execution_count": 65,
     "metadata": {},
     "output_type": "execute_result"
    }
   ],
   "source": [
    "# проверка записи данных в таблицу 'returns'\n",
    "cursor.execute(\"SELECT * FROM stg.returns LIMIT 10;\")\n",
    "rows = cursor.fetchall()\n",
    "cursor.execute(\"SELECT column_name, ordinal_position \\\n",
    "                FROM information_schema.columns \\\n",
    "                WHERE table_name = 'returns' AND table_schema = 'stg' \\\n",
    "                ORDER BY ordinal_position;\")\n",
    "columnsname = [_[0] for _ in cursor.fetchall()]\n",
    "df = pd.DataFrame(rows, columns=columnsname)\n",
    "df"
   ]
  },
  {
   "cell_type": "code",
   "execution_count": 66,
   "id": "fbdf443c",
   "metadata": {},
   "outputs": [
    {
     "name": "stdout",
     "output_type": "stream",
     "text": [
      "[(296,)] (296, 2)\n"
     ]
    }
   ],
   "source": [
    "# проверка записи данных в таблицу 'returns'\n",
    "cursor.execute(\"SELECT count(*) FROM stg.returns;\")\n",
    "print(cursor.fetchall(), df_returns.shape)"
   ]
  },
  {
   "cell_type": "markdown",
   "id": "70ebb2d0",
   "metadata": {},
   "source": [
    "Данные в таблицу **'returns'** записаны **успешно**"
   ]
  },
  {
   "cell_type": "code",
   "execution_count": 67,
   "id": "ac18ef07",
   "metadata": {},
   "outputs": [],
   "source": [
    "# закрытие подключения к базе данных 'postgres'\n",
    "connect.close()"
   ]
  }
 ],
 "metadata": {
  "kernelspec": {
   "display_name": "Python 3 (ipykernel)",
   "language": "python",
   "name": "python3"
  },
  "language_info": {
   "codemirror_mode": {
    "name": "ipython",
    "version": 3
   },
   "file_extension": ".py",
   "mimetype": "text/x-python",
   "name": "python",
   "nbconvert_exporter": "python",
   "pygments_lexer": "ipython3",
   "version": "3.9.12"
  }
 },
 "nbformat": 4,
 "nbformat_minor": 5
}
