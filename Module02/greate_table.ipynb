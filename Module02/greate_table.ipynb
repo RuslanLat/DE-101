{
 "cells": [
  {
   "cell_type": "code",
   "execution_count": 1,
   "id": "2da12f7e",
   "metadata": {},
   "outputs": [],
   "source": [
    "#pip install psycopg2"
   ]
  },
  {
   "cell_type": "code",
   "execution_count": 4,
   "id": "a1f4d994",
   "metadata": {},
   "outputs": [],
   "source": [
    "# загрузка библиотек\n",
    "import psycopg2\n",
    "import getpass"
   ]
  },
  {
   "cell_type": "code",
   "execution_count": 5,
   "id": "f636c5af",
   "metadata": {},
   "outputs": [
    {
     "name": "stdout",
     "output_type": "stream",
     "text": [
      "Введите секретный пароль:········\n"
     ]
    }
   ],
   "source": [
    "# безопасно запрашиваем ввод пароля в CLI\n",
    "password = getpass.getpass(prompt=\"Введите секретный пароль:\")"
   ]
  },
  {
   "cell_type": "markdown",
   "id": "9de656c1",
   "metadata": {},
   "source": [
    "## 1. Подключение к базе данных"
   ]
  },
  {
   "cell_type": "code",
   "execution_count": 6,
   "id": "231e736d",
   "metadata": {},
   "outputs": [
    {
     "name": "stdout",
     "output_type": "stream",
     "text": [
      "База данных успешно открыта\n"
     ]
    }
   ],
   "source": [
    "# создание подключения к базе данных 'postgres'\n",
    "connect = psycopg2.connect(database='postgres',\n",
    "                       user='postgres',\n",
    "                       password=password,\n",
    "                       host='127.0.0.1',\n",
    "                       port='5432')\n",
    "\n",
    "print('База данных успешно открыта')"
   ]
  },
  {
   "cell_type": "code",
   "execution_count": 7,
   "id": "90643617",
   "metadata": {},
   "outputs": [],
   "source": [
    "# создание объекта курсора подключения к базе данных 'postgres'\n",
    "cursor = connect.cursor()"
   ]
  },
  {
   "cell_type": "markdown",
   "id": "8491e704",
   "metadata": {},
   "source": [
    "## 2. Создание таблиц"
   ]
  },
  {
   "cell_type": "markdown",
   "id": "d9298233",
   "metadata": {},
   "source": [
    "### 2.1. Таблица заказы - 'orders'"
   ]
  },
  {
   "cell_type": "code",
   "execution_count": 8,
   "id": "8bafbc0e",
   "metadata": {},
   "outputs": [],
   "source": [
    "# удаление таблицы 'orders' если она существует  \n",
    "cursor.execute(\"DROP TABLE IF EXISTS orders;\")\n",
    "connect.commit()  "
   ]
  },
  {
   "cell_type": "code",
   "execution_count": 9,
   "id": "1c9298ac",
   "metadata": {},
   "outputs": [],
   "source": [
    "# создание таблицы заказы - 'orders' \n",
    "cursor.execute(\"CREATE TABLE orders( \\\n",
    "                Row_ID INTEGER NOT NULL PRIMARY KEY, \\\n",
    "                Order_ID VARCHAR(14) NOT NULL, \\\n",
    "                Order_Date DATE NOT NULL, \\\n",
    "                Ship_Date DATE NOT NULL, \\\n",
    "                Ship_Mode VARCHAR(14) NOT NULL, \\\n",
    "                Customer_ID VARCHAR(8) NOT NULL, \\\n",
    "                Customer_Name VARCHAR(22) NOT NULL, \\\n",
    "                Segment VARCHAR(11) NOT NULL, \\\n",
    "                Country VARCHAR(13) NOT NULL, \\\n",
    "                City VARCHAR(17) NOT NULL, \\\n",
    "                State VARCHAR(20) NOT NULL,\\\n",
    "                Postal_Code INTEGER, \\\n",
    "                Region VARCHAR(7) NOT NULL, \\\n",
    "                Product_ID VARCHAR(15) NOT NULL, \\\n",
    "                Category VARCHAR(15) NOT NULL, \\\n",
    "                SubCategory VARCHAR(11) NOT NULL, \\\n",
    "                Product_Name VARCHAR(127) NOT NULL, \\\n",
    "                Sales NUMERIC(9,4) NOT NULL, \\\n",
    "                Quantity INTEGER NOT NULL, \\\n",
    "                Discount NUMERIC(4,2) NOT NULL, \\\n",
    "                Profit NUMERIC(21,16) NOT NULL);\")\n",
    "connect.commit() "
   ]
  },
  {
   "cell_type": "markdown",
   "id": "35c03bd1",
   "metadata": {},
   "source": [
    "### 2.2. Таблица менеджеры - 'people'"
   ]
  },
  {
   "cell_type": "code",
   "execution_count": 10,
   "id": "fa34ee24",
   "metadata": {},
   "outputs": [],
   "source": [
    "# удаление таблицы 'people' если она существует\n",
    "cursor.execute(\"DROP TABLE IF EXISTS people;\")\n",
    "connect.commit()  "
   ]
  },
  {
   "cell_type": "code",
   "execution_count": 11,
   "id": "76692ad6",
   "metadata": {},
   "outputs": [],
   "source": [
    "# создание таблицы менеджеры - 'people' \n",
    "cursor.execute(\"CREATE TABLE people( \\\n",
    "                Person VARCHAR(17) NOT NULL PRIMARY KEY, \\\n",
    "                Region VARCHAR(7) NOT NULL);\")\n",
    "connect.commit()"
   ]
  },
  {
   "cell_type": "markdown",
   "id": "0069119b",
   "metadata": {},
   "source": [
    "### 2.3. Таблица возвраты - 'returns'"
   ]
  },
  {
   "cell_type": "code",
   "execution_count": 12,
   "id": "ee5bca8a",
   "metadata": {},
   "outputs": [],
   "source": [
    "# удаление таблицы 'returns' если она существует\n",
    "cursor.execute(\"DROP TABLE IF EXISTS returns;\")\n",
    "connect.commit() "
   ]
  },
  {
   "cell_type": "code",
   "execution_count": 13,
   "id": "0112db36",
   "metadata": {},
   "outputs": [],
   "source": [
    "# создание таблицы возвраты - 'returns' \n",
    "cursor.execute(\"CREATE TABLE returns( \\\n",
    "                Returned VARCHAR(3) NOT NULL, \\\n",
    "                Order_ID VARCHAR(14) NOT NULL PRIMARY KEY);\")\n",
    "connect.commit()"
   ]
  },
  {
   "cell_type": "code",
   "execution_count": 14,
   "id": "85dd2d49",
   "metadata": {},
   "outputs": [
    {
     "data": {
      "text/plain": [
       "[('orders',), ('people',), ('returns',)]"
      ]
     },
     "execution_count": 14,
     "metadata": {},
     "output_type": "execute_result"
    }
   ],
   "source": [
    "# вывод наименований таблиц в базе данных 'postgres'\n",
    "cursor.execute(\"SELECT table_name FROM information_schema.tables \\\n",
    "             WHERE table_schema NOT IN ('information_schema', 'pg_catalog') \\\n",
    "             AND table_schema IN('public', 'myschema');\")\n",
    "cursor.fetchall()"
   ]
  },
  {
   "cell_type": "code",
   "execution_count": 15,
   "id": "5a621b40",
   "metadata": {},
   "outputs": [],
   "source": [
    "# закрытие подключения к базе данных 'postgres'\n",
    "connect.close()"
   ]
  },
  {
   "cell_type": "code",
   "execution_count": null,
   "id": "06f97bf6",
   "metadata": {},
   "outputs": [],
   "source": []
  }
 ],
 "metadata": {
  "kernelspec": {
   "display_name": "Python 3 (ipykernel)",
   "language": "python",
   "name": "python3"
  },
  "language_info": {
   "codemirror_mode": {
    "name": "ipython",
    "version": 3
   },
   "file_extension": ".py",
   "mimetype": "text/x-python",
   "name": "python",
   "nbconvert_exporter": "python",
   "pygments_lexer": "ipython3",
   "version": "3.9.12"
  }
 },
 "nbformat": 4,
 "nbformat_minor": 5
}
