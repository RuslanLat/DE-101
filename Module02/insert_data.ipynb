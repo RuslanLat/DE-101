{
 "cells": [
  {
   "cell_type": "code",
   "execution_count": 1,
   "id": "62b9f9ac",
   "metadata": {},
   "outputs": [],
   "source": [
    "#pip install psycopg2"
   ]
  },
  {
   "cell_type": "code",
   "execution_count": 2,
   "id": "42509b79",
   "metadata": {},
   "outputs": [],
   "source": [
    "# загрузка библиотек\n",
    "import psycopg2\n",
    "import pandas as pd\n",
    "import getpass"
   ]
  },
  {
   "cell_type": "markdown",
   "id": "bc383c58",
   "metadata": {},
   "source": [
    "## 1. Загрузка данных\n",
    "\n",
    "**Значения атрибутов в Sample - Superstore.xls**\n",
    "\n",
    "| Название столбца | Значение                          |\n",
    "|------------------|-----------------------------------|\n",
    "| Row ID           | Идентификатор строки (уникальный) |\n",
    "| Order ID         | Идентификатор заказа              |\n",
    "| Order Date       | Дата заказа                       |\n",
    "| Ship Date        | Дата доставки                     |\n",
    "| Ship Mode        | Класс доставки                    |\n",
    "| Customer ID      | Идентификатор покупателя          |\n",
    "| Customer Name    | Имя и фамилия покупателя          |\n",
    "| Segment          | Сегмент покупателя                |\n",
    "| Country          | Страна                            |\n",
    "| City             | Город                             |\n",
    "| State            | Штат                              |\n",
    "| Postal Code      | Почтовый индекс                   |\n",
    "| Region           | Регион                            |\n",
    "| Product ID       | Идентификатор товара              |\n",
    "| Category         | Категория                         |\n",
    "| Sub-Category     | Подкатегория                      |\n",
    "| Product Name     | Название товара                   |\n",
    "| Sales            | Продажи (Доход)                   |\n",
    "| Quantity         | Количество                        |\n",
    "| Discount         | Скидка в %                        |\n",
    "| Profit           | Прибыль                           |\n",
    "| Person           | Региональный менеджер             |\n",
    "| Returned         | Возвраты товара                   |"
   ]
  },
  {
   "cell_type": "markdown",
   "id": "ece846ae",
   "metadata": {},
   "source": [
    "### 1.1 Продажи - Orders"
   ]
  },
  {
   "cell_type": "code",
   "execution_count": 3,
   "id": "6c6786aa",
   "metadata": {},
   "outputs": [
    {
     "data": {
      "text/html": [
       "<div>\n",
       "<style scoped>\n",
       "    .dataframe tbody tr th:only-of-type {\n",
       "        vertical-align: middle;\n",
       "    }\n",
       "\n",
       "    .dataframe tbody tr th {\n",
       "        vertical-align: top;\n",
       "    }\n",
       "\n",
       "    .dataframe thead th {\n",
       "        text-align: right;\n",
       "    }\n",
       "</style>\n",
       "<table border=\"1\" class=\"dataframe\">\n",
       "  <thead>\n",
       "    <tr style=\"text-align: right;\">\n",
       "      <th></th>\n",
       "      <th>Row ID</th>\n",
       "      <th>Order ID</th>\n",
       "      <th>Order Date</th>\n",
       "      <th>Ship Date</th>\n",
       "      <th>Ship Mode</th>\n",
       "      <th>Customer ID</th>\n",
       "      <th>Customer Name</th>\n",
       "      <th>Segment</th>\n",
       "      <th>Country</th>\n",
       "      <th>City</th>\n",
       "      <th>...</th>\n",
       "      <th>Postal Code</th>\n",
       "      <th>Region</th>\n",
       "      <th>Product ID</th>\n",
       "      <th>Category</th>\n",
       "      <th>Sub-Category</th>\n",
       "      <th>Product Name</th>\n",
       "      <th>Sales</th>\n",
       "      <th>Quantity</th>\n",
       "      <th>Discount</th>\n",
       "      <th>Profit</th>\n",
       "    </tr>\n",
       "  </thead>\n",
       "  <tbody>\n",
       "    <tr>\n",
       "      <th>0</th>\n",
       "      <td>1</td>\n",
       "      <td>CA-2018-152156</td>\n",
       "      <td>2018-11-08</td>\n",
       "      <td>2018-11-11</td>\n",
       "      <td>Second Class</td>\n",
       "      <td>CG-12520</td>\n",
       "      <td>Claire Gute</td>\n",
       "      <td>Consumer</td>\n",
       "      <td>United States</td>\n",
       "      <td>Henderson</td>\n",
       "      <td>...</td>\n",
       "      <td>42420.0</td>\n",
       "      <td>South</td>\n",
       "      <td>FUR-BO-10001798</td>\n",
       "      <td>Furniture</td>\n",
       "      <td>Bookcases</td>\n",
       "      <td>Bush Somerset Collection Bookcase</td>\n",
       "      <td>261.9600</td>\n",
       "      <td>2</td>\n",
       "      <td>0.00</td>\n",
       "      <td>41.9136</td>\n",
       "    </tr>\n",
       "    <tr>\n",
       "      <th>1</th>\n",
       "      <td>2</td>\n",
       "      <td>CA-2018-152156</td>\n",
       "      <td>2018-11-08</td>\n",
       "      <td>2018-11-11</td>\n",
       "      <td>Second Class</td>\n",
       "      <td>CG-12520</td>\n",
       "      <td>Claire Gute</td>\n",
       "      <td>Consumer</td>\n",
       "      <td>United States</td>\n",
       "      <td>Henderson</td>\n",
       "      <td>...</td>\n",
       "      <td>42420.0</td>\n",
       "      <td>South</td>\n",
       "      <td>FUR-CH-10000454</td>\n",
       "      <td>Furniture</td>\n",
       "      <td>Chairs</td>\n",
       "      <td>Hon Deluxe Fabric Upholstered Stacking Chairs,...</td>\n",
       "      <td>731.9400</td>\n",
       "      <td>3</td>\n",
       "      <td>0.00</td>\n",
       "      <td>219.5820</td>\n",
       "    </tr>\n",
       "    <tr>\n",
       "      <th>2</th>\n",
       "      <td>3</td>\n",
       "      <td>CA-2018-138688</td>\n",
       "      <td>2018-06-12</td>\n",
       "      <td>2018-06-16</td>\n",
       "      <td>Second Class</td>\n",
       "      <td>DV-13045</td>\n",
       "      <td>Darrin Van Huff</td>\n",
       "      <td>Corporate</td>\n",
       "      <td>United States</td>\n",
       "      <td>Los Angeles</td>\n",
       "      <td>...</td>\n",
       "      <td>90036.0</td>\n",
       "      <td>West</td>\n",
       "      <td>OFF-LA-10000240</td>\n",
       "      <td>Office Supplies</td>\n",
       "      <td>Labels</td>\n",
       "      <td>Self-Adhesive Address Labels for Typewriters b...</td>\n",
       "      <td>14.6200</td>\n",
       "      <td>2</td>\n",
       "      <td>0.00</td>\n",
       "      <td>6.8714</td>\n",
       "    </tr>\n",
       "    <tr>\n",
       "      <th>3</th>\n",
       "      <td>4</td>\n",
       "      <td>US-2017-108966</td>\n",
       "      <td>2017-10-11</td>\n",
       "      <td>2017-10-18</td>\n",
       "      <td>Standard Class</td>\n",
       "      <td>SO-20335</td>\n",
       "      <td>Sean O'Donnell</td>\n",
       "      <td>Consumer</td>\n",
       "      <td>United States</td>\n",
       "      <td>Fort Lauderdale</td>\n",
       "      <td>...</td>\n",
       "      <td>33311.0</td>\n",
       "      <td>South</td>\n",
       "      <td>FUR-TA-10000577</td>\n",
       "      <td>Furniture</td>\n",
       "      <td>Tables</td>\n",
       "      <td>Bretford CR4500 Series Slim Rectangular Table</td>\n",
       "      <td>957.5775</td>\n",
       "      <td>5</td>\n",
       "      <td>0.45</td>\n",
       "      <td>-383.0310</td>\n",
       "    </tr>\n",
       "    <tr>\n",
       "      <th>4</th>\n",
       "      <td>5</td>\n",
       "      <td>US-2017-108966</td>\n",
       "      <td>2017-10-11</td>\n",
       "      <td>2017-10-18</td>\n",
       "      <td>Standard Class</td>\n",
       "      <td>SO-20335</td>\n",
       "      <td>Sean O'Donnell</td>\n",
       "      <td>Consumer</td>\n",
       "      <td>United States</td>\n",
       "      <td>Fort Lauderdale</td>\n",
       "      <td>...</td>\n",
       "      <td>33311.0</td>\n",
       "      <td>South</td>\n",
       "      <td>OFF-ST-10000760</td>\n",
       "      <td>Office Supplies</td>\n",
       "      <td>Storage</td>\n",
       "      <td>Eldon Fold 'N Roll Cart System</td>\n",
       "      <td>22.3680</td>\n",
       "      <td>2</td>\n",
       "      <td>0.20</td>\n",
       "      <td>2.5164</td>\n",
       "    </tr>\n",
       "  </tbody>\n",
       "</table>\n",
       "<p>5 rows × 21 columns</p>\n",
       "</div>"
      ],
      "text/plain": [
       "   Row ID        Order ID Order Date  Ship Date       Ship Mode Customer ID  \\\n",
       "0       1  CA-2018-152156 2018-11-08 2018-11-11    Second Class    CG-12520   \n",
       "1       2  CA-2018-152156 2018-11-08 2018-11-11    Second Class    CG-12520   \n",
       "2       3  CA-2018-138688 2018-06-12 2018-06-16    Second Class    DV-13045   \n",
       "3       4  US-2017-108966 2017-10-11 2017-10-18  Standard Class    SO-20335   \n",
       "4       5  US-2017-108966 2017-10-11 2017-10-18  Standard Class    SO-20335   \n",
       "\n",
       "     Customer Name    Segment        Country             City  ...  \\\n",
       "0      Claire Gute   Consumer  United States        Henderson  ...   \n",
       "1      Claire Gute   Consumer  United States        Henderson  ...   \n",
       "2  Darrin Van Huff  Corporate  United States      Los Angeles  ...   \n",
       "3   Sean O'Donnell   Consumer  United States  Fort Lauderdale  ...   \n",
       "4   Sean O'Donnell   Consumer  United States  Fort Lauderdale  ...   \n",
       "\n",
       "  Postal Code  Region       Product ID         Category Sub-Category  \\\n",
       "0     42420.0   South  FUR-BO-10001798        Furniture    Bookcases   \n",
       "1     42420.0   South  FUR-CH-10000454        Furniture       Chairs   \n",
       "2     90036.0    West  OFF-LA-10000240  Office Supplies       Labels   \n",
       "3     33311.0   South  FUR-TA-10000577        Furniture       Tables   \n",
       "4     33311.0   South  OFF-ST-10000760  Office Supplies      Storage   \n",
       "\n",
       "                                        Product Name     Sales  Quantity  \\\n",
       "0                  Bush Somerset Collection Bookcase  261.9600         2   \n",
       "1  Hon Deluxe Fabric Upholstered Stacking Chairs,...  731.9400         3   \n",
       "2  Self-Adhesive Address Labels for Typewriters b...   14.6200         2   \n",
       "3      Bretford CR4500 Series Slim Rectangular Table  957.5775         5   \n",
       "4                     Eldon Fold 'N Roll Cart System   22.3680         2   \n",
       "\n",
       "   Discount    Profit  \n",
       "0      0.00   41.9136  \n",
       "1      0.00  219.5820  \n",
       "2      0.00    6.8714  \n",
       "3      0.45 -383.0310  \n",
       "4      0.20    2.5164  \n",
       "\n",
       "[5 rows x 21 columns]"
      ]
     },
     "execution_count": 3,
     "metadata": {},
     "output_type": "execute_result"
    }
   ],
   "source": [
    "# загрузка данных по продажам\n",
    "df_orders = pd.read_excel('data/Sample - Superstore.xls', sheet_name='Orders') #index_col='Row ID'\n",
    "df_orders.head()"
   ]
  },
  {
   "cell_type": "code",
   "execution_count": 4,
   "id": "f0424dd3",
   "metadata": {},
   "outputs": [
    {
     "name": "stdout",
     "output_type": "stream",
     "text": [
      "<class 'pandas.core.frame.DataFrame'>\n",
      "RangeIndex: 9994 entries, 0 to 9993\n",
      "Data columns (total 21 columns):\n",
      " #   Column         Non-Null Count  Dtype         \n",
      "---  ------         --------------  -----         \n",
      " 0   Row ID         9994 non-null   int64         \n",
      " 1   Order ID       9994 non-null   object        \n",
      " 2   Order Date     9994 non-null   datetime64[ns]\n",
      " 3   Ship Date      9994 non-null   datetime64[ns]\n",
      " 4   Ship Mode      9994 non-null   object        \n",
      " 5   Customer ID    9994 non-null   object        \n",
      " 6   Customer Name  9994 non-null   object        \n",
      " 7   Segment        9994 non-null   object        \n",
      " 8   Country        9994 non-null   object        \n",
      " 9   City           9994 non-null   object        \n",
      " 10  State          9994 non-null   object        \n",
      " 11  Postal Code    9983 non-null   float64       \n",
      " 12  Region         9994 non-null   object        \n",
      " 13  Product ID     9994 non-null   object        \n",
      " 14  Category       9994 non-null   object        \n",
      " 15  Sub-Category   9994 non-null   object        \n",
      " 16  Product Name   9994 non-null   object        \n",
      " 17  Sales          9994 non-null   float64       \n",
      " 18  Quantity       9994 non-null   int64         \n",
      " 19  Discount       9994 non-null   float64       \n",
      " 20  Profit         9994 non-null   float64       \n",
      "dtypes: datetime64[ns](2), float64(4), int64(2), object(13)\n",
      "memory usage: 1.6+ MB\n"
     ]
    }
   ],
   "source": [
    "# просмотр структуры данных по продажам\n",
    "df_orders.info()"
   ]
  },
  {
   "cell_type": "code",
   "execution_count": 5,
   "id": "bd7a0545",
   "metadata": {},
   "outputs": [
    {
     "data": {
      "text/plain": [
       "Row ID            0\n",
       "Order ID          0\n",
       "Order Date        0\n",
       "Ship Date         0\n",
       "Ship Mode         0\n",
       "Customer ID       0\n",
       "Customer Name     0\n",
       "Segment           0\n",
       "Country           0\n",
       "City              0\n",
       "State             0\n",
       "Postal Code      11\n",
       "Region            0\n",
       "Product ID        0\n",
       "Category          0\n",
       "Sub-Category      0\n",
       "Product Name      0\n",
       "Sales             0\n",
       "Quantity          0\n",
       "Discount          0\n",
       "Profit            0\n",
       "dtype: int64"
      ]
     },
     "execution_count": 5,
     "metadata": {},
     "output_type": "execute_result"
    }
   ],
   "source": [
    "# проверка на наличие пропусков\n",
    "df_orders.isna().sum()"
   ]
  },
  {
   "cell_type": "markdown",
   "id": "7b5cf6f9",
   "metadata": {},
   "source": [
    "Имеется **11** пропусков в данных почтового индекса, атрибут - **'Postal Code'**"
   ]
  },
  {
   "cell_type": "code",
   "execution_count": 6,
   "id": "5d427497",
   "metadata": {},
   "outputs": [
    {
     "data": {
      "text/html": [
       "<div>\n",
       "<style scoped>\n",
       "    .dataframe tbody tr th:only-of-type {\n",
       "        vertical-align: middle;\n",
       "    }\n",
       "\n",
       "    .dataframe tbody tr th {\n",
       "        vertical-align: top;\n",
       "    }\n",
       "\n",
       "    .dataframe thead th {\n",
       "        text-align: right;\n",
       "    }\n",
       "</style>\n",
       "<table border=\"1\" class=\"dataframe\">\n",
       "  <thead>\n",
       "    <tr style=\"text-align: right;\">\n",
       "      <th></th>\n",
       "      <th>Country</th>\n",
       "      <th>City</th>\n",
       "      <th>State</th>\n",
       "      <th>Postal Code</th>\n",
       "    </tr>\n",
       "  </thead>\n",
       "  <tbody>\n",
       "    <tr>\n",
       "      <th>2234</th>\n",
       "      <td>United States</td>\n",
       "      <td>Burlington</td>\n",
       "      <td>Vermont</td>\n",
       "      <td>NaN</td>\n",
       "    </tr>\n",
       "    <tr>\n",
       "      <th>5274</th>\n",
       "      <td>United States</td>\n",
       "      <td>Burlington</td>\n",
       "      <td>Vermont</td>\n",
       "      <td>NaN</td>\n",
       "    </tr>\n",
       "    <tr>\n",
       "      <th>8798</th>\n",
       "      <td>United States</td>\n",
       "      <td>Burlington</td>\n",
       "      <td>Vermont</td>\n",
       "      <td>NaN</td>\n",
       "    </tr>\n",
       "    <tr>\n",
       "      <th>9146</th>\n",
       "      <td>United States</td>\n",
       "      <td>Burlington</td>\n",
       "      <td>Vermont</td>\n",
       "      <td>NaN</td>\n",
       "    </tr>\n",
       "    <tr>\n",
       "      <th>9147</th>\n",
       "      <td>United States</td>\n",
       "      <td>Burlington</td>\n",
       "      <td>Vermont</td>\n",
       "      <td>NaN</td>\n",
       "    </tr>\n",
       "    <tr>\n",
       "      <th>9148</th>\n",
       "      <td>United States</td>\n",
       "      <td>Burlington</td>\n",
       "      <td>Vermont</td>\n",
       "      <td>NaN</td>\n",
       "    </tr>\n",
       "    <tr>\n",
       "      <th>9386</th>\n",
       "      <td>United States</td>\n",
       "      <td>Burlington</td>\n",
       "      <td>Vermont</td>\n",
       "      <td>NaN</td>\n",
       "    </tr>\n",
       "    <tr>\n",
       "      <th>9387</th>\n",
       "      <td>United States</td>\n",
       "      <td>Burlington</td>\n",
       "      <td>Vermont</td>\n",
       "      <td>NaN</td>\n",
       "    </tr>\n",
       "    <tr>\n",
       "      <th>9388</th>\n",
       "      <td>United States</td>\n",
       "      <td>Burlington</td>\n",
       "      <td>Vermont</td>\n",
       "      <td>NaN</td>\n",
       "    </tr>\n",
       "    <tr>\n",
       "      <th>9389</th>\n",
       "      <td>United States</td>\n",
       "      <td>Burlington</td>\n",
       "      <td>Vermont</td>\n",
       "      <td>NaN</td>\n",
       "    </tr>\n",
       "    <tr>\n",
       "      <th>9741</th>\n",
       "      <td>United States</td>\n",
       "      <td>Burlington</td>\n",
       "      <td>Vermont</td>\n",
       "      <td>NaN</td>\n",
       "    </tr>\n",
       "  </tbody>\n",
       "</table>\n",
       "</div>"
      ],
      "text/plain": [
       "            Country        City    State  Postal Code\n",
       "2234  United States  Burlington  Vermont          NaN\n",
       "5274  United States  Burlington  Vermont          NaN\n",
       "8798  United States  Burlington  Vermont          NaN\n",
       "9146  United States  Burlington  Vermont          NaN\n",
       "9147  United States  Burlington  Vermont          NaN\n",
       "9148  United States  Burlington  Vermont          NaN\n",
       "9386  United States  Burlington  Vermont          NaN\n",
       "9387  United States  Burlington  Vermont          NaN\n",
       "9388  United States  Burlington  Vermont          NaN\n",
       "9389  United States  Burlington  Vermont          NaN\n",
       "9741  United States  Burlington  Vermont          NaN"
      ]
     },
     "execution_count": 6,
     "metadata": {},
     "output_type": "execute_result"
    }
   ],
   "source": [
    "# вывод строк с пропущенными значениями почтового индекса\n",
    "df_orders[df_orders['Postal Code'].isna()][['Country', 'City', 'State', 'Postal Code']]"
   ]
  },
  {
   "cell_type": "markdown",
   "id": "4f20400a",
   "metadata": {},
   "source": [
    "Значение почтового индекса отсутствует в городе **Burlington** штат **Vermont**"
   ]
  },
  {
   "cell_type": "code",
   "execution_count": 7,
   "id": "821c10d9",
   "metadata": {},
   "outputs": [
    {
     "data": {
      "text/html": [
       "<div>\n",
       "<style scoped>\n",
       "    .dataframe tbody tr th:only-of-type {\n",
       "        vertical-align: middle;\n",
       "    }\n",
       "\n",
       "    .dataframe tbody tr th {\n",
       "        vertical-align: top;\n",
       "    }\n",
       "\n",
       "    .dataframe thead th {\n",
       "        text-align: right;\n",
       "    }\n",
       "</style>\n",
       "<table border=\"1\" class=\"dataframe\">\n",
       "  <thead>\n",
       "    <tr style=\"text-align: right;\">\n",
       "      <th></th>\n",
       "      <th>Country</th>\n",
       "      <th>City</th>\n",
       "      <th>State</th>\n",
       "      <th>Postal Code</th>\n",
       "    </tr>\n",
       "  </thead>\n",
       "  <tbody>\n",
       "    <tr>\n",
       "      <th>2234</th>\n",
       "      <td>United States</td>\n",
       "      <td>Burlington</td>\n",
       "      <td>Vermont</td>\n",
       "      <td>NaN</td>\n",
       "    </tr>\n",
       "    <tr>\n",
       "      <th>5274</th>\n",
       "      <td>United States</td>\n",
       "      <td>Burlington</td>\n",
       "      <td>Vermont</td>\n",
       "      <td>NaN</td>\n",
       "    </tr>\n",
       "    <tr>\n",
       "      <th>8798</th>\n",
       "      <td>United States</td>\n",
       "      <td>Burlington</td>\n",
       "      <td>Vermont</td>\n",
       "      <td>NaN</td>\n",
       "    </tr>\n",
       "    <tr>\n",
       "      <th>9146</th>\n",
       "      <td>United States</td>\n",
       "      <td>Burlington</td>\n",
       "      <td>Vermont</td>\n",
       "      <td>NaN</td>\n",
       "    </tr>\n",
       "    <tr>\n",
       "      <th>9147</th>\n",
       "      <td>United States</td>\n",
       "      <td>Burlington</td>\n",
       "      <td>Vermont</td>\n",
       "      <td>NaN</td>\n",
       "    </tr>\n",
       "    <tr>\n",
       "      <th>9148</th>\n",
       "      <td>United States</td>\n",
       "      <td>Burlington</td>\n",
       "      <td>Vermont</td>\n",
       "      <td>NaN</td>\n",
       "    </tr>\n",
       "    <tr>\n",
       "      <th>9386</th>\n",
       "      <td>United States</td>\n",
       "      <td>Burlington</td>\n",
       "      <td>Vermont</td>\n",
       "      <td>NaN</td>\n",
       "    </tr>\n",
       "    <tr>\n",
       "      <th>9387</th>\n",
       "      <td>United States</td>\n",
       "      <td>Burlington</td>\n",
       "      <td>Vermont</td>\n",
       "      <td>NaN</td>\n",
       "    </tr>\n",
       "    <tr>\n",
       "      <th>9388</th>\n",
       "      <td>United States</td>\n",
       "      <td>Burlington</td>\n",
       "      <td>Vermont</td>\n",
       "      <td>NaN</td>\n",
       "    </tr>\n",
       "    <tr>\n",
       "      <th>9389</th>\n",
       "      <td>United States</td>\n",
       "      <td>Burlington</td>\n",
       "      <td>Vermont</td>\n",
       "      <td>NaN</td>\n",
       "    </tr>\n",
       "    <tr>\n",
       "      <th>9741</th>\n",
       "      <td>United States</td>\n",
       "      <td>Burlington</td>\n",
       "      <td>Vermont</td>\n",
       "      <td>NaN</td>\n",
       "    </tr>\n",
       "  </tbody>\n",
       "</table>\n",
       "</div>"
      ],
      "text/plain": [
       "            Country        City    State  Postal Code\n",
       "2234  United States  Burlington  Vermont          NaN\n",
       "5274  United States  Burlington  Vermont          NaN\n",
       "8798  United States  Burlington  Vermont          NaN\n",
       "9146  United States  Burlington  Vermont          NaN\n",
       "9147  United States  Burlington  Vermont          NaN\n",
       "9148  United States  Burlington  Vermont          NaN\n",
       "9386  United States  Burlington  Vermont          NaN\n",
       "9387  United States  Burlington  Vermont          NaN\n",
       "9388  United States  Burlington  Vermont          NaN\n",
       "9389  United States  Burlington  Vermont          NaN\n",
       "9741  United States  Burlington  Vermont          NaN"
      ]
     },
     "execution_count": 7,
     "metadata": {},
     "output_type": "execute_result"
    }
   ],
   "source": [
    "# проверка наличия значений почтового индекса в остальных данных для города Burlington штат Vermont\n",
    "df_orders.query('(City == \"Burlington\") & (State == \"Vermont\")')[['Country', 'City', 'State', 'Postal Code']]"
   ]
  },
  {
   "cell_type": "markdown",
   "id": "99ad47f8",
   "metadata": {},
   "source": [
    "Значения почтового индекса для города Burlington штат Vermont **не найдены**"
   ]
  },
  {
   "cell_type": "markdown",
   "id": "be4a861a",
   "metadata": {},
   "source": [
    "Согласно данным сайта [ZIP Code Query](https://vt.postcodebase.com/city/BURLINGTON) почтовый индекс города ***Burlington*** штат ***Vermont*** **5401**"
   ]
  },
  {
   "cell_type": "code",
   "execution_count": 8,
   "id": "bb00393c",
   "metadata": {},
   "outputs": [],
   "source": [
    "# заполнение пропусков в данных почтового индекса\n",
    "df_orders['Postal Code'] = df_orders['Postal Code'].fillna(5401)"
   ]
  },
  {
   "cell_type": "code",
   "execution_count": 9,
   "id": "d7da4542",
   "metadata": {},
   "outputs": [
    {
     "data": {
      "text/plain": [
       "Row ID           0\n",
       "Order ID         0\n",
       "Order Date       0\n",
       "Ship Date        0\n",
       "Ship Mode        0\n",
       "Customer ID      0\n",
       "Customer Name    0\n",
       "Segment          0\n",
       "Country          0\n",
       "City             0\n",
       "State            0\n",
       "Postal Code      0\n",
       "Region           0\n",
       "Product ID       0\n",
       "Category         0\n",
       "Sub-Category     0\n",
       "Product Name     0\n",
       "Sales            0\n",
       "Quantity         0\n",
       "Discount         0\n",
       "Profit           0\n",
       "dtype: int64"
      ]
     },
     "execution_count": 9,
     "metadata": {},
     "output_type": "execute_result"
    }
   ],
   "source": [
    "# проверка на наличие пропусков\n",
    "df_orders.isna().sum()"
   ]
  },
  {
   "cell_type": "markdown",
   "id": "e22b15dd",
   "metadata": {},
   "source": [
    "Пропусков в данных **нет**"
   ]
  },
  {
   "cell_type": "code",
   "execution_count": 10,
   "id": "d0803b0a",
   "metadata": {},
   "outputs": [
    {
     "data": {
      "text/plain": [
       "0"
      ]
     },
     "execution_count": 10,
     "metadata": {},
     "output_type": "execute_result"
    }
   ],
   "source": [
    "# проверка на наличие дубликатов\n",
    "df_orders.duplicated().sum()"
   ]
  },
  {
   "cell_type": "code",
   "execution_count": 11,
   "id": "4b0549ef",
   "metadata": {},
   "outputs": [
    {
     "data": {
      "text/plain": [
       "1"
      ]
     },
     "execution_count": 11,
     "metadata": {},
     "output_type": "execute_result"
    }
   ],
   "source": [
    "# проверка на наличие дубликатов\n",
    "df_orders.iloc[:,1:].duplicated().sum()"
   ]
  },
  {
   "cell_type": "markdown",
   "id": "02c25543",
   "metadata": {},
   "source": [
    "В данных по продажам присутствует **1 (один)** дубликат"
   ]
  },
  {
   "cell_type": "code",
   "execution_count": 12,
   "id": "b111da51",
   "metadata": {},
   "outputs": [
    {
     "data": {
      "text/html": [
       "<div>\n",
       "<style scoped>\n",
       "    .dataframe tbody tr th:only-of-type {\n",
       "        vertical-align: middle;\n",
       "    }\n",
       "\n",
       "    .dataframe tbody tr th {\n",
       "        vertical-align: top;\n",
       "    }\n",
       "\n",
       "    .dataframe thead th {\n",
       "        text-align: right;\n",
       "    }\n",
       "</style>\n",
       "<table border=\"1\" class=\"dataframe\">\n",
       "  <thead>\n",
       "    <tr style=\"text-align: right;\">\n",
       "      <th></th>\n",
       "      <th>Row ID</th>\n",
       "      <th>Order ID</th>\n",
       "      <th>Order Date</th>\n",
       "      <th>Ship Date</th>\n",
       "      <th>Ship Mode</th>\n",
       "      <th>Customer ID</th>\n",
       "      <th>Customer Name</th>\n",
       "      <th>Segment</th>\n",
       "      <th>Country</th>\n",
       "      <th>City</th>\n",
       "      <th>...</th>\n",
       "      <th>Postal Code</th>\n",
       "      <th>Region</th>\n",
       "      <th>Product ID</th>\n",
       "      <th>Category</th>\n",
       "      <th>Sub-Category</th>\n",
       "      <th>Product Name</th>\n",
       "      <th>Sales</th>\n",
       "      <th>Quantity</th>\n",
       "      <th>Discount</th>\n",
       "      <th>Profit</th>\n",
       "    </tr>\n",
       "  </thead>\n",
       "  <tbody>\n",
       "    <tr>\n",
       "      <th>3405</th>\n",
       "      <td>3406</td>\n",
       "      <td>US-2016-150119</td>\n",
       "      <td>2016-04-23</td>\n",
       "      <td>2016-04-27</td>\n",
       "      <td>Standard Class</td>\n",
       "      <td>LB-16795</td>\n",
       "      <td>Laurel Beltran</td>\n",
       "      <td>Home Office</td>\n",
       "      <td>United States</td>\n",
       "      <td>Columbus</td>\n",
       "      <td>...</td>\n",
       "      <td>43229.0</td>\n",
       "      <td>East</td>\n",
       "      <td>FUR-CH-10002965</td>\n",
       "      <td>Furniture</td>\n",
       "      <td>Chairs</td>\n",
       "      <td>Global Leather Highback Executive Chair with P...</td>\n",
       "      <td>281.372</td>\n",
       "      <td>2</td>\n",
       "      <td>0.3</td>\n",
       "      <td>-12.0588</td>\n",
       "    </tr>\n",
       "    <tr>\n",
       "      <th>3406</th>\n",
       "      <td>3407</td>\n",
       "      <td>US-2016-150119</td>\n",
       "      <td>2016-04-23</td>\n",
       "      <td>2016-04-27</td>\n",
       "      <td>Standard Class</td>\n",
       "      <td>LB-16795</td>\n",
       "      <td>Laurel Beltran</td>\n",
       "      <td>Home Office</td>\n",
       "      <td>United States</td>\n",
       "      <td>Columbus</td>\n",
       "      <td>...</td>\n",
       "      <td>43229.0</td>\n",
       "      <td>East</td>\n",
       "      <td>FUR-CH-10002965</td>\n",
       "      <td>Furniture</td>\n",
       "      <td>Chairs</td>\n",
       "      <td>Global Leather Highback Executive Chair with P...</td>\n",
       "      <td>281.372</td>\n",
       "      <td>2</td>\n",
       "      <td>0.3</td>\n",
       "      <td>-12.0588</td>\n",
       "    </tr>\n",
       "  </tbody>\n",
       "</table>\n",
       "<p>2 rows × 21 columns</p>\n",
       "</div>"
      ],
      "text/plain": [
       "      Row ID        Order ID Order Date  Ship Date       Ship Mode  \\\n",
       "3405    3406  US-2016-150119 2016-04-23 2016-04-27  Standard Class   \n",
       "3406    3407  US-2016-150119 2016-04-23 2016-04-27  Standard Class   \n",
       "\n",
       "     Customer ID   Customer Name      Segment        Country      City  ...  \\\n",
       "3405    LB-16795  Laurel Beltran  Home Office  United States  Columbus  ...   \n",
       "3406    LB-16795  Laurel Beltran  Home Office  United States  Columbus  ...   \n",
       "\n",
       "     Postal Code  Region       Product ID   Category Sub-Category  \\\n",
       "3405     43229.0    East  FUR-CH-10002965  Furniture       Chairs   \n",
       "3406     43229.0    East  FUR-CH-10002965  Furniture       Chairs   \n",
       "\n",
       "                                           Product Name    Sales  Quantity  \\\n",
       "3405  Global Leather Highback Executive Chair with P...  281.372         2   \n",
       "3406  Global Leather Highback Executive Chair with P...  281.372         2   \n",
       "\n",
       "      Discount   Profit  \n",
       "3405       0.3 -12.0588  \n",
       "3406       0.3 -12.0588  \n",
       "\n",
       "[2 rows x 21 columns]"
      ]
     },
     "execution_count": 12,
     "metadata": {},
     "output_type": "execute_result"
    }
   ],
   "source": [
    "# вывод дубликатов\n",
    "df_orders[df_orders.iloc[:,1:].duplicated(keep=False)]"
   ]
  },
  {
   "cell_type": "code",
   "execution_count": 13,
   "id": "04f6aad8",
   "metadata": {},
   "outputs": [
    {
     "data": {
      "text/plain": [
       "(9994, 21)"
      ]
     },
     "execution_count": 13,
     "metadata": {},
     "output_type": "execute_result"
    }
   ],
   "source": [
    "# размерность данных \n",
    "df_orders.shape"
   ]
  },
  {
   "cell_type": "code",
   "execution_count": 14,
   "id": "62f1997b",
   "metadata": {},
   "outputs": [
    {
     "data": {
      "text/html": [
       "<div>\n",
       "<style scoped>\n",
       "    .dataframe tbody tr th:only-of-type {\n",
       "        vertical-align: middle;\n",
       "    }\n",
       "\n",
       "    .dataframe tbody tr th {\n",
       "        vertical-align: top;\n",
       "    }\n",
       "\n",
       "    .dataframe thead th {\n",
       "        text-align: right;\n",
       "    }\n",
       "</style>\n",
       "<table border=\"1\" class=\"dataframe\">\n",
       "  <thead>\n",
       "    <tr style=\"text-align: right;\">\n",
       "      <th></th>\n",
       "      <th>Row ID</th>\n",
       "      <th>Order ID</th>\n",
       "      <th>Order Date</th>\n",
       "      <th>Ship Date</th>\n",
       "      <th>Ship Mode</th>\n",
       "      <th>Customer ID</th>\n",
       "      <th>Customer Name</th>\n",
       "      <th>Segment</th>\n",
       "      <th>Country</th>\n",
       "      <th>City</th>\n",
       "      <th>...</th>\n",
       "      <th>Postal Code</th>\n",
       "      <th>Region</th>\n",
       "      <th>Product ID</th>\n",
       "      <th>Category</th>\n",
       "      <th>Sub-Category</th>\n",
       "      <th>Product Name</th>\n",
       "      <th>Sales</th>\n",
       "      <th>Quantity</th>\n",
       "      <th>Discount</th>\n",
       "      <th>Profit</th>\n",
       "    </tr>\n",
       "  </thead>\n",
       "  <tbody>\n",
       "    <tr>\n",
       "      <th>0</th>\n",
       "      <td>1</td>\n",
       "      <td>CA-2018-152156</td>\n",
       "      <td>2018-11-08</td>\n",
       "      <td>2018-11-11</td>\n",
       "      <td>Second Class</td>\n",
       "      <td>CG-12520</td>\n",
       "      <td>Claire Gute</td>\n",
       "      <td>Consumer</td>\n",
       "      <td>United States</td>\n",
       "      <td>Henderson</td>\n",
       "      <td>...</td>\n",
       "      <td>42420.0</td>\n",
       "      <td>South</td>\n",
       "      <td>FUR-BO-10001798</td>\n",
       "      <td>Furniture</td>\n",
       "      <td>Bookcases</td>\n",
       "      <td>Bush Somerset Collection Bookcase</td>\n",
       "      <td>261.9600</td>\n",
       "      <td>2</td>\n",
       "      <td>0.00</td>\n",
       "      <td>41.9136</td>\n",
       "    </tr>\n",
       "    <tr>\n",
       "      <th>1</th>\n",
       "      <td>2</td>\n",
       "      <td>CA-2018-152156</td>\n",
       "      <td>2018-11-08</td>\n",
       "      <td>2018-11-11</td>\n",
       "      <td>Second Class</td>\n",
       "      <td>CG-12520</td>\n",
       "      <td>Claire Gute</td>\n",
       "      <td>Consumer</td>\n",
       "      <td>United States</td>\n",
       "      <td>Henderson</td>\n",
       "      <td>...</td>\n",
       "      <td>42420.0</td>\n",
       "      <td>South</td>\n",
       "      <td>FUR-CH-10000454</td>\n",
       "      <td>Furniture</td>\n",
       "      <td>Chairs</td>\n",
       "      <td>Hon Deluxe Fabric Upholstered Stacking Chairs,...</td>\n",
       "      <td>731.9400</td>\n",
       "      <td>3</td>\n",
       "      <td>0.00</td>\n",
       "      <td>219.5820</td>\n",
       "    </tr>\n",
       "    <tr>\n",
       "      <th>2</th>\n",
       "      <td>3</td>\n",
       "      <td>CA-2018-138688</td>\n",
       "      <td>2018-06-12</td>\n",
       "      <td>2018-06-16</td>\n",
       "      <td>Second Class</td>\n",
       "      <td>DV-13045</td>\n",
       "      <td>Darrin Van Huff</td>\n",
       "      <td>Corporate</td>\n",
       "      <td>United States</td>\n",
       "      <td>Los Angeles</td>\n",
       "      <td>...</td>\n",
       "      <td>90036.0</td>\n",
       "      <td>West</td>\n",
       "      <td>OFF-LA-10000240</td>\n",
       "      <td>Office Supplies</td>\n",
       "      <td>Labels</td>\n",
       "      <td>Self-Adhesive Address Labels for Typewriters b...</td>\n",
       "      <td>14.6200</td>\n",
       "      <td>2</td>\n",
       "      <td>0.00</td>\n",
       "      <td>6.8714</td>\n",
       "    </tr>\n",
       "    <tr>\n",
       "      <th>3</th>\n",
       "      <td>4</td>\n",
       "      <td>US-2017-108966</td>\n",
       "      <td>2017-10-11</td>\n",
       "      <td>2017-10-18</td>\n",
       "      <td>Standard Class</td>\n",
       "      <td>SO-20335</td>\n",
       "      <td>Sean O'Donnell</td>\n",
       "      <td>Consumer</td>\n",
       "      <td>United States</td>\n",
       "      <td>Fort Lauderdale</td>\n",
       "      <td>...</td>\n",
       "      <td>33311.0</td>\n",
       "      <td>South</td>\n",
       "      <td>FUR-TA-10000577</td>\n",
       "      <td>Furniture</td>\n",
       "      <td>Tables</td>\n",
       "      <td>Bretford CR4500 Series Slim Rectangular Table</td>\n",
       "      <td>957.5775</td>\n",
       "      <td>5</td>\n",
       "      <td>0.45</td>\n",
       "      <td>-383.0310</td>\n",
       "    </tr>\n",
       "    <tr>\n",
       "      <th>4</th>\n",
       "      <td>5</td>\n",
       "      <td>US-2017-108966</td>\n",
       "      <td>2017-10-11</td>\n",
       "      <td>2017-10-18</td>\n",
       "      <td>Standard Class</td>\n",
       "      <td>SO-20335</td>\n",
       "      <td>Sean O'Donnell</td>\n",
       "      <td>Consumer</td>\n",
       "      <td>United States</td>\n",
       "      <td>Fort Lauderdale</td>\n",
       "      <td>...</td>\n",
       "      <td>33311.0</td>\n",
       "      <td>South</td>\n",
       "      <td>OFF-ST-10000760</td>\n",
       "      <td>Office Supplies</td>\n",
       "      <td>Storage</td>\n",
       "      <td>Eldon Fold 'N Roll Cart System</td>\n",
       "      <td>22.3680</td>\n",
       "      <td>2</td>\n",
       "      <td>0.20</td>\n",
       "      <td>2.5164</td>\n",
       "    </tr>\n",
       "  </tbody>\n",
       "</table>\n",
       "<p>5 rows × 21 columns</p>\n",
       "</div>"
      ],
      "text/plain": [
       "   Row ID        Order ID Order Date  Ship Date       Ship Mode Customer ID  \\\n",
       "0       1  CA-2018-152156 2018-11-08 2018-11-11    Second Class    CG-12520   \n",
       "1       2  CA-2018-152156 2018-11-08 2018-11-11    Second Class    CG-12520   \n",
       "2       3  CA-2018-138688 2018-06-12 2018-06-16    Second Class    DV-13045   \n",
       "3       4  US-2017-108966 2017-10-11 2017-10-18  Standard Class    SO-20335   \n",
       "4       5  US-2017-108966 2017-10-11 2017-10-18  Standard Class    SO-20335   \n",
       "\n",
       "     Customer Name    Segment        Country             City  ...  \\\n",
       "0      Claire Gute   Consumer  United States        Henderson  ...   \n",
       "1      Claire Gute   Consumer  United States        Henderson  ...   \n",
       "2  Darrin Van Huff  Corporate  United States      Los Angeles  ...   \n",
       "3   Sean O'Donnell   Consumer  United States  Fort Lauderdale  ...   \n",
       "4   Sean O'Donnell   Consumer  United States  Fort Lauderdale  ...   \n",
       "\n",
       "  Postal Code  Region       Product ID         Category Sub-Category  \\\n",
       "0     42420.0   South  FUR-BO-10001798        Furniture    Bookcases   \n",
       "1     42420.0   South  FUR-CH-10000454        Furniture       Chairs   \n",
       "2     90036.0    West  OFF-LA-10000240  Office Supplies       Labels   \n",
       "3     33311.0   South  FUR-TA-10000577        Furniture       Tables   \n",
       "4     33311.0   South  OFF-ST-10000760  Office Supplies      Storage   \n",
       "\n",
       "                                        Product Name     Sales  Quantity  \\\n",
       "0                  Bush Somerset Collection Bookcase  261.9600         2   \n",
       "1  Hon Deluxe Fabric Upholstered Stacking Chairs,...  731.9400         3   \n",
       "2  Self-Adhesive Address Labels for Typewriters b...   14.6200         2   \n",
       "3      Bretford CR4500 Series Slim Rectangular Table  957.5775         5   \n",
       "4                     Eldon Fold 'N Roll Cart System   22.3680         2   \n",
       "\n",
       "   Discount    Profit  \n",
       "0      0.00   41.9136  \n",
       "1      0.00  219.5820  \n",
       "2      0.00    6.8714  \n",
       "3      0.45 -383.0310  \n",
       "4      0.20    2.5164  \n",
       "\n",
       "[5 rows x 21 columns]"
      ]
     },
     "execution_count": 14,
     "metadata": {},
     "output_type": "execute_result"
    }
   ],
   "source": [
    "# удаление дубликатов\n",
    "df_orders = df_orders.drop(index=3405).reset_index(drop=True)\n",
    "df_orders.head()"
   ]
  },
  {
   "cell_type": "code",
   "execution_count": 15,
   "id": "98741d40",
   "metadata": {},
   "outputs": [
    {
     "data": {
      "text/plain": [
       "(9993, 21)"
      ]
     },
     "execution_count": 15,
     "metadata": {},
     "output_type": "execute_result"
    }
   ],
   "source": [
    "# размерность данных \n",
    "df_orders.shape"
   ]
  },
  {
   "cell_type": "markdown",
   "id": "a8919e9c",
   "metadata": {},
   "source": [
    "Дубликаты **удалены**"
   ]
  },
  {
   "cell_type": "markdown",
   "id": "26233ac4",
   "metadata": {},
   "source": [
    "### 1.2 Менеджеры - People"
   ]
  },
  {
   "cell_type": "code",
   "execution_count": 16,
   "id": "8deb68ee",
   "metadata": {},
   "outputs": [
    {
     "data": {
      "text/html": [
       "<div>\n",
       "<style scoped>\n",
       "    .dataframe tbody tr th:only-of-type {\n",
       "        vertical-align: middle;\n",
       "    }\n",
       "\n",
       "    .dataframe tbody tr th {\n",
       "        vertical-align: top;\n",
       "    }\n",
       "\n",
       "    .dataframe thead th {\n",
       "        text-align: right;\n",
       "    }\n",
       "</style>\n",
       "<table border=\"1\" class=\"dataframe\">\n",
       "  <thead>\n",
       "    <tr style=\"text-align: right;\">\n",
       "      <th></th>\n",
       "      <th>Person</th>\n",
       "      <th>Region</th>\n",
       "    </tr>\n",
       "  </thead>\n",
       "  <tbody>\n",
       "    <tr>\n",
       "      <th>0</th>\n",
       "      <td>Anna Andreadi</td>\n",
       "      <td>West</td>\n",
       "    </tr>\n",
       "    <tr>\n",
       "      <th>1</th>\n",
       "      <td>Chuck Magee</td>\n",
       "      <td>East</td>\n",
       "    </tr>\n",
       "    <tr>\n",
       "      <th>2</th>\n",
       "      <td>Kelly Williams</td>\n",
       "      <td>Central</td>\n",
       "    </tr>\n",
       "    <tr>\n",
       "      <th>3</th>\n",
       "      <td>Cassandra Brandow</td>\n",
       "      <td>South</td>\n",
       "    </tr>\n",
       "  </tbody>\n",
       "</table>\n",
       "</div>"
      ],
      "text/plain": [
       "              Person   Region\n",
       "0      Anna Andreadi     West\n",
       "1        Chuck Magee     East\n",
       "2     Kelly Williams  Central\n",
       "3  Cassandra Brandow    South"
      ]
     },
     "execution_count": 16,
     "metadata": {},
     "output_type": "execute_result"
    }
   ],
   "source": [
    "# загрузка данных по менеджерам\n",
    "df_people = pd.read_excel('data/Sample - Superstore.xls', sheet_name='People')\n",
    "df_people.head()"
   ]
  },
  {
   "cell_type": "markdown",
   "id": "e22e9aef",
   "metadata": {},
   "source": [
    "### 1.3 Возвраты - Returns"
   ]
  },
  {
   "cell_type": "code",
   "execution_count": 17,
   "id": "ba77ad0f",
   "metadata": {},
   "outputs": [
    {
     "data": {
      "text/html": [
       "<div>\n",
       "<style scoped>\n",
       "    .dataframe tbody tr th:only-of-type {\n",
       "        vertical-align: middle;\n",
       "    }\n",
       "\n",
       "    .dataframe tbody tr th {\n",
       "        vertical-align: top;\n",
       "    }\n",
       "\n",
       "    .dataframe thead th {\n",
       "        text-align: right;\n",
       "    }\n",
       "</style>\n",
       "<table border=\"1\" class=\"dataframe\">\n",
       "  <thead>\n",
       "    <tr style=\"text-align: right;\">\n",
       "      <th></th>\n",
       "      <th>Returned</th>\n",
       "      <th>Order ID</th>\n",
       "    </tr>\n",
       "  </thead>\n",
       "  <tbody>\n",
       "    <tr>\n",
       "      <th>0</th>\n",
       "      <td>Yes</td>\n",
       "      <td>CA-2016-100762</td>\n",
       "    </tr>\n",
       "    <tr>\n",
       "      <th>1</th>\n",
       "      <td>Yes</td>\n",
       "      <td>CA-2016-100762</td>\n",
       "    </tr>\n",
       "    <tr>\n",
       "      <th>2</th>\n",
       "      <td>Yes</td>\n",
       "      <td>CA-2016-100762</td>\n",
       "    </tr>\n",
       "    <tr>\n",
       "      <th>3</th>\n",
       "      <td>Yes</td>\n",
       "      <td>CA-2016-100762</td>\n",
       "    </tr>\n",
       "    <tr>\n",
       "      <th>4</th>\n",
       "      <td>Yes</td>\n",
       "      <td>CA-2016-100867</td>\n",
       "    </tr>\n",
       "  </tbody>\n",
       "</table>\n",
       "</div>"
      ],
      "text/plain": [
       "  Returned        Order ID\n",
       "0      Yes  CA-2016-100762\n",
       "1      Yes  CA-2016-100762\n",
       "2      Yes  CA-2016-100762\n",
       "3      Yes  CA-2016-100762\n",
       "4      Yes  CA-2016-100867"
      ]
     },
     "execution_count": 17,
     "metadata": {},
     "output_type": "execute_result"
    }
   ],
   "source": [
    "# загрузка данных по возвратам\n",
    "df_returns = pd.read_excel('data/Sample - Superstore.xls', sheet_name='Returns')\n",
    "df_returns.head()"
   ]
  },
  {
   "cell_type": "code",
   "execution_count": 18,
   "id": "c941b83d",
   "metadata": {},
   "outputs": [
    {
     "data": {
      "text/plain": [
       "Returned    0\n",
       "Order ID    0\n",
       "dtype: int64"
      ]
     },
     "execution_count": 18,
     "metadata": {},
     "output_type": "execute_result"
    }
   ],
   "source": [
    "# проверка на наличие пропусков\n",
    "df_returns.isna().sum()"
   ]
  },
  {
   "cell_type": "code",
   "execution_count": 19,
   "id": "779da1ea",
   "metadata": {},
   "outputs": [
    {
     "data": {
      "text/plain": [
       "504"
      ]
     },
     "execution_count": 19,
     "metadata": {},
     "output_type": "execute_result"
    }
   ],
   "source": [
    "# проверка на наличие дубликатов\n",
    "df_returns.duplicated().sum()"
   ]
  },
  {
   "cell_type": "markdown",
   "id": "2526bb57",
   "metadata": {},
   "source": [
    "В данных по возвратам **504** повтора"
   ]
  },
  {
   "cell_type": "code",
   "execution_count": 20,
   "id": "5fb977ab",
   "metadata": {},
   "outputs": [
    {
     "data": {
      "text/plain": [
       "(800, 2)"
      ]
     },
     "execution_count": 20,
     "metadata": {},
     "output_type": "execute_result"
    }
   ],
   "source": [
    "# размерность данных\n",
    "df_returns.shape"
   ]
  },
  {
   "cell_type": "code",
   "execution_count": 21,
   "id": "30108157",
   "metadata": {},
   "outputs": [
    {
     "data": {
      "text/html": [
       "<div>\n",
       "<style scoped>\n",
       "    .dataframe tbody tr th:only-of-type {\n",
       "        vertical-align: middle;\n",
       "    }\n",
       "\n",
       "    .dataframe tbody tr th {\n",
       "        vertical-align: top;\n",
       "    }\n",
       "\n",
       "    .dataframe thead th {\n",
       "        text-align: right;\n",
       "    }\n",
       "</style>\n",
       "<table border=\"1\" class=\"dataframe\">\n",
       "  <thead>\n",
       "    <tr style=\"text-align: right;\">\n",
       "      <th></th>\n",
       "      <th>Returned</th>\n",
       "      <th>Order ID</th>\n",
       "    </tr>\n",
       "  </thead>\n",
       "  <tbody>\n",
       "    <tr>\n",
       "      <th>0</th>\n",
       "      <td>Yes</td>\n",
       "      <td>CA-2016-100762</td>\n",
       "    </tr>\n",
       "    <tr>\n",
       "      <th>1</th>\n",
       "      <td>Yes</td>\n",
       "      <td>CA-2016-100867</td>\n",
       "    </tr>\n",
       "    <tr>\n",
       "      <th>2</th>\n",
       "      <td>Yes</td>\n",
       "      <td>CA-2016-102652</td>\n",
       "    </tr>\n",
       "    <tr>\n",
       "      <th>3</th>\n",
       "      <td>Yes</td>\n",
       "      <td>CA-2016-103373</td>\n",
       "    </tr>\n",
       "    <tr>\n",
       "      <th>4</th>\n",
       "      <td>Yes</td>\n",
       "      <td>CA-2016-103744</td>\n",
       "    </tr>\n",
       "  </tbody>\n",
       "</table>\n",
       "</div>"
      ],
      "text/plain": [
       "  Returned        Order ID\n",
       "0      Yes  CA-2016-100762\n",
       "1      Yes  CA-2016-100867\n",
       "2      Yes  CA-2016-102652\n",
       "3      Yes  CA-2016-103373\n",
       "4      Yes  CA-2016-103744"
      ]
     },
     "execution_count": 21,
     "metadata": {},
     "output_type": "execute_result"
    }
   ],
   "source": [
    "# удаление дубликатов\n",
    "df_returns = df_returns.drop_duplicates().reset_index(drop=True)\n",
    "df_returns.head()"
   ]
  },
  {
   "cell_type": "code",
   "execution_count": 22,
   "id": "efda5c4f",
   "metadata": {},
   "outputs": [
    {
     "data": {
      "text/plain": [
       "(296, 2)"
      ]
     },
     "execution_count": 22,
     "metadata": {},
     "output_type": "execute_result"
    }
   ],
   "source": [
    "# размерность данных\n",
    "df_returns.shape"
   ]
  },
  {
   "cell_type": "markdown",
   "id": "7df72657",
   "metadata": {},
   "source": [
    "## 2. Подключение к базе данных"
   ]
  },
  {
   "cell_type": "code",
   "execution_count": 23,
   "id": "5fa48df8",
   "metadata": {},
   "outputs": [
    {
     "name": "stdout",
     "output_type": "stream",
     "text": [
      "Enter secret password:········\n"
     ]
    }
   ],
   "source": [
    "# безопасно запрашиваем ввод пароля в CLI\n",
    "password = getpass.getpass(prompt=\"Enter secret password:\")"
   ]
  },
  {
   "cell_type": "code",
   "execution_count": 24,
   "id": "f77e1540",
   "metadata": {},
   "outputs": [
    {
     "name": "stdout",
     "output_type": "stream",
     "text": [
      "База данных успешно открыта\n"
     ]
    }
   ],
   "source": [
    "# создание подключения к базе данных\n",
    "connect = psycopg2.connect(database='postgres',\n",
    "                           user='postgres',\n",
    "                           password=password,\n",
    "                           host='127.0.0.1',\n",
    "                           port='5432')\n",
    "\n",
    "print('База данных успешно открыта')"
   ]
  },
  {
   "cell_type": "code",
   "execution_count": 25,
   "id": "45a9e353",
   "metadata": {},
   "outputs": [],
   "source": [
    "# создание объекта курсора подключения к базе данных 'postgres'\n",
    "cursor = connect.cursor()"
   ]
  },
  {
   "cell_type": "code",
   "execution_count": 26,
   "id": "4e4ca936",
   "metadata": {},
   "outputs": [
    {
     "data": {
      "text/plain": [
       "[('orders',), ('people',), ('returns',)]"
      ]
     },
     "execution_count": 26,
     "metadata": {},
     "output_type": "execute_result"
    }
   ],
   "source": [
    "# вывод наименований таблиц в базе данных 'postgres'\n",
    "cursor.execute(\"SELECT table_name FROM information_schema.tables \\\n",
    "             WHERE table_schema NOT IN ('information_schema', 'pg_catalog') \\\n",
    "             AND table_schema IN('public', 'myschema');\")\n",
    "cursor.fetchall()"
   ]
  },
  {
   "cell_type": "markdown",
   "id": "8d9ba6cf",
   "metadata": {},
   "source": [
    "## 3. Запись данных"
   ]
  },
  {
   "cell_type": "markdown",
   "id": "9d7d4f51",
   "metadata": {},
   "source": [
    "### 3.1. Таблица заказы - 'orders'"
   ]
  },
  {
   "cell_type": "code",
   "execution_count": 27,
   "id": "1ade3f68",
   "metadata": {},
   "outputs": [
    {
     "name": "stdout",
     "output_type": "stream",
     "text": [
      "['row_id', 'order_date', 'ship_date', 'postal_code', 'sales', 'quantity', 'discount', 'profit', 'country', 'city', 'state', 'product_name', 'region', 'product_id', 'order_id', 'category', 'subcategory', 'ship_mode', 'customer_id', 'customer_name', 'segment']\n"
     ]
    }
   ],
   "source": [
    "# значение атрибутов в таблице 'orders'\n",
    "cursor.execute(\"SELECT column_name \\\n",
    "             FROM information_schema.columns \\\n",
    "             WHERE table_name = 'orders';\")\n",
    "columnsname = [_[0] for _ in cursor.fetchall()]\n",
    "print(columnsname)"
   ]
  },
  {
   "cell_type": "code",
   "execution_count": 28,
   "id": "c60d3328",
   "metadata": {},
   "outputs": [
    {
     "data": {
      "text/plain": [
       "Index(['Row ID', 'Order ID', 'Order Date', 'Ship Date', 'Ship Mode',\n",
       "       'Customer ID', 'Customer Name', 'Segment', 'Country', 'City', 'State',\n",
       "       'Postal Code', 'Region', 'Product ID', 'Category', 'Sub-Category',\n",
       "       'Product Name', 'Sales', 'Quantity', 'Discount', 'Profit'],\n",
       "      dtype='object')"
      ]
     },
     "execution_count": 28,
     "metadata": {},
     "output_type": "execute_result"
    }
   ],
   "source": [
    "# значение атрибутов в исходном файле 'Sample - Superstore.xls'\n",
    "df_orders.columns"
   ]
  },
  {
   "cell_type": "code",
   "execution_count": 29,
   "id": "e6416579",
   "metadata": {},
   "outputs": [
    {
     "data": {
      "text/plain": [
       "(9993, 21)"
      ]
     },
     "execution_count": 29,
     "metadata": {},
     "output_type": "execute_result"
    }
   ],
   "source": [
    "# размерность данных\n",
    "df_orders.shape"
   ]
  },
  {
   "cell_type": "code",
   "execution_count": 30,
   "id": "4fe426bf",
   "metadata": {},
   "outputs": [
    {
     "data": {
      "text/plain": [
       "array([1, 'CA-2018-152156', Timestamp('2018-11-08 00:00:00'),\n",
       "       Timestamp('2018-11-11 00:00:00'), 'Second Class', 'CG-12520',\n",
       "       'Claire Gute', 'Consumer', 'United States', 'Henderson',\n",
       "       'Kentucky', 42420.0, 'South', 'FUR-BO-10001798', 'Furniture',\n",
       "       'Bookcases', 'Bush Somerset Collection Bookcase', 261.96, 2, 0.0,\n",
       "       41.9136], dtype=object)"
      ]
     },
     "execution_count": 30,
     "metadata": {},
     "output_type": "execute_result"
    }
   ],
   "source": [
    "# первая строка данных для записи в таблицу 'orders'\n",
    "order_1 = df_orders.iloc[0].values\n",
    "order_1"
   ]
  },
  {
   "cell_type": "code",
   "execution_count": 31,
   "id": "7912e7b8",
   "metadata": {},
   "outputs": [],
   "source": [
    "# преобразование типа данных для записи в таблицу 'orders'\n",
    "order_1[[0, 18]] = order_1[[0, 18]].astype('int')"
   ]
  },
  {
   "cell_type": "code",
   "execution_count": 32,
   "id": "72eb53e8",
   "metadata": {},
   "outputs": [],
   "source": [
    "# преобразование типа данных для записи в таблицу 'orders'\n",
    "order_1[[11, 17, 19, 20]] = order_1[[11, 17, 19, 20]].astype('float')"
   ]
  },
  {
   "cell_type": "code",
   "execution_count": 33,
   "id": "b7c68c93",
   "metadata": {},
   "outputs": [
    {
     "data": {
      "text/plain": [
       "array([1, 'CA-2018-152156', Timestamp('2018-11-08 00:00:00'),\n",
       "       Timestamp('2018-11-11 00:00:00'), 'Second Class', 'CG-12520',\n",
       "       'Claire Gute', 'Consumer', 'United States', 'Henderson',\n",
       "       'Kentucky', 42420.0, 'South', 'FUR-BO-10001798', 'Furniture',\n",
       "       'Bookcases', 'Bush Somerset Collection Bookcase', 261.96, 2, 0.0,\n",
       "       41.9136], dtype=object)"
      ]
     },
     "execution_count": 33,
     "metadata": {},
     "output_type": "execute_result"
    }
   ],
   "source": [
    "# первая строка данных для записи в таблицу 'orders'\n",
    "order_1"
   ]
  },
  {
   "cell_type": "code",
   "execution_count": 34,
   "id": "659775c3",
   "metadata": {},
   "outputs": [],
   "source": [
    "# задание формата данных даты\n",
    "cursor.execute(\"SET datestyle to 'ISO, MDY';\")\n",
    "connect.commit()"
   ]
  },
  {
   "cell_type": "code",
   "execution_count": 35,
   "id": "7cf40867",
   "metadata": {},
   "outputs": [],
   "source": [
    "# запись первой строки в таблицу - 'orders' \n",
    "cursor.execute(\"INSERT INTO orders( \\\n",
    "                Row_ID, Order_ID, Order_Date, Ship_Date, Ship_Mode, \\\n",
    "                Customer_ID, Customer_Name, Segment, \\\n",
    "                Country, City, State, Postal_Code, Region, \\\n",
    "                Product_ID, Category, SubCategory, Product_Name, Sales, Quantity, Discount, Profit) \\\n",
    "                VALUES (%s, %s, %s, %s, %s, %s, %s, %s, %s, %s, \\\n",
    "                        %s, %s, %s, %s, %s, %s, %s, %s, %s, %s, %s);\", order_1)\n",
    "connect.commit() "
   ]
  },
  {
   "cell_type": "code",
   "execution_count": 36,
   "id": "54f6c878",
   "metadata": {},
   "outputs": [
    {
     "data": {
      "text/html": [
       "<div>\n",
       "<style scoped>\n",
       "    .dataframe tbody tr th:only-of-type {\n",
       "        vertical-align: middle;\n",
       "    }\n",
       "\n",
       "    .dataframe tbody tr th {\n",
       "        vertical-align: top;\n",
       "    }\n",
       "\n",
       "    .dataframe thead th {\n",
       "        text-align: right;\n",
       "    }\n",
       "</style>\n",
       "<table border=\"1\" class=\"dataframe\">\n",
       "  <thead>\n",
       "    <tr style=\"text-align: right;\">\n",
       "      <th></th>\n",
       "      <th>row_id</th>\n",
       "      <th>order_id</th>\n",
       "      <th>order_date</th>\n",
       "      <th>ship_date</th>\n",
       "      <th>ship_mode</th>\n",
       "      <th>customer_id</th>\n",
       "      <th>customer_name</th>\n",
       "      <th>segment</th>\n",
       "      <th>country</th>\n",
       "      <th>city</th>\n",
       "      <th>...</th>\n",
       "      <th>postal_code</th>\n",
       "      <th>region</th>\n",
       "      <th>product_id</th>\n",
       "      <th>category</th>\n",
       "      <th>subcategory</th>\n",
       "      <th>product_name</th>\n",
       "      <th>sales</th>\n",
       "      <th>quantity</th>\n",
       "      <th>discount</th>\n",
       "      <th>profit</th>\n",
       "    </tr>\n",
       "  </thead>\n",
       "  <tbody>\n",
       "    <tr>\n",
       "      <th>0</th>\n",
       "      <td>1</td>\n",
       "      <td>CA-2018-152156</td>\n",
       "      <td>2018-11-08</td>\n",
       "      <td>2018-11-11</td>\n",
       "      <td>Second Class</td>\n",
       "      <td>CG-12520</td>\n",
       "      <td>Claire Gute</td>\n",
       "      <td>Consumer</td>\n",
       "      <td>United States</td>\n",
       "      <td>Henderson</td>\n",
       "      <td>...</td>\n",
       "      <td>42420</td>\n",
       "      <td>South</td>\n",
       "      <td>FUR-BO-10001798</td>\n",
       "      <td>Furniture</td>\n",
       "      <td>Bookcases</td>\n",
       "      <td>Bush Somerset Collection Bookcase</td>\n",
       "      <td>261.9600</td>\n",
       "      <td>2</td>\n",
       "      <td>0.00</td>\n",
       "      <td>41.9136000000000000</td>\n",
       "    </tr>\n",
       "  </tbody>\n",
       "</table>\n",
       "<p>1 rows × 21 columns</p>\n",
       "</div>"
      ],
      "text/plain": [
       "   row_id        order_id  order_date   ship_date     ship_mode customer_id  \\\n",
       "0       1  CA-2018-152156  2018-11-08  2018-11-11  Second Class    CG-12520   \n",
       "\n",
       "  customer_name   segment        country       city  ... postal_code  region  \\\n",
       "0   Claire Gute  Consumer  United States  Henderson  ...       42420   South   \n",
       "\n",
       "        product_id   category subcategory                       product_name  \\\n",
       "0  FUR-BO-10001798  Furniture   Bookcases  Bush Somerset Collection Bookcase   \n",
       "\n",
       "      sales quantity  discount               profit  \n",
       "0  261.9600        2      0.00  41.9136000000000000  \n",
       "\n",
       "[1 rows x 21 columns]"
      ]
     },
     "execution_count": 36,
     "metadata": {},
     "output_type": "execute_result"
    }
   ],
   "source": [
    "# проверка записи данных в таблицу 'orders'\n",
    "cursor.execute(\"SELECT * FROM orders LIMIT 10;\")\n",
    "rows = cursor.fetchall()\n",
    "cursor.execute(\"SELECT column_name, ordinal_position \\\n",
    "                FROM information_schema.columns \\\n",
    "                WHERE table_name = 'orders' \\\n",
    "                ORDER BY ordinal_position;\")\n",
    "columnsname = [_[0] for _ in cursor.fetchall()]\n",
    "df = pd.DataFrame(rows, columns=columnsname)\n",
    "df"
   ]
  },
  {
   "cell_type": "code",
   "execution_count": 37,
   "id": "da9c5728",
   "metadata": {},
   "outputs": [
    {
     "data": {
      "text/plain": [
       "array([[2, 'CA-2018-152156', Timestamp('2018-11-08 00:00:00'),\n",
       "        Timestamp('2018-11-11 00:00:00'), 'Second Class', 'CG-12520',\n",
       "        'Claire Gute', 'Consumer', 'United States', 'Henderson',\n",
       "        'Kentucky', 42420.0, 'South', 'FUR-CH-10000454', 'Furniture',\n",
       "        'Chairs',\n",
       "        'Hon Deluxe Fabric Upholstered Stacking Chairs, Rounded Back',\n",
       "        731.9399999999999, 3, 0.0, 219.58199999999997],\n",
       "       [3, 'CA-2018-138688', Timestamp('2018-06-12 00:00:00'),\n",
       "        Timestamp('2018-06-16 00:00:00'), 'Second Class', 'DV-13045',\n",
       "        'Darrin Van Huff', 'Corporate', 'United States', 'Los Angeles',\n",
       "        'California', 90036.0, 'West', 'OFF-LA-10000240',\n",
       "        'Office Supplies', 'Labels',\n",
       "        'Self-Adhesive Address Labels for Typewriters by Universal',\n",
       "        14.62, 2, 0.0, 6.8713999999999995],\n",
       "       [4, 'US-2017-108966', Timestamp('2017-10-11 00:00:00'),\n",
       "        Timestamp('2017-10-18 00:00:00'), 'Standard Class', 'SO-20335',\n",
       "        \"Sean O'Donnell\", 'Consumer', 'United States', 'Fort Lauderdale',\n",
       "        'Florida', 33311.0, 'South', 'FUR-TA-10000577', 'Furniture',\n",
       "        'Tables', 'Bretford CR4500 Series Slim Rectangular Table',\n",
       "        957.5775, 5, 0.45, -383.03100000000006],\n",
       "       [5, 'US-2017-108966', Timestamp('2017-10-11 00:00:00'),\n",
       "        Timestamp('2017-10-18 00:00:00'), 'Standard Class', 'SO-20335',\n",
       "        \"Sean O'Donnell\", 'Consumer', 'United States', 'Fort Lauderdale',\n",
       "        'Florida', 33311.0, 'South', 'OFF-ST-10000760',\n",
       "        'Office Supplies', 'Storage', \"Eldon Fold 'N Roll Cart System\",\n",
       "        22.368000000000002, 2, 0.2, 2.516399999999999],\n",
       "       [6, 'CA-2016-115812', Timestamp('2016-06-09 00:00:00'),\n",
       "        Timestamp('2016-06-14 00:00:00'), 'Standard Class', 'BH-11710',\n",
       "        'Brosina Hoffman', 'Consumer', 'United States', 'Los Angeles',\n",
       "        'California', 90032.0, 'West', 'FUR-FU-10001487', 'Furniture',\n",
       "        'Furnishings',\n",
       "        'Eldon Expressions Wood and Plastic Desk Accessories, Cherry Wood',\n",
       "        48.86, 7, 0.0, 14.169399999999996],\n",
       "       [7, 'CA-2016-115812', Timestamp('2016-06-09 00:00:00'),\n",
       "        Timestamp('2016-06-14 00:00:00'), 'Standard Class', 'BH-11710',\n",
       "        'Brosina Hoffman', 'Consumer', 'United States', 'Los Angeles',\n",
       "        'California', 90032.0, 'West', 'OFF-AR-10002833',\n",
       "        'Office Supplies', 'Art', 'Newell 322', 7.28, 4, 0.0,\n",
       "        1.9656000000000002],\n",
       "       [8, 'CA-2016-115812', Timestamp('2016-06-09 00:00:00'),\n",
       "        Timestamp('2016-06-14 00:00:00'), 'Standard Class', 'BH-11710',\n",
       "        'Brosina Hoffman', 'Consumer', 'United States', 'Los Angeles',\n",
       "        'California', 90032.0, 'West', 'TEC-PH-10002275', 'Technology',\n",
       "        'Phones', 'Mitel 5320 IP Phone VoIP phone', 907.152, 6, 0.2,\n",
       "        90.71520000000004],\n",
       "       [9, 'CA-2016-115812', Timestamp('2016-06-09 00:00:00'),\n",
       "        Timestamp('2016-06-14 00:00:00'), 'Standard Class', 'BH-11710',\n",
       "        'Brosina Hoffman', 'Consumer', 'United States', 'Los Angeles',\n",
       "        'California', 90032.0, 'West', 'OFF-BI-10003910',\n",
       "        'Office Supplies', 'Binders',\n",
       "        'DXL Angle-View Binders with Locking Rings by Samsill', 18.504,\n",
       "        3, 0.2, 5.7825],\n",
       "       [10, 'CA-2016-115812', Timestamp('2016-06-09 00:00:00'),\n",
       "        Timestamp('2016-06-14 00:00:00'), 'Standard Class', 'BH-11710',\n",
       "        'Brosina Hoffman', 'Consumer', 'United States', 'Los Angeles',\n",
       "        'California', 90032.0, 'West', 'OFF-AP-10002892',\n",
       "        'Office Supplies', 'Appliances',\n",
       "        'Belkin F5C206VTEL 6 Outlet Surge', 114.9, 5, 0.0,\n",
       "        34.46999999999999],\n",
       "       [11, 'CA-2016-115812', Timestamp('2016-06-09 00:00:00'),\n",
       "        Timestamp('2016-06-14 00:00:00'), 'Standard Class', 'BH-11710',\n",
       "        'Brosina Hoffman', 'Consumer', 'United States', 'Los Angeles',\n",
       "        'California', 90032.0, 'West', 'FUR-TA-10001539', 'Furniture',\n",
       "        'Tables', 'Chromcraft Rectangular Conference Tables',\n",
       "        1706.1840000000002, 9, 0.2, 85.3091999999998]], dtype=object)"
      ]
     },
     "execution_count": 37,
     "metadata": {},
     "output_type": "execute_result"
    }
   ],
   "source": [
    "# данные для записи в таблицу 'orders'\n",
    "orders = df_orders.iloc[1:].values\n",
    "orders[:10]"
   ]
  },
  {
   "cell_type": "code",
   "execution_count": 38,
   "id": "afec949e",
   "metadata": {},
   "outputs": [],
   "source": [
    "# преобразование типа данных для записи в таблицу 'orders'\n",
    "orders[:,[0, 18]] = orders[:,[0, 18]].astype('int')"
   ]
  },
  {
   "cell_type": "code",
   "execution_count": 39,
   "id": "549d2e4e",
   "metadata": {},
   "outputs": [],
   "source": [
    "# преобразование типа данных для записи в таблицу 'orders'\n",
    "orders[:,[11, 17, 19, 20]] = orders[:,[11, 17, 19, 20]].astype('float')"
   ]
  },
  {
   "cell_type": "code",
   "execution_count": 44,
   "id": "aede2eb6",
   "metadata": {},
   "outputs": [
    {
     "data": {
      "text/plain": [
       "array([[2, 'CA-2018-152156', Timestamp('2018-11-08 00:00:00'),\n",
       "        Timestamp('2018-11-11 00:00:00'), 'Second Class', 'CG-12520',\n",
       "        'Claire Gute', 'Consumer', 'United States', 'Henderson',\n",
       "        'Kentucky', 42420.0, 'South', 'FUR-CH-10000454', 'Furniture',\n",
       "        'Chairs',\n",
       "        'Hon Deluxe Fabric Upholstered Stacking Chairs, Rounded Back',\n",
       "        731.9399999999999, 3, 0.0, 219.58199999999997],\n",
       "       [3, 'CA-2018-138688', Timestamp('2018-06-12 00:00:00'),\n",
       "        Timestamp('2018-06-16 00:00:00'), 'Second Class', 'DV-13045',\n",
       "        'Darrin Van Huff', 'Corporate', 'United States', 'Los Angeles',\n",
       "        'California', 90036.0, 'West', 'OFF-LA-10000240',\n",
       "        'Office Supplies', 'Labels',\n",
       "        'Self-Adhesive Address Labels for Typewriters by Universal',\n",
       "        14.62, 2, 0.0, 6.8713999999999995],\n",
       "       [4, 'US-2017-108966', Timestamp('2017-10-11 00:00:00'),\n",
       "        Timestamp('2017-10-18 00:00:00'), 'Standard Class', 'SO-20335',\n",
       "        \"Sean O'Donnell\", 'Consumer', 'United States', 'Fort Lauderdale',\n",
       "        'Florida', 33311.0, 'South', 'FUR-TA-10000577', 'Furniture',\n",
       "        'Tables', 'Bretford CR4500 Series Slim Rectangular Table',\n",
       "        957.5775, 5, 0.45, -383.03100000000006],\n",
       "       [5, 'US-2017-108966', Timestamp('2017-10-11 00:00:00'),\n",
       "        Timestamp('2017-10-18 00:00:00'), 'Standard Class', 'SO-20335',\n",
       "        \"Sean O'Donnell\", 'Consumer', 'United States', 'Fort Lauderdale',\n",
       "        'Florida', 33311.0, 'South', 'OFF-ST-10000760',\n",
       "        'Office Supplies', 'Storage', \"Eldon Fold 'N Roll Cart System\",\n",
       "        22.368000000000002, 2, 0.2, 2.516399999999999],\n",
       "       [6, 'CA-2016-115812', Timestamp('2016-06-09 00:00:00'),\n",
       "        Timestamp('2016-06-14 00:00:00'), 'Standard Class', 'BH-11710',\n",
       "        'Brosina Hoffman', 'Consumer', 'United States', 'Los Angeles',\n",
       "        'California', 90032.0, 'West', 'FUR-FU-10001487', 'Furniture',\n",
       "        'Furnishings',\n",
       "        'Eldon Expressions Wood and Plastic Desk Accessories, Cherry Wood',\n",
       "        48.86, 7, 0.0, 14.169399999999996],\n",
       "       [7, 'CA-2016-115812', Timestamp('2016-06-09 00:00:00'),\n",
       "        Timestamp('2016-06-14 00:00:00'), 'Standard Class', 'BH-11710',\n",
       "        'Brosina Hoffman', 'Consumer', 'United States', 'Los Angeles',\n",
       "        'California', 90032.0, 'West', 'OFF-AR-10002833',\n",
       "        'Office Supplies', 'Art', 'Newell 322', 7.28, 4, 0.0,\n",
       "        1.9656000000000002],\n",
       "       [8, 'CA-2016-115812', Timestamp('2016-06-09 00:00:00'),\n",
       "        Timestamp('2016-06-14 00:00:00'), 'Standard Class', 'BH-11710',\n",
       "        'Brosina Hoffman', 'Consumer', 'United States', 'Los Angeles',\n",
       "        'California', 90032.0, 'West', 'TEC-PH-10002275', 'Technology',\n",
       "        'Phones', 'Mitel 5320 IP Phone VoIP phone', 907.152, 6, 0.2,\n",
       "        90.71520000000004],\n",
       "       [9, 'CA-2016-115812', Timestamp('2016-06-09 00:00:00'),\n",
       "        Timestamp('2016-06-14 00:00:00'), 'Standard Class', 'BH-11710',\n",
       "        'Brosina Hoffman', 'Consumer', 'United States', 'Los Angeles',\n",
       "        'California', 90032.0, 'West', 'OFF-BI-10003910',\n",
       "        'Office Supplies', 'Binders',\n",
       "        'DXL Angle-View Binders with Locking Rings by Samsill', 18.504,\n",
       "        3, 0.2, 5.7825],\n",
       "       [10, 'CA-2016-115812', Timestamp('2016-06-09 00:00:00'),\n",
       "        Timestamp('2016-06-14 00:00:00'), 'Standard Class', 'BH-11710',\n",
       "        'Brosina Hoffman', 'Consumer', 'United States', 'Los Angeles',\n",
       "        'California', 90032.0, 'West', 'OFF-AP-10002892',\n",
       "        'Office Supplies', 'Appliances',\n",
       "        'Belkin F5C206VTEL 6 Outlet Surge', 114.9, 5, 0.0,\n",
       "        34.46999999999999],\n",
       "       [11, 'CA-2016-115812', Timestamp('2016-06-09 00:00:00'),\n",
       "        Timestamp('2016-06-14 00:00:00'), 'Standard Class', 'BH-11710',\n",
       "        'Brosina Hoffman', 'Consumer', 'United States', 'Los Angeles',\n",
       "        'California', 90032.0, 'West', 'FUR-TA-10001539', 'Furniture',\n",
       "        'Tables', 'Chromcraft Rectangular Conference Tables',\n",
       "        1706.1840000000002, 9, 0.2, 85.3091999999998]], dtype=object)"
      ]
     },
     "execution_count": 44,
     "metadata": {},
     "output_type": "execute_result"
    }
   ],
   "source": [
    "# данные для записи в таблицу 'orders'\n",
    "orders[:10]"
   ]
  },
  {
   "cell_type": "code",
   "execution_count": 45,
   "id": "f79cd064",
   "metadata": {},
   "outputs": [],
   "source": [
    "# запись данных в таблицу заказы - 'orders'\n",
    "cursor.executemany(\"INSERT INTO orders( \\\n",
    "                    Row_ID, Order_ID, Order_Date, Ship_Date, Ship_Mode, \\\n",
    "                    Customer_ID, Customer_Name, Segment, \\\n",
    "                    Country, City, State, Postal_Code, Region, \\\n",
    "                    Product_ID, Category, SubCategory, Product_Name, Sales, Quantity, Discount, Profit) \\\n",
    "                    VALUES (%s, %s, %s, %s, %s, %s, %s, %s, %s, %s, \\\n",
    "                            %s, %s, %s, %s, %s, %s, %s, %s, %s, %s, %s);\", orders)\n",
    "connect.commit() "
   ]
  },
  {
   "cell_type": "code",
   "execution_count": 46,
   "id": "85435a1b",
   "metadata": {},
   "outputs": [
    {
     "data": {
      "text/html": [
       "<div>\n",
       "<style scoped>\n",
       "    .dataframe tbody tr th:only-of-type {\n",
       "        vertical-align: middle;\n",
       "    }\n",
       "\n",
       "    .dataframe tbody tr th {\n",
       "        vertical-align: top;\n",
       "    }\n",
       "\n",
       "    .dataframe thead th {\n",
       "        text-align: right;\n",
       "    }\n",
       "</style>\n",
       "<table border=\"1\" class=\"dataframe\">\n",
       "  <thead>\n",
       "    <tr style=\"text-align: right;\">\n",
       "      <th></th>\n",
       "      <th>row_id</th>\n",
       "      <th>order_id</th>\n",
       "      <th>order_date</th>\n",
       "      <th>ship_date</th>\n",
       "      <th>ship_mode</th>\n",
       "      <th>customer_id</th>\n",
       "      <th>customer_name</th>\n",
       "      <th>segment</th>\n",
       "      <th>country</th>\n",
       "      <th>city</th>\n",
       "      <th>...</th>\n",
       "      <th>postal_code</th>\n",
       "      <th>region</th>\n",
       "      <th>product_id</th>\n",
       "      <th>category</th>\n",
       "      <th>subcategory</th>\n",
       "      <th>product_name</th>\n",
       "      <th>sales</th>\n",
       "      <th>quantity</th>\n",
       "      <th>discount</th>\n",
       "      <th>profit</th>\n",
       "    </tr>\n",
       "  </thead>\n",
       "  <tbody>\n",
       "    <tr>\n",
       "      <th>0</th>\n",
       "      <td>1</td>\n",
       "      <td>CA-2018-152156</td>\n",
       "      <td>2018-11-08</td>\n",
       "      <td>2018-11-11</td>\n",
       "      <td>Second Class</td>\n",
       "      <td>CG-12520</td>\n",
       "      <td>Claire Gute</td>\n",
       "      <td>Consumer</td>\n",
       "      <td>United States</td>\n",
       "      <td>Henderson</td>\n",
       "      <td>...</td>\n",
       "      <td>42420</td>\n",
       "      <td>South</td>\n",
       "      <td>FUR-BO-10001798</td>\n",
       "      <td>Furniture</td>\n",
       "      <td>Bookcases</td>\n",
       "      <td>Bush Somerset Collection Bookcase</td>\n",
       "      <td>261.9600</td>\n",
       "      <td>2</td>\n",
       "      <td>0.00</td>\n",
       "      <td>41.9136000000000000</td>\n",
       "    </tr>\n",
       "    <tr>\n",
       "      <th>1</th>\n",
       "      <td>2</td>\n",
       "      <td>CA-2018-152156</td>\n",
       "      <td>2018-11-08</td>\n",
       "      <td>2018-11-11</td>\n",
       "      <td>Second Class</td>\n",
       "      <td>CG-12520</td>\n",
       "      <td>Claire Gute</td>\n",
       "      <td>Consumer</td>\n",
       "      <td>United States</td>\n",
       "      <td>Henderson</td>\n",
       "      <td>...</td>\n",
       "      <td>42420</td>\n",
       "      <td>South</td>\n",
       "      <td>FUR-CH-10000454</td>\n",
       "      <td>Furniture</td>\n",
       "      <td>Chairs</td>\n",
       "      <td>Hon Deluxe Fabric Upholstered Stacking Chairs,...</td>\n",
       "      <td>731.9400</td>\n",
       "      <td>3</td>\n",
       "      <td>0.00</td>\n",
       "      <td>219.5819999999999700</td>\n",
       "    </tr>\n",
       "    <tr>\n",
       "      <th>2</th>\n",
       "      <td>3</td>\n",
       "      <td>CA-2018-138688</td>\n",
       "      <td>2018-06-12</td>\n",
       "      <td>2018-06-16</td>\n",
       "      <td>Second Class</td>\n",
       "      <td>DV-13045</td>\n",
       "      <td>Darrin Van Huff</td>\n",
       "      <td>Corporate</td>\n",
       "      <td>United States</td>\n",
       "      <td>Los Angeles</td>\n",
       "      <td>...</td>\n",
       "      <td>90036</td>\n",
       "      <td>West</td>\n",
       "      <td>OFF-LA-10000240</td>\n",
       "      <td>Office Supplies</td>\n",
       "      <td>Labels</td>\n",
       "      <td>Self-Adhesive Address Labels for Typewriters b...</td>\n",
       "      <td>14.6200</td>\n",
       "      <td>2</td>\n",
       "      <td>0.00</td>\n",
       "      <td>6.8713999999999995</td>\n",
       "    </tr>\n",
       "    <tr>\n",
       "      <th>3</th>\n",
       "      <td>4</td>\n",
       "      <td>US-2017-108966</td>\n",
       "      <td>2017-10-11</td>\n",
       "      <td>2017-10-18</td>\n",
       "      <td>Standard Class</td>\n",
       "      <td>SO-20335</td>\n",
       "      <td>Sean O'Donnell</td>\n",
       "      <td>Consumer</td>\n",
       "      <td>United States</td>\n",
       "      <td>Fort Lauderdale</td>\n",
       "      <td>...</td>\n",
       "      <td>33311</td>\n",
       "      <td>South</td>\n",
       "      <td>FUR-TA-10000577</td>\n",
       "      <td>Furniture</td>\n",
       "      <td>Tables</td>\n",
       "      <td>Bretford CR4500 Series Slim Rectangular Table</td>\n",
       "      <td>957.5775</td>\n",
       "      <td>5</td>\n",
       "      <td>0.45</td>\n",
       "      <td>-383.0310000000000600</td>\n",
       "    </tr>\n",
       "    <tr>\n",
       "      <th>4</th>\n",
       "      <td>5</td>\n",
       "      <td>US-2017-108966</td>\n",
       "      <td>2017-10-11</td>\n",
       "      <td>2017-10-18</td>\n",
       "      <td>Standard Class</td>\n",
       "      <td>SO-20335</td>\n",
       "      <td>Sean O'Donnell</td>\n",
       "      <td>Consumer</td>\n",
       "      <td>United States</td>\n",
       "      <td>Fort Lauderdale</td>\n",
       "      <td>...</td>\n",
       "      <td>33311</td>\n",
       "      <td>South</td>\n",
       "      <td>OFF-ST-10000760</td>\n",
       "      <td>Office Supplies</td>\n",
       "      <td>Storage</td>\n",
       "      <td>Eldon Fold 'N Roll Cart System</td>\n",
       "      <td>22.3680</td>\n",
       "      <td>2</td>\n",
       "      <td>0.20</td>\n",
       "      <td>2.5163999999999990</td>\n",
       "    </tr>\n",
       "    <tr>\n",
       "      <th>5</th>\n",
       "      <td>6</td>\n",
       "      <td>CA-2016-115812</td>\n",
       "      <td>2016-06-09</td>\n",
       "      <td>2016-06-14</td>\n",
       "      <td>Standard Class</td>\n",
       "      <td>BH-11710</td>\n",
       "      <td>Brosina Hoffman</td>\n",
       "      <td>Consumer</td>\n",
       "      <td>United States</td>\n",
       "      <td>Los Angeles</td>\n",
       "      <td>...</td>\n",
       "      <td>90032</td>\n",
       "      <td>West</td>\n",
       "      <td>FUR-FU-10001487</td>\n",
       "      <td>Furniture</td>\n",
       "      <td>Furnishings</td>\n",
       "      <td>Eldon Expressions Wood and Plastic Desk Access...</td>\n",
       "      <td>48.8600</td>\n",
       "      <td>7</td>\n",
       "      <td>0.00</td>\n",
       "      <td>14.1693999999999960</td>\n",
       "    </tr>\n",
       "    <tr>\n",
       "      <th>6</th>\n",
       "      <td>7</td>\n",
       "      <td>CA-2016-115812</td>\n",
       "      <td>2016-06-09</td>\n",
       "      <td>2016-06-14</td>\n",
       "      <td>Standard Class</td>\n",
       "      <td>BH-11710</td>\n",
       "      <td>Brosina Hoffman</td>\n",
       "      <td>Consumer</td>\n",
       "      <td>United States</td>\n",
       "      <td>Los Angeles</td>\n",
       "      <td>...</td>\n",
       "      <td>90032</td>\n",
       "      <td>West</td>\n",
       "      <td>OFF-AR-10002833</td>\n",
       "      <td>Office Supplies</td>\n",
       "      <td>Art</td>\n",
       "      <td>Newell 322</td>\n",
       "      <td>7.2800</td>\n",
       "      <td>4</td>\n",
       "      <td>0.00</td>\n",
       "      <td>1.9656000000000002</td>\n",
       "    </tr>\n",
       "    <tr>\n",
       "      <th>7</th>\n",
       "      <td>8</td>\n",
       "      <td>CA-2016-115812</td>\n",
       "      <td>2016-06-09</td>\n",
       "      <td>2016-06-14</td>\n",
       "      <td>Standard Class</td>\n",
       "      <td>BH-11710</td>\n",
       "      <td>Brosina Hoffman</td>\n",
       "      <td>Consumer</td>\n",
       "      <td>United States</td>\n",
       "      <td>Los Angeles</td>\n",
       "      <td>...</td>\n",
       "      <td>90032</td>\n",
       "      <td>West</td>\n",
       "      <td>TEC-PH-10002275</td>\n",
       "      <td>Technology</td>\n",
       "      <td>Phones</td>\n",
       "      <td>Mitel 5320 IP Phone VoIP phone</td>\n",
       "      <td>907.1520</td>\n",
       "      <td>6</td>\n",
       "      <td>0.20</td>\n",
       "      <td>90.7152000000000400</td>\n",
       "    </tr>\n",
       "    <tr>\n",
       "      <th>8</th>\n",
       "      <td>9</td>\n",
       "      <td>CA-2016-115812</td>\n",
       "      <td>2016-06-09</td>\n",
       "      <td>2016-06-14</td>\n",
       "      <td>Standard Class</td>\n",
       "      <td>BH-11710</td>\n",
       "      <td>Brosina Hoffman</td>\n",
       "      <td>Consumer</td>\n",
       "      <td>United States</td>\n",
       "      <td>Los Angeles</td>\n",
       "      <td>...</td>\n",
       "      <td>90032</td>\n",
       "      <td>West</td>\n",
       "      <td>OFF-BI-10003910</td>\n",
       "      <td>Office Supplies</td>\n",
       "      <td>Binders</td>\n",
       "      <td>DXL Angle-View Binders with Locking Rings by S...</td>\n",
       "      <td>18.5040</td>\n",
       "      <td>3</td>\n",
       "      <td>0.20</td>\n",
       "      <td>5.7825000000000000</td>\n",
       "    </tr>\n",
       "    <tr>\n",
       "      <th>9</th>\n",
       "      <td>10</td>\n",
       "      <td>CA-2016-115812</td>\n",
       "      <td>2016-06-09</td>\n",
       "      <td>2016-06-14</td>\n",
       "      <td>Standard Class</td>\n",
       "      <td>BH-11710</td>\n",
       "      <td>Brosina Hoffman</td>\n",
       "      <td>Consumer</td>\n",
       "      <td>United States</td>\n",
       "      <td>Los Angeles</td>\n",
       "      <td>...</td>\n",
       "      <td>90032</td>\n",
       "      <td>West</td>\n",
       "      <td>OFF-AP-10002892</td>\n",
       "      <td>Office Supplies</td>\n",
       "      <td>Appliances</td>\n",
       "      <td>Belkin F5C206VTEL 6 Outlet Surge</td>\n",
       "      <td>114.9000</td>\n",
       "      <td>5</td>\n",
       "      <td>0.00</td>\n",
       "      <td>34.4699999999999900</td>\n",
       "    </tr>\n",
       "  </tbody>\n",
       "</table>\n",
       "<p>10 rows × 21 columns</p>\n",
       "</div>"
      ],
      "text/plain": [
       "   row_id        order_id  order_date   ship_date       ship_mode customer_id  \\\n",
       "0       1  CA-2018-152156  2018-11-08  2018-11-11    Second Class    CG-12520   \n",
       "1       2  CA-2018-152156  2018-11-08  2018-11-11    Second Class    CG-12520   \n",
       "2       3  CA-2018-138688  2018-06-12  2018-06-16    Second Class    DV-13045   \n",
       "3       4  US-2017-108966  2017-10-11  2017-10-18  Standard Class    SO-20335   \n",
       "4       5  US-2017-108966  2017-10-11  2017-10-18  Standard Class    SO-20335   \n",
       "5       6  CA-2016-115812  2016-06-09  2016-06-14  Standard Class    BH-11710   \n",
       "6       7  CA-2016-115812  2016-06-09  2016-06-14  Standard Class    BH-11710   \n",
       "7       8  CA-2016-115812  2016-06-09  2016-06-14  Standard Class    BH-11710   \n",
       "8       9  CA-2016-115812  2016-06-09  2016-06-14  Standard Class    BH-11710   \n",
       "9      10  CA-2016-115812  2016-06-09  2016-06-14  Standard Class    BH-11710   \n",
       "\n",
       "     customer_name    segment        country             city  ...  \\\n",
       "0      Claire Gute   Consumer  United States        Henderson  ...   \n",
       "1      Claire Gute   Consumer  United States        Henderson  ...   \n",
       "2  Darrin Van Huff  Corporate  United States      Los Angeles  ...   \n",
       "3   Sean O'Donnell   Consumer  United States  Fort Lauderdale  ...   \n",
       "4   Sean O'Donnell   Consumer  United States  Fort Lauderdale  ...   \n",
       "5  Brosina Hoffman   Consumer  United States      Los Angeles  ...   \n",
       "6  Brosina Hoffman   Consumer  United States      Los Angeles  ...   \n",
       "7  Brosina Hoffman   Consumer  United States      Los Angeles  ...   \n",
       "8  Brosina Hoffman   Consumer  United States      Los Angeles  ...   \n",
       "9  Brosina Hoffman   Consumer  United States      Los Angeles  ...   \n",
       "\n",
       "  postal_code  region       product_id         category  subcategory  \\\n",
       "0       42420   South  FUR-BO-10001798        Furniture    Bookcases   \n",
       "1       42420   South  FUR-CH-10000454        Furniture       Chairs   \n",
       "2       90036    West  OFF-LA-10000240  Office Supplies       Labels   \n",
       "3       33311   South  FUR-TA-10000577        Furniture       Tables   \n",
       "4       33311   South  OFF-ST-10000760  Office Supplies      Storage   \n",
       "5       90032    West  FUR-FU-10001487        Furniture  Furnishings   \n",
       "6       90032    West  OFF-AR-10002833  Office Supplies          Art   \n",
       "7       90032    West  TEC-PH-10002275       Technology       Phones   \n",
       "8       90032    West  OFF-BI-10003910  Office Supplies      Binders   \n",
       "9       90032    West  OFF-AP-10002892  Office Supplies   Appliances   \n",
       "\n",
       "                                        product_name     sales quantity  \\\n",
       "0                  Bush Somerset Collection Bookcase  261.9600        2   \n",
       "1  Hon Deluxe Fabric Upholstered Stacking Chairs,...  731.9400        3   \n",
       "2  Self-Adhesive Address Labels for Typewriters b...   14.6200        2   \n",
       "3      Bretford CR4500 Series Slim Rectangular Table  957.5775        5   \n",
       "4                     Eldon Fold 'N Roll Cart System   22.3680        2   \n",
       "5  Eldon Expressions Wood and Plastic Desk Access...   48.8600        7   \n",
       "6                                         Newell 322    7.2800        4   \n",
       "7                     Mitel 5320 IP Phone VoIP phone  907.1520        6   \n",
       "8  DXL Angle-View Binders with Locking Rings by S...   18.5040        3   \n",
       "9                   Belkin F5C206VTEL 6 Outlet Surge  114.9000        5   \n",
       "\n",
       "   discount                 profit  \n",
       "0      0.00    41.9136000000000000  \n",
       "1      0.00   219.5819999999999700  \n",
       "2      0.00     6.8713999999999995  \n",
       "3      0.45  -383.0310000000000600  \n",
       "4      0.20     2.5163999999999990  \n",
       "5      0.00    14.1693999999999960  \n",
       "6      0.00     1.9656000000000002  \n",
       "7      0.20    90.7152000000000400  \n",
       "8      0.20     5.7825000000000000  \n",
       "9      0.00    34.4699999999999900  \n",
       "\n",
       "[10 rows x 21 columns]"
      ]
     },
     "execution_count": 46,
     "metadata": {},
     "output_type": "execute_result"
    }
   ],
   "source": [
    "# проверка записи данных в таблицу 'orders'\n",
    "cursor.execute(\"SELECT * FROM orders LIMIT 10;\")\n",
    "rows = cursor.fetchall()\n",
    "cursor.execute(\"SELECT column_name, ordinal_position \\\n",
    "                FROM information_schema.columns \\\n",
    "                WHERE table_name = 'orders' \\\n",
    "                ORDER BY ordinal_position;\")\n",
    "columnsname = [_[0] for _ in cursor.fetchall()]\n",
    "df = pd.DataFrame(rows, columns=columnsname)\n",
    "df"
   ]
  },
  {
   "cell_type": "code",
   "execution_count": 47,
   "id": "6b01ee5f",
   "metadata": {},
   "outputs": [
    {
     "name": "stdout",
     "output_type": "stream",
     "text": [
      "[(9993,)] (9993, 21)\n"
     ]
    }
   ],
   "source": [
    "# проверка записи данных в таблицу 'orders'\n",
    "cursor.execute(\"SELECT count(*) FROM orders;\")\n",
    "print(cursor.fetchall(), df_orders.shape)"
   ]
  },
  {
   "cell_type": "markdown",
   "id": "fbcfec79",
   "metadata": {},
   "source": [
    "Данные в таблицу **'orders'** записаны **успешно**"
   ]
  },
  {
   "cell_type": "markdown",
   "id": "f751e1b5",
   "metadata": {},
   "source": [
    "### 3.2. Таблица заказы - 'people'"
   ]
  },
  {
   "cell_type": "code",
   "execution_count": 48,
   "id": "83087490",
   "metadata": {},
   "outputs": [
    {
     "name": "stdout",
     "output_type": "stream",
     "text": [
      "['person', 'region']\n"
     ]
    }
   ],
   "source": [
    "# значение атрибутов в таблице 'people'\n",
    "cursor.execute(\"SELECT column_name \\\n",
    "             FROM information_schema.columns \\\n",
    "             WHERE table_name = 'people';\")\n",
    "columnsname = [_[0] for _ in cursor.fetchall()]\n",
    "print(columnsname)"
   ]
  },
  {
   "cell_type": "code",
   "execution_count": 49,
   "id": "d839073f",
   "metadata": {},
   "outputs": [
    {
     "data": {
      "text/plain": [
       "Index(['Person', 'Region'], dtype='object')"
      ]
     },
     "execution_count": 49,
     "metadata": {},
     "output_type": "execute_result"
    }
   ],
   "source": [
    "# значение атрибутов в исходном файле 'Sample - Superstore.xls'\n",
    "df_people.columns"
   ]
  },
  {
   "cell_type": "code",
   "execution_count": 50,
   "id": "8f9db7a6",
   "metadata": {},
   "outputs": [
    {
     "data": {
      "text/plain": [
       "array([['Anna Andreadi', 'West'],\n",
       "       ['Chuck Magee', 'East'],\n",
       "       ['Kelly Williams', 'Central'],\n",
       "       ['Cassandra Brandow', 'South']], dtype=object)"
      ]
     },
     "execution_count": 50,
     "metadata": {},
     "output_type": "execute_result"
    }
   ],
   "source": [
    "# данные для записи в таблицу 'people'\n",
    "people = df_people.values\n",
    "people"
   ]
  },
  {
   "cell_type": "code",
   "execution_count": 51,
   "id": "eafdd850",
   "metadata": {},
   "outputs": [],
   "source": [
    "# запись данных в таблицу заказы - 'people' \n",
    "cursor.executemany(\"INSERT INTO people( \\\n",
    "                    Person, Region) \\\n",
    "                    VALUES (%s, %s);\", people)\n",
    "connect.commit() "
   ]
  },
  {
   "cell_type": "code",
   "execution_count": 52,
   "id": "70669814",
   "metadata": {},
   "outputs": [
    {
     "data": {
      "text/html": [
       "<div>\n",
       "<style scoped>\n",
       "    .dataframe tbody tr th:only-of-type {\n",
       "        vertical-align: middle;\n",
       "    }\n",
       "\n",
       "    .dataframe tbody tr th {\n",
       "        vertical-align: top;\n",
       "    }\n",
       "\n",
       "    .dataframe thead th {\n",
       "        text-align: right;\n",
       "    }\n",
       "</style>\n",
       "<table border=\"1\" class=\"dataframe\">\n",
       "  <thead>\n",
       "    <tr style=\"text-align: right;\">\n",
       "      <th></th>\n",
       "      <th>person</th>\n",
       "      <th>region</th>\n",
       "    </tr>\n",
       "  </thead>\n",
       "  <tbody>\n",
       "    <tr>\n",
       "      <th>0</th>\n",
       "      <td>Anna Andreadi</td>\n",
       "      <td>West</td>\n",
       "    </tr>\n",
       "    <tr>\n",
       "      <th>1</th>\n",
       "      <td>Chuck Magee</td>\n",
       "      <td>East</td>\n",
       "    </tr>\n",
       "    <tr>\n",
       "      <th>2</th>\n",
       "      <td>Kelly Williams</td>\n",
       "      <td>Central</td>\n",
       "    </tr>\n",
       "    <tr>\n",
       "      <th>3</th>\n",
       "      <td>Cassandra Brandow</td>\n",
       "      <td>South</td>\n",
       "    </tr>\n",
       "  </tbody>\n",
       "</table>\n",
       "</div>"
      ],
      "text/plain": [
       "              person   region\n",
       "0      Anna Andreadi     West\n",
       "1        Chuck Magee     East\n",
       "2     Kelly Williams  Central\n",
       "3  Cassandra Brandow    South"
      ]
     },
     "execution_count": 52,
     "metadata": {},
     "output_type": "execute_result"
    }
   ],
   "source": [
    "# проверка записи данных в таблицу 'people'\n",
    "cursor.execute(\"SELECT * FROM people LIMIT 10;\")\n",
    "rows = cursor.fetchall()\n",
    "cursor.execute(\"SELECT column_name, ordinal_position \\\n",
    "                FROM information_schema.columns \\\n",
    "                WHERE table_name = 'people' \\\n",
    "                ORDER BY ordinal_position;\")\n",
    "columnsname = [_[0] for _ in cursor.fetchall()]\n",
    "df = pd.DataFrame(rows, columns=columnsname)\n",
    "df"
   ]
  },
  {
   "cell_type": "markdown",
   "id": "29a6ef09",
   "metadata": {},
   "source": [
    "Данные в таблицу **'people'** записаны **успешно**"
   ]
  },
  {
   "cell_type": "markdown",
   "id": "6026feca",
   "metadata": {},
   "source": [
    "### 3.3. Таблица заказы - 'returns'"
   ]
  },
  {
   "cell_type": "code",
   "execution_count": 53,
   "id": "98dce834",
   "metadata": {},
   "outputs": [
    {
     "name": "stdout",
     "output_type": "stream",
     "text": [
      "['returned', 'order_id']\n"
     ]
    }
   ],
   "source": [
    "# значение атрибутов в таблице 'returns'\n",
    "cursor.execute(\"SELECT column_name \\\n",
    "             FROM information_schema.columns \\\n",
    "             WHERE table_name = 'returns';\")\n",
    "columnsname = [_[0] for _ in cursor.fetchall()]\n",
    "print(columnsname)"
   ]
  },
  {
   "cell_type": "code",
   "execution_count": 54,
   "id": "f4f239db",
   "metadata": {},
   "outputs": [
    {
     "data": {
      "text/plain": [
       "Index(['Returned', 'Order ID'], dtype='object')"
      ]
     },
     "execution_count": 54,
     "metadata": {},
     "output_type": "execute_result"
    }
   ],
   "source": [
    "# значение атрибутов в исходном файле 'Sample - Superstore.xls'\n",
    "df_returns.columns"
   ]
  },
  {
   "cell_type": "code",
   "execution_count": 55,
   "id": "bd604689",
   "metadata": {},
   "outputs": [
    {
     "data": {
      "text/plain": [
       "array([['Yes', 'CA-2016-100762'],\n",
       "       ['Yes', 'CA-2016-100867'],\n",
       "       ['Yes', 'CA-2016-102652'],\n",
       "       ['Yes', 'CA-2016-103373'],\n",
       "       ['Yes', 'CA-2016-103744'],\n",
       "       ['Yes', 'CA-2016-103940'],\n",
       "       ['Yes', 'CA-2016-104829'],\n",
       "       ['Yes', 'CA-2016-105270'],\n",
       "       ['Yes', 'CA-2016-108609'],\n",
       "       ['Yes', 'CA-2016-108861']], dtype=object)"
      ]
     },
     "execution_count": 55,
     "metadata": {},
     "output_type": "execute_result"
    }
   ],
   "source": [
    "# данные для записи в таблицу 'returns'\n",
    "returns = df_returns.values\n",
    "returns[:10]"
   ]
  },
  {
   "cell_type": "code",
   "execution_count": 56,
   "id": "012d47ab",
   "metadata": {},
   "outputs": [],
   "source": [
    "# запись данных в таблицу заказы - 'returns' \n",
    "cursor.executemany(\"INSERT INTO returns( \\\n",
    "                    Returned, Order_ID) \\\n",
    "                    VALUES (%s, %s);\", returns)\n",
    "connect.commit() "
   ]
  },
  {
   "cell_type": "code",
   "execution_count": 57,
   "id": "267529cc",
   "metadata": {},
   "outputs": [
    {
     "data": {
      "text/html": [
       "<div>\n",
       "<style scoped>\n",
       "    .dataframe tbody tr th:only-of-type {\n",
       "        vertical-align: middle;\n",
       "    }\n",
       "\n",
       "    .dataframe tbody tr th {\n",
       "        vertical-align: top;\n",
       "    }\n",
       "\n",
       "    .dataframe thead th {\n",
       "        text-align: right;\n",
       "    }\n",
       "</style>\n",
       "<table border=\"1\" class=\"dataframe\">\n",
       "  <thead>\n",
       "    <tr style=\"text-align: right;\">\n",
       "      <th></th>\n",
       "      <th>returned</th>\n",
       "      <th>order_id</th>\n",
       "    </tr>\n",
       "  </thead>\n",
       "  <tbody>\n",
       "    <tr>\n",
       "      <th>0</th>\n",
       "      <td>Yes</td>\n",
       "      <td>CA-2016-100762</td>\n",
       "    </tr>\n",
       "    <tr>\n",
       "      <th>1</th>\n",
       "      <td>Yes</td>\n",
       "      <td>CA-2016-100867</td>\n",
       "    </tr>\n",
       "    <tr>\n",
       "      <th>2</th>\n",
       "      <td>Yes</td>\n",
       "      <td>CA-2016-102652</td>\n",
       "    </tr>\n",
       "    <tr>\n",
       "      <th>3</th>\n",
       "      <td>Yes</td>\n",
       "      <td>CA-2016-103373</td>\n",
       "    </tr>\n",
       "    <tr>\n",
       "      <th>4</th>\n",
       "      <td>Yes</td>\n",
       "      <td>CA-2016-103744</td>\n",
       "    </tr>\n",
       "    <tr>\n",
       "      <th>5</th>\n",
       "      <td>Yes</td>\n",
       "      <td>CA-2016-103940</td>\n",
       "    </tr>\n",
       "    <tr>\n",
       "      <th>6</th>\n",
       "      <td>Yes</td>\n",
       "      <td>CA-2016-104829</td>\n",
       "    </tr>\n",
       "    <tr>\n",
       "      <th>7</th>\n",
       "      <td>Yes</td>\n",
       "      <td>CA-2016-105270</td>\n",
       "    </tr>\n",
       "    <tr>\n",
       "      <th>8</th>\n",
       "      <td>Yes</td>\n",
       "      <td>CA-2016-108609</td>\n",
       "    </tr>\n",
       "    <tr>\n",
       "      <th>9</th>\n",
       "      <td>Yes</td>\n",
       "      <td>CA-2016-108861</td>\n",
       "    </tr>\n",
       "  </tbody>\n",
       "</table>\n",
       "</div>"
      ],
      "text/plain": [
       "  returned        order_id\n",
       "0      Yes  CA-2016-100762\n",
       "1      Yes  CA-2016-100867\n",
       "2      Yes  CA-2016-102652\n",
       "3      Yes  CA-2016-103373\n",
       "4      Yes  CA-2016-103744\n",
       "5      Yes  CA-2016-103940\n",
       "6      Yes  CA-2016-104829\n",
       "7      Yes  CA-2016-105270\n",
       "8      Yes  CA-2016-108609\n",
       "9      Yes  CA-2016-108861"
      ]
     },
     "execution_count": 57,
     "metadata": {},
     "output_type": "execute_result"
    }
   ],
   "source": [
    "# проверка записи данных в таблицу 'returns'\n",
    "cursor.execute(\"SELECT * FROM returns LIMIT 10;\")\n",
    "rows = cursor.fetchall()\n",
    "cursor.execute(\"SELECT column_name, ordinal_position \\\n",
    "                FROM information_schema.columns \\\n",
    "                WHERE table_name = 'returns' \\\n",
    "                ORDER BY ordinal_position;\")\n",
    "columnsname = [_[0] for _ in cursor.fetchall()]\n",
    "df = pd.DataFrame(rows, columns=columnsname)\n",
    "df"
   ]
  },
  {
   "cell_type": "code",
   "execution_count": 58,
   "id": "606293df",
   "metadata": {},
   "outputs": [
    {
     "name": "stdout",
     "output_type": "stream",
     "text": [
      "[(296,)] (296, 2)\n"
     ]
    }
   ],
   "source": [
    "# проверка записи данных в таблицу 'returns'\n",
    "cursor.execute(\"SELECT count(*) FROM returns;\")\n",
    "print(cursor.fetchall(), df_returns.shape)"
   ]
  },
  {
   "cell_type": "markdown",
   "id": "c263901f",
   "metadata": {},
   "source": [
    "Данные в таблицу **'returns'** записаны **успешно**"
   ]
  },
  {
   "cell_type": "code",
   "execution_count": 59,
   "id": "822acde7",
   "metadata": {},
   "outputs": [],
   "source": [
    "# закрытие подключения к базе данных 'postgres'\n",
    "connect.close()"
   ]
  },
  {
   "cell_type": "code",
   "execution_count": null,
   "id": "c7f5dd71",
   "metadata": {},
   "outputs": [],
   "source": []
  }
 ],
 "metadata": {
  "kernelspec": {
   "display_name": "Python 3 (ipykernel)",
   "language": "python",
   "name": "python3"
  },
  "language_info": {
   "codemirror_mode": {
    "name": "ipython",
    "version": 3
   },
   "file_extension": ".py",
   "mimetype": "text/x-python",
   "name": "python",
   "nbconvert_exporter": "python",
   "pygments_lexer": "ipython3",
   "version": "3.9.12"
  }
 },
 "nbformat": 4,
 "nbformat_minor": 5
}
